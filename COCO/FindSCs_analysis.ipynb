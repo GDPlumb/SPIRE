{
 "cells": [
  {
   "cell_type": "code",
   "execution_count": 1,
   "metadata": {
    "scrolled": true
   },
   "outputs": [],
   "source": [
    "import json \n",
    "import matplotlib.pyplot as plt\n",
    "import os\n",
    "\n",
    "from Config import get_data_dir\n"
   ]
  },
  {
   "cell_type": "code",
   "execution_count": 2,
   "metadata": {
    "scrolled": true
   },
   "outputs": [],
   "source": [
    "results_dir = './FindSCs'\n",
    "\n",
    "results = {}\n",
    "for file in os.listdir(results_dir):\n",
    "    with open('{}/{}'.format(results_dir, file)) as f:\n",
    "        data = json.load(f)\n",
    "        results[file.split('.')[0]] = data['cf_score']"
   ]
  },
  {
   "cell_type": "code",
   "execution_count": 3,
   "metadata": {},
   "outputs": [
    {
     "data": {
      "image/png": "[encoded data removed]",
      "text/plain": [
       "<Figure size 432x288 with 1 Axes>"
      ]
     },
     "metadata": {
      "needs_background": "light"
     },
     "output_type": "display_data"
    }
   ],
   "source": [
    "# Raw results\n",
    "\n",
    "values = [results[key] for key in results]\n",
    "plt.hist(values)\n",
    "plt.show()\n",
    "plt.close()"
   ]
  },
  {
   "cell_type": "code",
   "execution_count": 4,
   "metadata": {},
   "outputs": [
    {
     "data": {
      "image/png": "[encoded data removed]",
      "text/plain": [
       "<Figure size 432x288 with 1 Axes>"
      ]
     },
     "metadata": {
      "needs_background": "light"
     },
     "output_type": "display_data"
    }
   ],
   "source": [
    "# Drop the pairs that we did not have enough data for\n",
    "\n",
    "keys = [key for key in results if results[key] != -1]\n",
    "\n",
    "values = [results[key] for key in keys]\n",
    "plt.hist(values)\n",
    "plt.show()\n",
    "plt.close()"
   ]
  },
  {
   "cell_type": "code",
   "execution_count": 5,
   "metadata": {},
   "outputs": [],
   "source": [
    "def group(keys):\n",
    "    m_dict = {}\n",
    "    s_dict = {}\n",
    "    for key in keys:\n",
    "        objs = key.split('-')\n",
    "        main = objs[0]\n",
    "        spurious = objs[1]\n",
    "        \n",
    "        if main in m_dict:\n",
    "            m_dict[main].append(key)\n",
    "        else:\n",
    "            m_dict[main] = [key]\n",
    "            \n",
    "        if spurious in s_dict:\n",
    "            s_dict[spurious].append(key)\n",
    "        else:\n",
    "            s_dict[spurious] = [key]     \n",
    "    return m_dict, s_dict"
   ]
  },
  {
   "cell_type": "code",
   "execution_count": 6,
   "metadata": {},
   "outputs": [
    {
     "name": "stdout",
     "output_type": "stream",
     "text": [
      "29 26 7\n"
     ]
    },
    {
     "data": {
      "image/png": "[encoded data removed]",
      "text/plain": [
       "<Figure size 432x288 with 1 Axes>"
      ]
     },
     "metadata": {
      "needs_background": "light"
     },
     "output_type": "display_data"
    }
   ],
   "source": [
    "# Filter for a minimum CV Score\n",
    "\n",
    "keys = [key for key in results if results[key] >= 0.40]\n",
    "\n",
    "m_dict, s_dict = group(keys)\n",
    "print(len(keys), len(m_dict), len(s_dict))\n",
    "\n",
    "values = [results[key] for key in keys]\n",
    "plt.hist(values)\n",
    "plt.show()\n",
    "plt.close()"
   ]
  },
  {
   "cell_type": "code",
   "execution_count": 7,
   "metadata": {},
   "outputs": [
    {
     "name": "stdout",
     "output_type": "stream",
     "text": [
      "cell+phone-person\n",
      "handbag-person\n",
      "bench-elephant\n",
      "truck-airplane\n",
      "sandwich-dining+table\n",
      "dog-sheep\n",
      "donut-person\n",
      "tie-cat\n",
      "tie-person\n",
      "couch-person\n",
      "hair+drier-person\n",
      "hot+dog-person\n",
      "knife-person\n",
      "knife-dining+table\n",
      "tennis+racket-person\n",
      "fork-dining+table\n",
      "frisbee-person\n",
      "frisbee-dog\n",
      "spoon-dining+table\n",
      "skateboard-person\n",
      "baseball+glove-person\n",
      "baseball+bat-person\n",
      "bird-sheep\n",
      "snowboard-person\n",
      "bowl-dining+table\n",
      "remote-person\n",
      "sports+ball-person\n",
      "skis-person\n",
      "toothbrush-person\n"
     ]
    }
   ],
   "source": [
    "# What pairs have we identified?\n",
    "pairs = []\n",
    "for m in m_dict:\n",
    "    for pair in m_dict[m]:\n",
    "        print(pair)\n",
    "        pairs.append(pair)\n",
    "\n",
    "# Save\n",
    "with open('./FindSCs.json', 'w') as f:\n",
    "    json.dump(pairs, f)"
   ]
  },
  {
   "cell_type": "code",
   "execution_count": 8,
   "metadata": {
    "scrolled": false
   },
   "outputs": [
    {
     "name": "stdout",
     "output_type": "stream",
     "text": [
      "handbag-person-just_main\n",
      "bench-elephant-both\n",
      "truck-airplane-both\n",
      "dog-sheep-both\n",
      "tie-cat-both\n",
      "tie-person-just_main\n",
      "hair+drier-person-both\n",
      "hair+drier-person-just_main\n",
      "hot+dog-person-just_main\n",
      "tennis+racket-person-just_main\n",
      "frisbee-person-just_main\n",
      "frisbee-dog-both\n",
      "skateboard-person-just_main\n",
      "baseball+glove-person-just_main\n",
      "baseball+bat-person-just_main\n",
      "bird-sheep-both\n",
      "snowboard-person-just_main\n",
      "sports+ball-person-just_main\n",
      "skis-person-just_main\n",
      "toothbrush-person-both\n",
      "toothbrush-person-just_main\n"
     ]
    }
   ],
   "source": [
    "# Find which pairs require us to go and find more data    \n",
    "for pair in pairs:\n",
    "    \n",
    "    with open('{}/val/splits/{}.json'.format(get_data_dir(), pair), 'r') as f:\n",
    "        splits = json.load(f)\n",
    "        \n",
    "    for key in splits:\n",
    "        if len(splits[key]) < 25:\n",
    "            print('{}-{}'.format(pair, key))\n"
   ]
  },
  {
   "cell_type": "code",
   "execution_count": null,
   "metadata": {},
   "outputs": [],
   "source": []
  }
 ],
 "metadata": {
  "kernelspec": {
   "display_name": "Python [conda env:countervision]",
   "language": "python",
   "name": "conda-env-countervision-py"
  },
  "language_info": {
   "codemirror_mode": {
    "name": "ipython",
    "version": 3
   },
   "file_extension": ".py",
   "mimetype": "text/x-python",
   "name": "python",
   "nbconvert_exporter": "python",
   "pygments_lexer": "ipython3",
   "version": "3.7.9"
  }
 },
 "nbformat": 4,
 "nbformat_minor": 4
}
