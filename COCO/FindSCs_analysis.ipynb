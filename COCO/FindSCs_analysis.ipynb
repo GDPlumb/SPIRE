{
 "cells": [
  {
   "cell_type": "code",
   "execution_count": 1,
   "metadata": {
    "scrolled": true
   },
   "outputs": [],
   "source": [
    "import json \n",
    "import matplotlib.pyplot as plt\n",
    "import numpy as np\n",
    "import os\n",
    "import pandas as pd\n",
    "\n",
    "from Config import get_data_dir\n"
   ]
  },
  {
   "cell_type": "code",
   "execution_count": 2,
   "metadata": {
    "scrolled": true
   },
   "outputs": [],
   "source": [
    "results_dir = './FindSCs'\n",
    "\n",
    "results = {}\n",
    "for file in os.listdir(results_dir):\n",
    "    with open('{}/{}'.format(results_dir, file)) as f:\n",
    "        data = json.load(f)\n",
    "        results[file.split('.')[0]] = data['cf_score']"
   ]
  },
  {
   "cell_type": "code",
   "execution_count": 3,
   "metadata": {},
   "outputs": [
    {
     "data": {
      "image/png": "[encoded data removed]",
      "text/plain": [
       "<Figure size 432x288 with 1 Axes>"
      ]
     },
     "metadata": {
      "needs_background": "light"
     },
     "output_type": "display_data"
    }
   ],
   "source": [
    "# Raw results\n",
    "\n",
    "values = [results[key] for key in results]\n",
    "plt.hist(values)\n",
    "plt.show()\n",
    "plt.close()"
   ]
  },
  {
   "cell_type": "code",
   "execution_count": 4,
   "metadata": {},
   "outputs": [
    {
     "data": {
      "image/png": "[encoded data removed]",
      "text/plain": [
       "<Figure size 432x288 with 1 Axes>"
      ]
     },
     "metadata": {
      "needs_background": "light"
     },
     "output_type": "display_data"
    }
   ],
   "source": [
    "# Drop the pairs that we did not have enough data for\n",
    "\n",
    "keys = [key for key in results if results[key] != -1]\n",
    "\n",
    "values = [results[key] for key in keys]\n",
    "plt.hist(values)\n",
    "plt.show()\n",
    "plt.close()"
   ]
  },
  {
   "cell_type": "code",
   "execution_count": 5,
   "metadata": {},
   "outputs": [],
   "source": [
    "def group(keys):\n",
    "    m_dict = {}\n",
    "    s_dict = {}\n",
    "    for key in keys:\n",
    "        objs = key.split('-')\n",
    "        main = objs[0]\n",
    "        spurious = objs[1]\n",
    "        \n",
    "        if main in m_dict:\n",
    "            m_dict[main].append(key)\n",
    "        else:\n",
    "            m_dict[main] = [key]\n",
    "            \n",
    "        if spurious in s_dict:\n",
    "            s_dict[spurious].append(key)\n",
    "        else:\n",
    "            s_dict[spurious] = [key]     \n",
    "    return m_dict, s_dict"
   ]
  },
  {
   "cell_type": "code",
   "execution_count": 6,
   "metadata": {},
   "outputs": [
    {
     "name": "stdout",
     "output_type": "stream",
     "text": [
      "29 26 7\n"
     ]
    },
    {
     "data": {
      "image/png": "[encoded data removed]",
      "text/plain": [
       "<Figure size 432x288 with 1 Axes>"
      ]
     },
     "metadata": {
      "needs_background": "light"
     },
     "output_type": "display_data"
    }
   ],
   "source": [
    "# Filter for a minimum CV Score\n",
    "\n",
    "keys = [key for key in results if results[key] >= 0.40]\n",
    "\n",
    "m_dict, s_dict = group(keys)\n",
    "print(len(keys), len(m_dict), len(s_dict))\n",
    "\n",
    "values = [results[key] for key in keys]\n",
    "plt.hist(values)\n",
    "plt.show()\n",
    "plt.close()"
   ]
  },
  {
   "cell_type": "code",
   "execution_count": 7,
   "metadata": {},
   "outputs": [
    {
     "name": "stdout",
     "output_type": "stream",
     "text": [
      "cell+phone-person\n",
      "handbag-person\n",
      "bench-elephant\n",
      "truck-airplane\n",
      "sandwich-dining+table\n",
      "dog-sheep\n",
      "donut-person\n",
      "tie-cat\n",
      "tie-person\n",
      "couch-person\n",
      "hair+drier-person\n",
      "hot+dog-person\n",
      "knife-person\n",
      "knife-dining+table\n",
      "tennis+racket-person\n",
      "fork-dining+table\n",
      "frisbee-person\n",
      "frisbee-dog\n",
      "spoon-dining+table\n",
      "skateboard-person\n",
      "baseball+glove-person\n",
      "baseball+bat-person\n",
      "bird-sheep\n",
      "snowboard-person\n",
      "bowl-dining+table\n",
      "remote-person\n",
      "sports+ball-person\n",
      "skis-person\n",
      "toothbrush-person\n"
     ]
    }
   ],
   "source": [
    "# What pairs have we identified?\n",
    "pairs = []\n",
    "for m in m_dict:\n",
    "    for pair in m_dict[m]:\n",
    "        print(pair)\n",
    "        pairs.append(pair)\n",
    "\n",
    "# Save\n",
    "with open('./FindSCs.json', 'w') as f:\n",
    "    json.dump(pairs, f)"
   ]
  },
  {
   "cell_type": "code",
   "execution_count": 8,
   "metadata": {
    "scrolled": false
   },
   "outputs": [
    {
     "name": "stdout",
     "output_type": "stream",
     "text": [
      "handbag-person-just_main\n",
      "bench-elephant-both\n",
      "truck-airplane-both\n",
      "dog-sheep-both\n",
      "tie-cat-both\n",
      "tie-person-just_main\n",
      "hair+drier-person-both\n",
      "hair+drier-person-just_main\n",
      "hot+dog-person-just_main\n",
      "tennis+racket-person-just_main\n",
      "frisbee-person-just_main\n",
      "frisbee-dog-both\n",
      "skateboard-person-just_main\n",
      "baseball+glove-person-just_main\n",
      "baseball+bat-person-just_main\n",
      "bird-sheep-both\n",
      "snowboard-person-just_main\n",
      "sports+ball-person-just_main\n",
      "skis-person-just_main\n",
      "toothbrush-person-both\n",
      "toothbrush-person-just_main\n"
     ]
    }
   ],
   "source": [
    "# Find which pairs require us to go and find more data    \n",
    "for pair in pairs:\n",
    "    \n",
    "    with open('{}/val/splits/{}.json'.format(get_data_dir(), pair), 'r') as f:\n",
    "        splits = json.load(f)\n",
    "        \n",
    "    for key in splits:\n",
    "        if len(splits[key]) < 25:\n",
    "            print('{}-{}'.format(pair, key))\n"
   ]
  },
  {
   "cell_type": "code",
   "execution_count": 9,
   "metadata": {},
   "outputs": [],
   "source": [
    "\n",
    "out = {}\n",
    "out['Main'] = []\n",
    "out['Spurious'] = []\n",
    "out['P(Main)'] = []\n",
    "out['P(Spurious)'] = []\n",
    "out['P(Spurious|Main)'] = []\n",
    "out['bias'] = []\n",
    "for pair in pairs:\n",
    "    with open('{}/train/splits/{}.json'.format(get_data_dir(), pair), 'r') as f:\n",
    "        splits = json.load(f)\n",
    "        \n",
    "    for key in splits:\n",
    "        splits[key] = len(splits[key])\n",
    "        \n",
    "    n = sum(splits[v] for v in splits)\n",
    "    \n",
    "    out['Main'].append(pair.split('-')[0].replace('+', ' '))\n",
    "    out['Spurious'].append(pair.split('-')[1].replace('+', ' '))\n",
    "    out['P(Main)'].append((splits['both'] + splits['just_main']) / n)\n",
    "    s =  (splits['both'] + splits['just_spurious']) / n\n",
    "    out['P(Spurious)'].append(s)\n",
    "    s_m = splits['both'] / (splits['both'] + splits['just_main'])\n",
    "    out['P(Spurious|Main)'].append(s_m)\n",
    "    out['bias'].append((s_m - s) / s)\n",
    "    \n",
    "df = pd.DataFrame.from_dict(out, orient = 'columns')\n",
    "\n",
    "df = df.sort_values(by = ['bias'])\n",
    "\n",
    "df = df.round(3)\n",
    "\n",
    "df.to_csv('FindSCs.csv', index = False)\n",
    "    "
   ]
  },
  {
   "cell_type": "code",
   "execution_count": 10,
   "metadata": {},
   "outputs": [
    {
     "data": {
      "image/png": "[encoded data removed]",
      "text/plain": [
       "<Figure size 1080x360 with 3 Axes>"
      ]
     },
     "metadata": {
      "needs_background": "light"
     },
     "output_type": "display_data"
    },
    {
     "name": "stdout",
     "output_type": "stream",
     "text": [
      "0.07467141260739057\n"
     ]
    }
   ],
   "source": [
    "\n",
    "with open('./Models/initial-tune/trial0/results.json', 'r') as f:\n",
    "    results = json.load(f)\n",
    "\n",
    "out['tp'] = []\n",
    "out['fp'] = []\n",
    "out['norm'] = []\n",
    "for i, pair in enumerate(pairs):\n",
    "    \n",
    "    both = results['{}-both'.format(pair)]\n",
    "    just_main = results['{}-just_main'.format(pair)]\n",
    "    just_spurious = results['{}-just_spurious'.format(pair)]\n",
    "    neither = results['{}-neither'.format(pair)]\n",
    "    \n",
    "    out['tp'].append(both - just_main)\n",
    "    \n",
    "    out['fp'].append(neither - just_spurious)\n",
    "    \n",
    "    out['norm'] = abs(out['tp'][i]) + abs(out['fp'][i])\n",
    "\n",
    "\n",
    "\n",
    "fig = plt.figure(figsize = (15, 5))\n",
    "fig.subplots_adjust(hspace=0.2, wspace=0.3)\n",
    "\n",
    "plt.subplot(1, 3, 1)\n",
    "plt.scatter(out['bias'], out['tp'])\n",
    "plt.ylabel('Recall Gap')\n",
    "plt.xlabel('bias')\n",
    "plt.axvline(x=0, linestyle='dashed', c = 'black')\n",
    "plt.axhline(y=0, linestyle='dashed', c = 'black')\n",
    "\n",
    "plt.subplot(1, 3, 2)    \n",
    "plt.scatter(out['bias'], out['fp'])\n",
    "plt.ylabel('Hallucination Gap')\n",
    "plt.xlabel('bias')\n",
    "plt.axvline(x=0, linestyle='dashed', c = 'black')\n",
    "plt.axhline(y=0, linestyle='dashed', c = 'black')\n",
    "\n",
    "plt.subplot(1, 3, 3)    \n",
    "plt.scatter(out['tp'], out['fp'])\n",
    "plt.xlabel('Recall Gap')\n",
    "plt.ylabel('Hallucination Gap')\n",
    "plt.axvline(x=0, linestyle='dashed', c = 'black')\n",
    "plt.axhline(y=0, linestyle='dashed', c = 'black')\n",
    "\n",
    "plt.show()\n",
    "plt.close()\n",
    "\n",
    "print(np.min(out['norm']))\n"
   ]
  },
  {
   "cell_type": "code",
   "execution_count": null,
   "metadata": {},
   "outputs": [],
   "source": []
  }
 ],
 "metadata": {
  "kernelspec": {
   "display_name": "Python [conda env:countervision]",
   "language": "python",
   "name": "conda-env-countervision-py"
  },
  "language_info": {
   "codemirror_mode": {
    "name": "ipython",
    "version": 3
   },
   "file_extension": ".py",
   "mimetype": "text/x-python",
   "name": "python",
   "nbconvert_exporter": "python",
   "pygments_lexer": "ipython3",
   "version": "3.7.9"
  }
 },
 "nbformat": 4,
 "nbformat_minor": 4
}
