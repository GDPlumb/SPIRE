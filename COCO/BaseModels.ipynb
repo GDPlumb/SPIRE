{
 "cells": [
  {
   "cell_type": "code",
   "execution_count": 1,
   "metadata": {},
   "outputs": [],
   "source": [
    "import math\n",
    "import matplotlib.pyplot as plt\n",
    "import numpy as np\n",
    "from pycocotools.coco import COCO\n",
    "import random\n",
    "import tensorflow as tf\n",
    "from tqdm import tqdm\n",
    "\n",
    "TRANSFER = True"
   ]
  },
  {
   "cell_type": "code",
   "execution_count": 2,
   "metadata": {},
   "outputs": [],
   "source": [
    "# https://cs230.stanford.edu/blog/datapipeline/\n",
    "\n",
    "# Create a list of filenames and labels for the dataset\n",
    "def create_pairs(location = '/home/gregory/Datasets/COCO/2017', mode = 'val'):\n",
    "    \n",
    "    # Each 'label' vector is large enough for easy indexing, but this means it contains unused indices\n",
    "    dim = 91\n",
    "    \n",
    "    file = '{}/annotations/instances_{}2017.json'.format(location, mode)\n",
    "    \n",
    "    coco = COCO(file)\n",
    "    \n",
    "    images = coco.loadImgs(coco.getImgIds())\n",
    "    \n",
    "    filenames = []\n",
    "    labels = []\n",
    "    \n",
    "    for i in range(len(images)):\n",
    "    \n",
    "        im_obj = images[i]\n",
    "        \n",
    "        filenames.append('{}/{}2017/{}'.format(location, mode, im_obj['file_name']))\n",
    "        \n",
    "        annotations = coco.loadAnns(coco.getAnnIds(im_obj['id'], iscrowd=None))\n",
    "        label = np.zeros((dim), dtype = np.float32)\n",
    "        for x in annotations:\n",
    "            label[x['category_id']] = 1.0\n",
    "        labels.append(label)\n",
    "        \n",
    "    filenames = np.array(filenames)\n",
    "    labels = np.array(labels)\n",
    "        \n",
    "    return filenames, labels\n",
    "    \n",
    "def parse_function(filename, label):\n",
    "    image_string = tf.io.read_file(filename)\n",
    "\n",
    "    #Don't use tf.image.decode_image, or the output shape will be undefined\n",
    "    image = tf.image.decode_jpeg(image_string, channels=3)\n",
    "\n",
    "    #This will convert to float values in [0, 1]\n",
    "    image = tf.image.convert_image_dtype(image, tf.float32)\n",
    "\n",
    "    image = tf.image.resize_with_pad(image, 224, 224)\n",
    "    \n",
    "    return image, label\n",
    "\n",
    "def create_dataset(filenames, labels):\n",
    "\n",
    "    dataset = tf.data.Dataset.from_tensor_slices((filenames, labels))\n",
    "    dataset = dataset.shuffle(len(filenames))\n",
    "    dataset = dataset.map(parse_function, num_parallel_calls=num_parallel_calls)\n",
    "    dataset = dataset.batch(batch_size)\n",
    "    dataset = dataset.prefetch(1)\n",
    "\n",
    "    return dataset"
   ]
  },
  {
   "cell_type": "code",
   "execution_count": 3,
   "metadata": {},
   "outputs": [
    {
     "name": "stdout",
     "output_type": "stream",
     "text": [
      "Model: \"sequential\"\n",
      "_________________________________________________________________\n",
      "Layer (type)                 Output Shape              Param #   \n",
      "=================================================================\n",
      "resnet50 (Model)             (None, 1000)              25636712  \n",
      "_________________________________________________________________\n",
      "dense (Dense)                (None, 91)                91091     \n",
      "=================================================================\n",
      "Total params: 25,727,803\n",
      "Trainable params: 91,091\n",
      "Non-trainable params: 25,636,712\n",
      "_________________________________________________________________\n"
     ]
    }
   ],
   "source": [
    "# Load a pre-trained Resnet model\n",
    "\n",
    "model_base = tf.keras.applications.ResNet50(include_top= True, weights='imagenet', input_tensor=None, input_shape = (224, 224, 3), pooling= \"avg\")\n",
    "\n",
    "model_base.trainable = False\n",
    "\n",
    "model = tf.keras.Sequential([\n",
    "  model_base,\n",
    "  tf.keras.layers.Dense(91)\n",
    "])\n",
    "\n",
    "model.summary()"
   ]
  },
  {
   "cell_type": "code",
   "execution_count": 4,
   "metadata": {},
   "outputs": [
    {
     "name": "stdout",
     "output_type": "stream",
     "text": [
      "loading annotations into memory...\n",
      "Done (t=8.86s)\n",
      "creating index...\n",
      "index created!\n",
      "loading annotations into memory...\n"
     ]
    },
    {
     "name": "stderr",
     "output_type": "stream",
     "text": [
      "\r",
      "0it [00:00, ?it/s]"
     ]
    },
    {
     "name": "stdout",
     "output_type": "stream",
     "text": [
      "Done (t=0.26s)\n",
      "creating index...\n",
      "index created!\n"
     ]
    },
    {
     "name": "stderr",
     "output_type": "stream",
     "text": [
      "1849it [12:09,  2.54it/s]\n",
      "0it [00:00, ?it/s]"
     ]
    },
    {
     "name": "stdout",
     "output_type": "stream",
     "text": [
      "Epoch / Epoch Train Loss / Val Loss: 0 0.31009766 0.16225359 -> saving\n"
     ]
    },
    {
     "name": "stderr",
     "output_type": "stream",
     "text": [
      "1849it [12:08,  2.54it/s]\n"
     ]
    },
    {
     "name": "stdout",
     "output_type": "stream",
     "text": [
      "Epoch / Epoch Train Loss / Val Loss: 1 0.1369222 0.12564406 -> saving\n"
     ]
    },
    {
     "name": "stderr",
     "output_type": "stream",
     "text": [
      "1849it [12:09,  2.53it/s]\n"
     ]
    },
    {
     "name": "stdout",
     "output_type": "stream",
     "text": [
      "Epoch / Epoch Train Loss / Val Loss: 2 0.121812835 0.121313 -> saving\n"
     ]
    },
    {
     "name": "stderr",
     "output_type": "stream",
     "text": [
      "1849it [12:09,  2.53it/s]\n"
     ]
    },
    {
     "name": "stdout",
     "output_type": "stream",
     "text": [
      "Epoch / Epoch Train Loss / Val Loss: 3 0.11958082 0.12019899 -> saving\n"
     ]
    },
    {
     "name": "stderr",
     "output_type": "stream",
     "text": [
      "1849it [12:09,  2.53it/s]\n",
      "0it [00:00, ?it/s]"
     ]
    },
    {
     "name": "stdout",
     "output_type": "stream",
     "text": [
      "Epoch / Epoch Train Loss / Val Loss: 4 0.11898218 0.119547516\n"
     ]
    },
    {
     "name": "stderr",
     "output_type": "stream",
     "text": [
      "1849it [12:09,  2.53it/s]\n",
      "0it [00:00, ?it/s]"
     ]
    },
    {
     "name": "stdout",
     "output_type": "stream",
     "text": [
      "Epoch / Epoch Train Loss / Val Loss: 5 0.11871842 0.11981575\n",
      "Dropping learning_rate\n"
     ]
    },
    {
     "name": "stderr",
     "output_type": "stream",
     "text": [
      "1849it [12:09,  2.54it/s]\n"
     ]
    },
    {
     "name": "stdout",
     "output_type": "stream",
     "text": [
      "Epoch / Epoch Train Loss / Val Loss: 6 0.11859993 0.11900687 -> saving\n"
     ]
    },
    {
     "name": "stderr",
     "output_type": "stream",
     "text": [
      "1849it [12:08,  2.54it/s]\n",
      "0it [00:00, ?it/s]"
     ]
    },
    {
     "name": "stdout",
     "output_type": "stream",
     "text": [
      "Epoch / Epoch Train Loss / Val Loss: 7 0.11855641 0.119605824\n"
     ]
    },
    {
     "name": "stderr",
     "output_type": "stream",
     "text": [
      "1849it [12:09,  2.54it/s]\n",
      "0it [00:00, ?it/s]"
     ]
    },
    {
     "name": "stdout",
     "output_type": "stream",
     "text": [
      "Epoch / Epoch Train Loss / Val Loss: 8 0.11852247 0.11924724\n",
      "Dropping learning_rate\n"
     ]
    },
    {
     "name": "stderr",
     "output_type": "stream",
     "text": [
      "1849it [12:09,  2.54it/s]\n",
      "0it [00:00, ?it/s]"
     ]
    },
    {
     "name": "stdout",
     "output_type": "stream",
     "text": [
      "Epoch / Epoch Train Loss / Val Loss: 9 0.11850825 0.11932203\n",
      "Dropping learning_rate\n"
     ]
    },
    {
     "name": "stderr",
     "output_type": "stream",
     "text": [
      "1849it [12:09,  2.54it/s]\n"
     ]
    },
    {
     "name": "stdout",
     "output_type": "stream",
     "text": [
      "Epoch / Epoch Train Loss / Val Loss: 10 0.11849289 0.11958518\n"
     ]
    },
    {
     "data": {
      "text/plain": [
       "<tensorflow.python.training.tracking.util.CheckpointLoadStatus at 0x7f49e0fc1ed0>"
      ]
     },
     "execution_count": 4,
     "metadata": {},
     "output_type": "execute_result"
    }
   ],
   "source": [
    "model_path = './model_transfer/'\n",
    "\n",
    "if TRANSFER: \n",
    "    learning_rate = 0.001\n",
    "    learning_rate_decay = 0.3\n",
    "    learning_rate_drops = 3\n",
    "    min_epochs = 2\n",
    "    stopping_epochs = 2\n",
    "    stopping_tol = 0.001\n",
    "    batch_size = 64\n",
    "\n",
    "    folder = '/home/gregory/Datasets/COCO/2017'\n",
    "    num_parallel_calls = 4\n",
    "\n",
    "    f, l = create_pairs(mode = 'train')\n",
    "    n_train = len(f)\n",
    "\n",
    "    data_train = create_dataset(f, l)\n",
    "\n",
    "    f, l = create_pairs(mode = 'val')\n",
    "    n_val = len(f)\n",
    "\n",
    "    data_val = create_dataset(f, l)\n",
    "\n",
    "    n_batches_train = math.floor(n_train / batch_size)\n",
    "    n_batches_val = math.floor(n_val / batch_size)\n",
    "\n",
    "    def loss(model, inputs, targets):\n",
    "        preds = model(inputs)\n",
    "        return tf.reduce_mean(tf.nn.sigmoid_cross_entropy_with_logits(labels = targets, logits = preds))\n",
    "\n",
    "    def grad(model, inputs, targets):\n",
    "        with tf.GradientTape() as tape:\n",
    "            loss_value = loss(model, inputs, targets)\n",
    "        return loss_value, tape.gradient(loss_value, model.trainable_variables)\n",
    "\n",
    "    # Setup the initial optimizer (it will be re-initialized when the learning rate gets dropped)\n",
    "    optimizer = tf.keras.optimizers.Adam(learning_rate = learning_rate)\n",
    "\n",
    "    # Basic counters for the training process\n",
    "    epoch = 0\n",
    "    best_epoch = 0\n",
    "    best_loss = np.inf\n",
    "    drops = 0\n",
    "\n",
    "    # Run the training loop\n",
    "    while True:\n",
    "\n",
    "        # Check the stopping condition\n",
    "        if epoch - best_epoch > stopping_epochs and epoch > min_epochs:\n",
    "            # We have finished only if we have fully decayed the learning_rate\n",
    "            if drops == learning_rate_drops:\n",
    "                break\n",
    "            else:\n",
    "                print(\"Dropping learning_rate\")\n",
    "                learning_rate *= learning_rate_decay\n",
    "                optimizer = tf.keras.optimizers.Adam(learning_rate = learning_rate)\n",
    "                drops += 1\n",
    "\n",
    "        # Train for an epoch\n",
    "        epoch_loss_avg = tf.keras.metrics.Mean()\n",
    "        for (x_batch, y_batch) in tqdm(data_train):\n",
    "            loss_value, grads = grad(model, x_batch, y_batch)\n",
    "            optimizer.apply_gradients(zip(grads, model.trainable_variables))\n",
    "            epoch_loss_avg.update_state(loss_value)\n",
    "        epoch_loss = epoch_loss_avg.result().numpy()\n",
    "\n",
    "        # Calculate the validation loss\n",
    "        epoch_loss_avg_val = tf.keras.metrics.Mean()\n",
    "        for (x_batch, y_batch) in data_val:\n",
    "            loss_value = loss(model, x_batch, y_batch)\n",
    "            epoch_loss_avg_val.update_state(loss_value)\n",
    "        value = epoch_loss_avg_val.result().numpy()\n",
    "\n",
    "        # Check if we have made progress\n",
    "        if value < best_loss - stopping_tol:\n",
    "            print(\"Epoch / Epoch Train Loss / Val Loss: \" + str(epoch) + \" \" + str(epoch_loss) + \" \" + str(value) + \" -> saving\")\n",
    "            best_loss = value\n",
    "            best_epoch = epoch\n",
    "            model.save_weights(model_path)\n",
    "        else:\n",
    "            print(\"Epoch / Epoch Train Loss / Val Loss: \" + str(epoch) + \" \" + str(epoch_loss) + \" \" + str(value))\n",
    "\n",
    "        # Update counters\n",
    "        epoch += 1\n",
    "\n",
    "model.load_weights(model_path)\n"
   ]
  },
  {
   "cell_type": "code",
   "execution_count": null,
   "metadata": {},
   "outputs": [],
   "source": []
  }
 ],
 "metadata": {
  "kernelspec": {
   "display_name": "Python [conda env:countervision]",
   "language": "python",
   "name": "conda-env-countervision-py"
  },
  "language_info": {
   "codemirror_mode": {
    "name": "ipython",
    "version": 3
   },
   "file_extension": ".py",
   "mimetype": "text/x-python",
   "name": "python",
   "nbconvert_exporter": "python",
   "pygments_lexer": "ipython3",
   "version": "3.7.7"
  }
 },
 "nbformat": 4,
 "nbformat_minor": 4
}
