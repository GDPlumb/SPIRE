{
 "cells": [
  {
   "cell_type": "code",
   "execution_count": 1,
   "metadata": {
    "scrolled": true
   },
   "outputs": [],
   "source": [
    "\n",
    "from scipy.stats import pearsonr\n",
    "import json\n",
    "import glob\n",
    "import matplotlib.pyplot as plt\n",
    "import numpy as np\n",
    "import os\n",
    "import pandas as pd\n",
    "import sys\n",
    "\n",
    "from Config import get_data_dir\n"
   ]
  },
  {
   "cell_type": "code",
   "execution_count": 2,
   "metadata": {
    "scrolled": true
   },
   "outputs": [],
   "source": [
    "main_dir = './Models'\n",
    "\n",
    "# Collect the data for each training mode\n",
    "data = {}\n",
    "for mode_dir in glob.glob('{}/*'.format(main_dir)):\n",
    "    mode = mode_dir.split('/')[-1]\n",
    "    \n",
    "    if mode != 'initial-transfer' and mode.split('-')[0] != 'partial': #Ignore the models we aren't analyzing\n",
    "        # Aggregate the data for that mode across the trials\n",
    "        data_mode = {}\n",
    "        count = 0\n",
    "        for trial_dir in glob.glob('{}/trial*'.format(mode_dir)):\n",
    "            with open('{}/results.json'.format(trial_dir), 'r') as f:\n",
    "                data_tmp = json.load(f)\n",
    "            for key in data_tmp:\n",
    "                if key in data_mode:\n",
    "                    data_mode[key].append(data_tmp[key])\n",
    "                else:\n",
    "                    data_mode[key] = [data_tmp[key]]\n",
    "\n",
    "        # We want the average\n",
    "        for key in data_mode:\n",
    "            data_tmp = data_mode[key]\n",
    "            data_mode[key] = '{} ({})'.format(np.round(np.mean(data_tmp), 3), np.round(np.std(data_tmp), 3))\n",
    "\n",
    "        # Compute aggregated accuracy metrics\n",
    "        data[mode] = data_mode\n",
    "\n",
    "# Convert the nested dictionary into a csv\n",
    "modes = [key for key in data]\n",
    "modes.sort()\n",
    "metrics = [key for key in data[modes[0]]]\n",
    "\n",
    "# Group the results by pair\n",
    "with open('./FindSCs.json', 'r') as f:\n",
    "    pairs = json.load(f)\n",
    "\n",
    "metric_groups = {}\n",
    "metric_groups['avg'] = [('MAP', 'MAP'), ('MAR', 'MAR')]\n",
    "\n",
    "for pair in pairs:\n",
    "    n = len(pair)\n",
    "    main = pair.split('-')[0]\n",
    "    spurious = pair.split('-')[1]\n",
    "    n_main = len(main)\n",
    "    tmp = []\n",
    "    for metric in metrics:\n",
    "        if metric[:n] == pair:\n",
    "            name = metric[n+1:]\n",
    "            tmp.append((name, metric))\n",
    "    metric_groups[pair] = tmp\n",
    "\n",
    "# Save the results\n",
    "for group in metric_groups:\n",
    "\n",
    "    df = pd.DataFrame()\n",
    "    df['Mode'] = modes\n",
    "    for info in metric_groups[group]:\n",
    "        name = info[0]\n",
    "        metric = info[1]\n",
    "        data_tmp = []\n",
    "        for mode in modes:\n",
    "            data_tmp.append(data[mode][metric])\n",
    "        df[name] = data_tmp\n",
    "\n",
    "    df.to_csv('./Analysis/{}.csv'.format(group), index = False)"
   ]
  },
  {
   "cell_type": "code",
   "execution_count": 3,
   "metadata": {
    "scrolled": true
   },
   "outputs": [],
   "source": [
    "# Show the results for each object pair and then the aggregated differences\n",
    "\n",
    "def remove_var_info(df):\n",
    "    def remove(x):\n",
    "        return x.split(' ')[0]\n",
    "    return df.applymap(remove)\n",
    "\n",
    "groups = {}\n",
    "for pair in pairs:\n",
    "    spurious = pair.split('-')[1]    \n",
    "    if spurious in groups:\n",
    "        groups[spurious].append(pair)\n",
    "    else:\n",
    "        groups[spurious] = [pair]\n",
    "\n",
    "cols_acc = ['Mode', 'both', 'just_main', 'just_spurious', 'neither', 'b-precision', 'b-recall', 'r-gap', 'p-with', 'p-without']\n",
    "    \n",
    "def compare(corrected, baseline):\n",
    "    modes = [corrected, baseline]\n",
    "\n",
    "    diffs_acc = {}\n",
    "    for metric in cols_acc[1:]:\n",
    "        diffs_acc[metric] = []\n",
    "\n",
    "    for key in groups:\n",
    "        group = groups[key]\n",
    "        print()\n",
    "        print()\n",
    "        print(key)\n",
    "        print()\n",
    "        for pair in group:\n",
    "\n",
    "            print(pair)\n",
    "                        \n",
    "            with open('{}/train/splits/{}.json'.format(get_data_dir(), pair), 'r') as f:\n",
    "                splits = json.load(f)\n",
    "                \n",
    "            for split in splits:\n",
    "                splits[split] = len(splits[split])\n",
    "            \n",
    "            P_S = (splits['both'] + splits['just_spurious']) / (splits['both'] + splits['just_spurious'] + splits['just_main'] + splits['neither'])\n",
    "            P_S_g_M = splits['both'] / (splits['both'] + splits['just_main'])            \n",
    "            print('P(S|M), P(S):', np.round(P_S_g_M, 3), np.round(P_S, 3))\n",
    "            \n",
    "            df = pd.read_csv('./Analysis/{}.csv'.format(pair))\n",
    "\n",
    "            print('Acc Comparison')\n",
    "            df_tmp = remove_var_info(df.loc[df['Mode'].isin(modes), cols_acc].copy())\n",
    "            print(df_tmp.to_string(index = False)) \n",
    "\n",
    "            for metric in diffs_acc:\n",
    "                data_tmp = {}\n",
    "                names = df_tmp['Mode'].values\n",
    "                values = df_tmp[metric].values\n",
    "                for i in range(len(names)):\n",
    "                    data_tmp[names[i]] = float(values[i])\n",
    "                if not np.any(data_tmp == -1):\n",
    "                    diffs_acc[metric].append(data_tmp[modes[0]] - data_tmp[modes[1]])\n",
    "            print()\n",
    "            print()\n",
    "\n",
    "    print()\n",
    "    print()\n",
    "    print()\n",
    "    print()\n",
    "    print('Aggregate Differences:')\n",
    "    \n",
    "    def get_stats(key, diffs):\n",
    "        print(key)\n",
    "        data = diffs[key]\n",
    "        print('mean (std):', np.round(np.mean(data), 3), np.round(np.std(data), 3))\n",
    "        print('median:', np.round(np.median(data), 3))\n",
    "        if key in ['r-gap']:\n",
    "            print('prob < 0:',  np.round(np.mean(np.array(data) < 0), 3))\n",
    "        else:\n",
    "            print('prob > 0:',  np.round(np.mean(np.array(data) > 0), 3))\n",
    "        print()\n",
    "        print()\n",
    "\n",
    "    for key in diffs_acc:\n",
    "        plt.hist(diffs_acc[key], bins = 15)\n",
    "        plt.title(key)\n",
    "        plt.show()\n",
    "        plt.close()\n",
    "        get_stats(key, diffs_acc)\n"
   ]
  },
  {
   "cell_type": "code",
   "execution_count": 4,
   "metadata": {
    "scrolled": true
   },
   "outputs": [
    {
     "name": "stdout",
     "output_type": "stream",
     "text": [
      "\n",
      "\n",
      "person\n",
      "\n",
      "cell+phone-person\n",
      "P(S|M), P(S): 0.797 0.542\n",
      "Acc Comparison\n",
      "         Mode   both just_main just_spurious neither b-precision b-recall  r-gap p-with p-without\n",
      "     auto-aug  0.222     0.278         0.991   0.995       0.698     0.25  0.056  0.624     0.388\n",
      " initial-tune  0.282     0.324         0.985   0.996       0.596    0.303  0.042  0.516     0.243\n",
      "\n",
      "\n",
      "handbag-person\n",
      "P(S|M), P(S): 0.91 0.542\n",
      "Acc Comparison\n",
      "         Mode   both just_main just_spurious neither b-precision b-recall  r-gap p-with p-without\n",
      "     auto-aug  0.105     0.025         0.994   0.999       0.568    0.065   0.08  0.669     0.017\n",
      " initial-tune  0.242     0.008         0.975   0.999       0.395    0.125  0.234  0.542     0.001\n",
      "\n",
      "\n",
      "donut-person\n",
      "P(S|M), P(S): 0.548 0.542\n",
      "Acc Comparison\n",
      "         Mode   both just_main just_spurious neither b-precision b-recall  r-gap p-with p-without\n",
      "     auto-aug  0.242     0.457         0.998   0.998       0.689     0.35  0.214  0.461     0.582\n",
      " initial-tune  0.273      0.44         0.998   0.998       0.677    0.356  0.167  0.465     0.553\n",
      "\n",
      "\n",
      "tie-person\n",
      "P(S|M), P(S): 0.953 0.542\n",
      "Acc Comparison\n",
      "         Mode   both just_main just_spurious neither b-precision b-recall  r-gap p-with p-without\n",
      "     auto-aug  0.375     0.243         0.999     1.0       0.925    0.309  0.132  0.932     0.447\n",
      " initial-tune  0.556     0.257         0.995     1.0       0.831    0.407  0.299  0.857     0.133\n",
      "\n",
      "\n",
      "couch-person\n",
      "P(S|M), P(S): 0.506 0.542\n",
      "Acc Comparison\n",
      "         Mode   both just_main just_spurious neither b-precision b-recall  r-gap p-with p-without\n",
      "     auto-aug  0.475      0.56          0.99   0.991       0.692    0.517  0.085  0.487     0.566\n",
      " initial-tune  0.481     0.562         0.991   0.991       0.707    0.521  0.081  0.507     0.584\n",
      "\n",
      "\n",
      "hair+drier-person\n",
      "P(S|M), P(S): 0.519 0.542\n",
      "Acc Comparison\n",
      "         Mode   both just_main just_spurious neither b-precision b-recall  r-gap p-with p-without\n",
      "     auto-aug  0.117     0.032           1.0     1.0       0.465    0.074  0.084  0.426      0.08\n",
      " initial-tune  0.108     0.008           1.0     1.0       0.641    0.058    0.1  0.635     0.029\n",
      "\n",
      "\n",
      "hot+dog-person\n",
      "P(S|M), P(S): 0.566 0.542\n",
      "Acc Comparison\n",
      "         Mode   both just_main just_spurious neither b-precision b-recall  r-gap p-with p-without\n",
      "     auto-aug  0.383     0.692         0.997   0.997       0.635    0.537  0.309  0.438     0.458\n",
      " initial-tune  0.305     0.617         0.998   0.999       0.738    0.461  0.312  0.543     0.587\n",
      "\n",
      "\n",
      "knife-person\n",
      "P(S|M), P(S): 0.546 0.542\n",
      "Acc Comparison\n",
      "         Mode   both just_main just_spurious neither b-precision b-recall  r-gap p-with p-without\n",
      "     auto-aug  0.333     0.189         0.991   0.992       0.556    0.261  0.144  0.466     0.296\n",
      " initial-tune  0.407     0.271         0.986   0.988       0.514    0.339  0.135  0.413     0.272\n",
      "\n",
      "\n",
      "tennis+racket-person\n",
      "P(S|M), P(S): 0.99 0.542\n",
      "Acc Comparison\n",
      "         Mode   both just_main just_spurious neither b-precision b-recall  r-gap p-with p-without\n",
      "     auto-aug  0.639     0.544         0.998   0.998       0.924    0.591  0.133   0.93     0.083\n",
      " initial-tune  0.866     0.412         0.995     1.0       0.907    0.639  0.454  0.926     0.036\n",
      "\n",
      "\n",
      "frisbee-person\n",
      "P(S|M), P(S): 0.834 0.542\n",
      "Acc Comparison\n",
      "         Mode   both just_main just_spurious neither b-precision b-recall  r-gap p-with p-without\n",
      "     auto-aug  0.503     0.365         0.995   0.997        0.69    0.434  0.139  0.688     0.229\n",
      " initial-tune  0.531     0.318         0.993   0.998       0.623    0.424  0.213  0.633     0.141\n",
      "\n",
      "\n",
      "skateboard-person\n",
      "P(S|M), P(S): 0.983 0.542\n",
      "Acc Comparison\n",
      "         Mode   both just_main just_spurious neither b-precision b-recall  r-gap p-with p-without\n",
      "     auto-aug  0.571     0.337         0.998   0.999         0.9    0.454  0.233  0.914     0.138\n",
      " initial-tune   0.74      0.25         0.994   0.999       0.801    0.495   0.49   0.85     0.043\n",
      "\n",
      "\n",
      "baseball+glove-person\n",
      "P(S|M), P(S): 0.99 0.542\n",
      "Acc Comparison\n",
      "         Mode   both just_main just_spurious neither b-precision b-recall  r-gap p-with p-without\n",
      "     auto-aug  0.606     0.106         0.998   0.999       0.846    0.356    0.5  0.899     0.017\n",
      " initial-tune  0.801     0.045         0.995     1.0       0.791    0.423  0.755  0.869     0.004\n",
      "\n",
      "\n",
      "baseball+bat-person\n",
      "P(S|M), P(S): 0.988 0.542\n",
      "Acc Comparison\n",
      "         Mode   both just_main just_spurious neither b-precision b-recall  r-gap p-with p-without\n",
      "     auto-aug  0.561     0.312         0.997   0.998       0.809    0.437  0.249  0.838     0.124\n",
      " initial-tune  0.652     0.194         0.994     1.0       0.749    0.423  0.457  0.808     0.039\n",
      "\n",
      "\n",
      "snowboard-person\n",
      "P(S|M), P(S): 0.981 0.542\n",
      "Acc Comparison\n",
      "         Mode   both just_main just_spurious neither b-precision b-recall  r-gap p-with p-without\n",
      "     auto-aug  0.411     0.233         0.996   0.999       0.656    0.322  0.178  0.686     0.034\n",
      " initial-tune  0.594     0.208         0.993     1.0       0.563    0.401  0.385  0.633     0.012\n",
      "\n",
      "\n",
      "remote-person\n",
      "P(S|M), P(S): 0.669 0.542\n",
      "Acc Comparison\n",
      "         Mode   both just_main just_spurious neither b-precision b-recall  r-gap p-with p-without\n",
      "     auto-aug  0.311     0.138         0.997   0.997       0.664    0.225  0.173  0.654     0.283\n",
      " initial-tune  0.503     0.133         0.992   0.995       0.605    0.318   0.37  0.619     0.165\n",
      "\n",
      "\n",
      "sports+ball-person\n",
      "P(S|M), P(S): 0.961 0.542\n",
      "Acc Comparison\n",
      "         Mode   both just_main just_spurious neither b-precision b-recall  r-gap p-with p-without\n",
      "     auto-aug   0.47     0.294         0.989   0.998       0.686    0.382  0.176  0.712     0.094\n",
      " initial-tune  0.634     0.119         0.977   0.999       0.533    0.376  0.515  0.634      0.02\n",
      "\n",
      "\n",
      "skis-person\n",
      "P(S|M), P(S): 0.988 0.542\n",
      "Acc Comparison\n",
      "         Mode   both just_main just_spurious neither b-precision b-recall  r-gap p-with p-without\n",
      "     auto-aug  0.621     0.282         0.998   0.999       0.895    0.451  0.339  0.918       0.0\n",
      " initial-tune  0.725     0.269         0.995     1.0       0.841    0.497  0.456  0.879       0.0\n",
      "\n",
      "\n",
      "toothbrush-person\n",
      "P(S|M), P(S): 0.536 0.542\n",
      "Acc Comparison\n",
      "         Mode   both just_main just_spurious neither b-precision b-recall  r-gap p-with p-without\n",
      "     auto-aug  0.539     0.352         0.998   0.999       0.654    0.446  0.187  0.607     0.324\n",
      " initial-tune    0.5     0.347         0.999   0.998       0.665    0.423  0.154  0.616     0.364\n",
      "\n",
      "\n",
      "\n",
      "\n",
      "elephant\n",
      "\n",
      "bench-elephant\n",
      "P(S|M), P(S): 0.02 0.018\n",
      "Acc Comparison\n",
      "         Mode   both just_main just_spurious neither b-precision b-recall  r-gap p-with p-without\n",
      "     auto-aug  0.175     0.367          0.82   0.985       0.142    0.271  0.192  0.007     0.512\n",
      " initial-tune  0.125     0.332         0.988   0.985       0.539    0.228  0.207  0.007     0.557\n",
      "\n",
      "\n",
      "\n",
      "\n",
      "airplane\n",
      "\n",
      "truck-airplane\n",
      "P(S|M), P(S): 0.105 0.025\n",
      "Acc Comparison\n",
      "         Mode   both just_main just_spurious neither b-precision b-recall  r-gap p-with p-without\n",
      "     auto-aug  0.925     0.414         0.859   0.983       0.316     0.67  0.511  0.155      0.52\n",
      " initial-tune  0.908     0.433         0.909   0.982         0.4    0.671  0.475  0.154     0.537\n",
      "\n",
      "\n",
      "\n",
      "\n",
      "dining+table\n",
      "\n",
      "sandwich-dining+table\n",
      "P(S|M), P(S): 0.567 0.1\n",
      "Acc Comparison\n",
      "         Mode   both just_main just_spurious neither b-precision b-recall  r-gap p-with p-without\n",
      "     auto-aug  0.358     0.431         0.966   0.997         0.3    0.394  0.073  0.386     0.411\n",
      " initial-tune  0.363     0.431         0.962   0.997       0.288    0.397   0.07  0.392     0.417\n",
      "\n",
      "\n",
      "knife-dining+table\n",
      "P(S|M), P(S): 0.632 0.1\n",
      "Acc Comparison\n",
      "         Mode   both just_main just_spurious neither b-precision b-recall  r-gap p-with p-without\n",
      "     auto-aug  0.301     0.206         0.944   0.995       0.266    0.254  0.094  0.485     0.259\n",
      " initial-tune   0.39     0.262         0.904   0.994       0.215    0.326  0.128  0.442     0.222\n",
      "\n",
      "\n",
      "fork-dining+table\n",
      "P(S|M), P(S): 0.756 0.1\n",
      "Acc Comparison\n",
      "         Mode   both just_main just_spurious neither b-precision b-recall  r-gap p-with p-without\n",
      "     auto-aug  0.307     0.256         0.951   0.998       0.313    0.281  0.051  0.581      0.33\n",
      " initial-tune  0.502     0.417         0.886   0.997       0.208    0.459  0.086  0.493     0.245\n",
      "\n",
      "\n",
      "spoon-dining+table\n",
      "P(S|M), P(S): 0.593 0.1\n",
      "Acc Comparison\n",
      "         Mode   both just_main just_spurious neither b-precision b-recall  r-gap p-with p-without\n",
      "     auto-aug  0.264     0.133         0.946   0.996       0.179    0.198  0.132  0.362     0.184\n",
      " initial-tune  0.379     0.197         0.911   0.996       0.167    0.288  0.182  0.379     0.198\n",
      "\n",
      "\n",
      "bowl-dining+table\n"
     ]
    },
    {
     "name": "stdout",
     "output_type": "stream",
     "text": [
      "P(S|M), P(S): 0.478 0.1\n",
      "Acc Comparison\n",
      "         Mode   both just_main just_spurious neither b-precision b-recall  r-gap p-with p-without\n",
      "     auto-aug  0.535     0.394         0.883   0.988       0.325    0.465  0.141  0.455     0.404\n",
      " initial-tune   0.54     0.353         0.871   0.991       0.316    0.447  0.187  0.498     0.416\n",
      "\n",
      "\n",
      "\n",
      "\n",
      "sheep\n",
      "\n",
      "dog-sheep\n",
      "P(S|M), P(S): 0.026 0.013\n",
      "Acc Comparison\n",
      "         Mode   both just_main just_spurious neither b-precision b-recall  r-gap p-with p-without\n",
      "     auto-aug  0.225     0.544         0.942   0.994       0.325    0.384  0.319  0.041     0.766\n",
      " initial-tune    0.2     0.574         0.942   0.992       0.424    0.387  0.374  0.025     0.723\n",
      "\n",
      "\n",
      "bird-sheep\n",
      "P(S|M), P(S): 0.013 0.013\n",
      "Acc Comparison\n",
      "         Mode   both just_main just_spurious neither b-precision b-recall  r-gap p-with p-without\n",
      "     auto-aug  0.331     0.448         0.931   0.994       0.259    0.389  0.117    0.0     0.668\n",
      " initial-tune  0.226     0.422         0.988   0.996       0.622    0.324  0.196    0.0     0.723\n",
      "\n",
      "\n",
      "\n",
      "\n",
      "cat\n",
      "\n",
      "tie-cat\n",
      "P(S|M), P(S): 0.012 0.035\n",
      "Acc Comparison\n",
      "         Mode   both just_main just_spurious neither b-precision b-recall  r-gap p-with p-without\n",
      "     auto-aug    0.5     0.359           1.0   0.999        0.97     0.43  0.141  0.323     0.932\n",
      " initial-tune  0.331     0.533         0.999   0.997       0.873    0.432  0.202  0.029     0.857\n",
      "\n",
      "\n",
      "\n",
      "\n",
      "dog\n",
      "\n",
      "frisbee-dog\n",
      "P(S|M), P(S): 0.239 0.037\n",
      "Acc Comparison\n",
      "         Mode   both just_main just_spurious neither b-precision b-recall  r-gap p-with p-without\n",
      "     auto-aug  0.711     0.473         0.992   0.996       0.687    0.592  0.237  0.458     0.656\n",
      " initial-tune  0.812       0.5         0.976   0.996       0.459    0.656  0.312  0.405     0.595\n",
      "\n",
      "\n",
      "\n",
      "\n",
      "\n",
      "\n",
      "Aggregate Differences:\n"
     ]
    },
    {
     "data": {
      "image/png": "[encoded data removed]",
      "text/plain": [
       "<Figure size 432x288 with 1 Axes>"
      ]
     },
     "metadata": {
      "needs_background": "light"
     },
     "output_type": "display_data"
    },
    {
     "name": "stdout",
     "output_type": "stream",
     "text": [
      "both\n",
      "mean (std): -0.064 0.101\n",
      "median: -0.074\n",
      "prob > 0: 0.276\n",
      "\n",
      "\n"
     ]
    },
    {
     "data": {
      "image/png": "[encoded data removed]",
      "text/plain": [
       "<Figure size 432x288 with 1 Axes>"
      ]
     },
     "metadata": {
      "needs_background": "light"
     },
     "output_type": "display_data"
    },
    {
     "name": "stdout",
     "output_type": "stream",
     "text": [
      "just_main\n",
      "mean (std): 0.008 0.074\n",
      "median: 0.013\n",
      "prob > 0: 0.586\n",
      "\n",
      "\n"
     ]
    },
    {
     "data": {
      "image/png": "[encoded data removed]",
      "text/plain": [
       "<Figure size 432x288 with 1 Axes>"
      ]
     },
     "metadata": {
      "needs_background": "light"
     },
     "output_type": "display_data"
    },
    {
     "name": "stdout",
     "output_type": "stream",
     "text": [
      "just_spurious\n",
      "mean (std): -0.001 0.038\n",
      "median: 0.003\n",
      "prob > 0: 0.69\n",
      "\n",
      "\n"
     ]
    },
    {
     "data": {
      "image/png": "[encoded data removed]",
      "text/plain": [
       "<Figure size 432x288 with 1 Axes>"
      ]
     },
     "metadata": {
      "needs_background": "light"
     },
     "output_type": "display_data"
    },
    {
     "name": "stdout",
     "output_type": "stream",
     "text": [
      "neither\n",
      "mean (std): -0.0 0.001\n",
      "median: 0.0\n",
      "prob > 0: 0.276\n",
      "\n",
      "\n"
     ]
    },
    {
     "data": {
      "image/png": "[encoded data removed]",
      "text/plain": [
       "<Figure size 432x288 with 1 Axes>"
      ]
     },
     "metadata": {
      "needs_background": "light"
     },
     "output_type": "display_data"
    },
    {
     "name": "stdout",
     "output_type": "stream",
     "text": [
      "b-precision\n",
      "mean (std): 0.012 0.135\n",
      "median: 0.051\n",
      "prob > 0: 0.724\n",
      "\n",
      "\n"
     ]
    },
    {
     "data": {
      "image/png": "[encoded data removed]",
      "text/plain": [
       "<Figure size 432x288 with 1 Axes>"
      ]
     },
     "metadata": {
      "needs_background": "light"
     },
     "output_type": "display_data"
    },
    {
     "name": "stdout",
     "output_type": "stream",
     "text": [
      "b-recall\n",
      "mean (std): -0.028 0.055\n",
      "median: -0.006\n",
      "prob > 0: 0.31\n",
      "\n",
      "\n"
     ]
    },
    {
     "data": {
      "image/png": "[encoded data removed]",
      "text/plain": [
       "<Figure size 432x288 with 1 Axes>"
      ]
     },
     "metadata": {
      "needs_background": "light"
     },
     "output_type": "display_data"
    },
    {
     "name": "stdout",
     "output_type": "stream",
     "text": [
      "r-gap\n",
      "mean (std): -0.09 0.108\n",
      "median: -0.055\n",
      "prob < 0: 0.759\n",
      "\n",
      "\n"
     ]
    },
    {
     "data": {
      "image/png": "[encoded data removed]",
      "text/plain": [
       "<Figure size 432x288 with 1 Axes>"
      ]
     },
     "metadata": {
      "needs_background": "light"
     },
     "output_type": "display_data"
    },
    {
     "name": "stdout",
     "output_type": "stream",
     "text": [
      "p-with\n",
      "mean (std): 0.029 0.081\n",
      "median: 0.03\n",
      "prob > 0: 0.655\n",
      "\n",
      "\n"
     ]
    },
    {
     "data": {
      "image/png": "[encoded data removed]",
      "text/plain": [
       "<Figure size 432x288 with 1 Axes>"
      ]
     },
     "metadata": {
      "needs_background": "light"
     },
     "output_type": "display_data"
    },
    {
     "name": "stdout",
     "output_type": "stream",
     "text": [
      "p-without\n",
      "mean (std): 0.037 0.077\n",
      "median: 0.029\n",
      "prob > 0: 0.655\n",
      "\n",
      "\n"
     ]
    }
   ],
   "source": [
    "compare('auto-aug', 'initial-tune')"
   ]
  },
  {
   "cell_type": "code",
   "execution_count": 5,
   "metadata": {
    "scrolled": true
   },
   "outputs": [
    {
     "name": "stdout",
     "output_type": "stream",
     "text": [
      "\n",
      "\n",
      "person\n",
      "\n",
      "cell+phone-person\n",
      "P(S|M), P(S): 0.797 0.542\n",
      "Acc Comparison\n",
      "         Mode   both just_main just_spurious neither b-precision b-recall  r-gap p-with p-without\n",
      "      fs-tune  0.247     0.227         0.986   0.998        0.58    0.237  0.021  0.525      0.21\n",
      " initial-tune  0.282     0.324         0.985   0.996       0.596    0.303  0.042  0.516     0.243\n",
      "\n",
      "\n",
      "handbag-person\n",
      "P(S|M), P(S): 0.91 0.542\n",
      "Acc Comparison\n",
      "         Mode   both just_main just_spurious neither b-precision b-recall  r-gap p-with p-without\n",
      "      fs-tune  0.225       0.0         0.975   0.999       0.361    0.113  0.225  0.514       0.0\n",
      " initial-tune  0.242     0.008         0.975   0.999       0.395    0.125  0.234  0.542     0.001\n",
      "\n",
      "\n",
      "donut-person\n",
      "P(S|M), P(S): 0.548 0.542\n",
      "Acc Comparison\n",
      "         Mode   both just_main just_spurious neither b-precision b-recall  r-gap p-with p-without\n",
      "      fs-tune  0.242     0.474         0.998   0.998       0.731    0.358  0.232  0.517     0.636\n",
      " initial-tune  0.273      0.44         0.998   0.998       0.677    0.356  0.167  0.465     0.553\n",
      "\n",
      "\n",
      "tie-person\n",
      "P(S|M), P(S): 0.953 0.542\n",
      "Acc Comparison\n",
      "         Mode   both just_main just_spurious neither b-precision b-recall  r-gap p-with p-without\n",
      "      fs-tune  0.583     0.285         0.985   0.999       0.653    0.434  0.299  0.694      0.07\n",
      " initial-tune  0.556     0.257         0.995     1.0       0.831    0.407  0.299  0.857     0.133\n",
      "\n",
      "\n",
      "couch-person\n",
      "P(S|M), P(S): 0.506 0.542\n",
      "Acc Comparison\n",
      "         Mode   both just_main just_spurious neither b-precision b-recall  r-gap p-with p-without\n",
      "      fs-tune  0.456      0.55         0.992   0.992       0.724    0.503  0.094  0.528      0.61\n",
      " initial-tune  0.481     0.562         0.991   0.991       0.707    0.521  0.081  0.507     0.584\n",
      "\n",
      "\n",
      "hair+drier-person\n",
      "P(S|M), P(S): 0.519 0.542\n",
      "Acc Comparison\n",
      "         Mode   both just_main just_spurious neither b-precision b-recall  r-gap p-with p-without\n",
      "      fs-tune  0.067     0.008           1.0     1.0        0.78    0.037  0.059  0.786      0.25\n",
      " initial-tune  0.108     0.008           1.0     1.0       0.641    0.058    0.1  0.635     0.029\n",
      "\n",
      "\n",
      "hot+dog-person\n",
      "P(S|M), P(S): 0.566 0.542\n",
      "Acc Comparison\n",
      "         Mode   both just_main just_spurious neither b-precision b-recall  r-gap p-with p-without\n",
      "      fs-tune   0.25       0.6         0.998   0.999        0.79    0.425   0.35  0.575      0.66\n",
      " initial-tune  0.305     0.617         0.998   0.999       0.738    0.461  0.312  0.543     0.587\n",
      "\n",
      "\n",
      "knife-person\n",
      "P(S|M), P(S): 0.546 0.542\n",
      "Acc Comparison\n",
      "         Mode   both just_main just_spurious neither b-precision b-recall  r-gap p-with p-without\n",
      "      fs-tune  0.427     0.338         0.985   0.985       0.489    0.383  0.088  0.371     0.273\n",
      " initial-tune  0.407     0.271         0.986   0.988       0.514    0.339  0.135  0.413     0.272\n",
      "\n",
      "\n",
      "tennis+racket-person\n",
      "P(S|M), P(S): 0.99 0.542\n",
      "Acc Comparison\n",
      "         Mode   both just_main just_spurious neither b-precision b-recall  r-gap p-with p-without\n",
      "      fs-tune  0.867     0.404         0.993     1.0       0.874    0.636  0.463  0.899     0.027\n",
      " initial-tune  0.866     0.412         0.995     1.0       0.907    0.639  0.454  0.926     0.036\n",
      "\n",
      "\n",
      "frisbee-person\n",
      "P(S|M), P(S): 0.834 0.542\n",
      "Acc Comparison\n",
      "         Mode   both just_main just_spurious neither b-precision b-recall  r-gap p-with p-without\n",
      "      fs-tune  0.555     0.331         0.994   0.997       0.634    0.443  0.224  0.649     0.152\n",
      " initial-tune  0.531     0.318         0.993   0.998       0.623    0.424  0.213  0.633     0.141\n",
      "\n",
      "\n",
      "skateboard-person\n",
      "P(S|M), P(S): 0.983 0.542\n",
      "Acc Comparison\n",
      "         Mode   both just_main just_spurious neither b-precision b-recall  r-gap p-with p-without\n",
      "      fs-tune  0.752     0.225         0.994   0.998       0.781    0.489  0.527  0.838     0.037\n",
      " initial-tune   0.74      0.25         0.994   0.999       0.801    0.495   0.49   0.85     0.043\n",
      "\n",
      "\n",
      "baseball+glove-person\n",
      "P(S|M), P(S): 0.99 0.542\n",
      "Acc Comparison\n",
      "         Mode   both just_main just_spurious neither b-precision b-recall  r-gap p-with p-without\n",
      "      fs-tune   0.78     0.015         0.996     1.0       0.786    0.398  0.765  0.871     0.002\n",
      " initial-tune  0.801     0.045         0.995     1.0       0.791    0.423  0.755  0.869     0.004\n",
      "\n",
      "\n",
      "baseball+bat-person\n",
      "P(S|M), P(S): 0.988 0.542\n",
      "Acc Comparison\n",
      "         Mode   both just_main just_spurious neither b-precision b-recall  r-gap p-with p-without\n",
      "      fs-tune  0.731     0.243         0.994     1.0       0.755    0.487  0.488  0.809     0.044\n",
      " initial-tune  0.652     0.194         0.994     1.0       0.749    0.423  0.457  0.808     0.039\n",
      "\n",
      "\n",
      "snowboard-person\n",
      "P(S|M), P(S): 0.981 0.542\n",
      "Acc Comparison\n",
      "         Mode   both just_main just_spurious neither b-precision b-recall  r-gap p-with p-without\n",
      "      fs-tune  0.615     0.217         0.992     1.0       0.507    0.416  0.398  0.584      0.01\n",
      " initial-tune  0.594     0.208         0.993     1.0       0.563    0.401  0.385  0.633     0.012\n",
      "\n",
      "\n",
      "remote-person\n",
      "P(S|M), P(S): 0.669 0.542\n",
      "Acc Comparison\n",
      "         Mode   both just_main just_spurious neither b-precision b-recall  r-gap p-with p-without\n",
      "      fs-tune  0.449     0.112         0.994   0.997       0.639     0.28  0.337  0.651     0.187\n",
      " initial-tune  0.503     0.133         0.992   0.995       0.605    0.318   0.37  0.619     0.165\n",
      "\n",
      "\n",
      "sports+ball-person\n",
      "P(S|M), P(S): 0.961 0.542\n",
      "Acc Comparison\n",
      "         Mode   both just_main just_spurious neither b-precision b-recall  r-gap p-with p-without\n",
      "      fs-tune  0.651     0.119         0.976     1.0        0.54    0.385  0.532  0.639     0.021\n",
      " initial-tune  0.634     0.119         0.977   0.999       0.533    0.376  0.515  0.634      0.02\n",
      "\n",
      "\n",
      "skis-person\n",
      "P(S|M), P(S): 0.988 0.542\n",
      "Acc Comparison\n",
      "         Mode   both just_main just_spurious neither b-precision b-recall  r-gap p-with p-without\n",
      "      fs-tune  0.773     0.301         0.995     1.0       0.827    0.537  0.472  0.868       0.0\n",
      " initial-tune  0.725     0.269         0.995     1.0       0.841    0.497  0.456  0.879       0.0\n",
      "\n",
      "\n",
      "toothbrush-person\n",
      "P(S|M), P(S): 0.536 0.542\n",
      "Acc Comparison\n",
      "         Mode   both just_main just_spurious neither b-precision b-recall  r-gap p-with p-without\n",
      "      fs-tune  0.507     0.398         0.998   0.998       0.602    0.452  0.112  0.535     0.299\n",
      " initial-tune    0.5     0.347         0.999   0.998       0.665    0.423  0.154  0.616     0.364\n",
      "\n",
      "\n",
      "\n",
      "\n",
      "elephant\n",
      "\n",
      "bench-elephant\n",
      "P(S|M), P(S): 0.02 0.018\n",
      "Acc Comparison\n",
      "         Mode   both just_main just_spurious neither b-precision b-recall  r-gap p-with p-without\n",
      "      fs-tune  0.125     0.337         0.985   0.989       0.557    0.231  0.212  0.008     0.608\n",
      " initial-tune  0.125     0.332         0.988   0.985       0.539    0.228  0.207  0.007     0.557\n",
      "\n",
      "\n",
      "\n",
      "\n",
      "airplane\n",
      "\n",
      "truck-airplane\n",
      "P(S|M), P(S): 0.105 0.025\n",
      "Acc Comparison\n",
      "         Mode   both just_main just_spurious neither b-precision b-recall  r-gap p-with p-without\n",
      "      fs-tune  0.842     0.363         0.928   0.986       0.436    0.602  0.479   0.17     0.546\n",
      " initial-tune  0.908     0.433         0.909   0.982         0.4    0.671  0.475  0.154     0.537\n",
      "\n",
      "\n",
      "\n",
      "\n",
      "dining+table\n",
      "\n",
      "sandwich-dining+table\n",
      "P(S|M), P(S): 0.567 0.1\n",
      "Acc Comparison\n",
      "         Mode   both just_main just_spurious neither b-precision b-recall  r-gap p-with p-without\n",
      "      fs-tune  0.431     0.463         0.954   0.996       0.287    0.447  0.043  0.384     0.384\n",
      " initial-tune  0.363     0.431         0.962   0.997       0.288    0.397   0.07  0.392     0.417\n",
      "\n",
      "\n",
      "knife-dining+table\n",
      "P(S|M), P(S): 0.632 0.1\n",
      "Acc Comparison\n",
      "         Mode   both just_main just_spurious neither b-precision b-recall  r-gap p-with p-without\n",
      "      fs-tune  0.445     0.278         0.896   0.992         0.2    0.361  0.167  0.421     0.196\n",
      " initial-tune   0.39     0.262         0.904   0.994       0.215    0.326  0.128  0.442     0.222\n",
      "\n",
      "\n",
      "fork-dining+table\n",
      "P(S|M), P(S): 0.756 0.1\n",
      "Acc Comparison\n",
      "         Mode   both just_main just_spurious neither b-precision b-recall  r-gap p-with p-without\n",
      "      fs-tune  0.445     0.383           0.9   0.996       0.206    0.414  0.069   0.47     0.239\n",
      " initial-tune  0.502     0.417         0.886   0.997       0.208    0.459  0.086  0.493     0.245\n",
      "\n",
      "\n",
      "spoon-dining+table\n",
      "P(S|M), P(S): 0.593 0.1\n",
      "Acc Comparison\n",
      "         Mode   both just_main just_spurious neither b-precision b-recall  r-gap p-with p-without\n",
      "      fs-tune  0.368     0.205         0.909   0.995       0.164    0.286  0.163   0.37     0.172\n",
      " initial-tune  0.379     0.197         0.911   0.996       0.167    0.288  0.182  0.379     0.198\n",
      "\n",
      "\n",
      "bowl-dining+table\n",
      "P(S|M), P(S): 0.478 0.1\n",
      "Acc Comparison\n",
      "         Mode   both just_main just_spurious neither b-precision b-recall  r-gap p-with p-without\n",
      "      fs-tune  0.498     0.324         0.892    0.99       0.331    0.411  0.174  0.487     0.406\n",
      " initial-tune   0.54     0.353         0.871   0.991       0.316    0.447  0.187  0.498     0.416\n",
      "\n",
      "\n",
      "\n",
      "\n",
      "sheep\n",
      "\n",
      "dog-sheep\n",
      "P(S|M), P(S): 0.026 0.013\n",
      "Acc Comparison\n",
      "         Mode   both just_main just_spurious neither b-precision b-recall  r-gap p-with p-without\n",
      "      fs-tune  0.342     0.616         0.937   0.985       0.329    0.479  0.275  0.027     0.619\n",
      " initial-tune    0.2     0.574         0.942   0.992       0.424    0.387  0.374  0.025     0.723\n",
      "\n",
      "\n",
      "bird-sheep\n",
      "P(S|M), P(S): 0.013 0.013\n",
      "Acc Comparison\n",
      "         Mode   both just_main just_spurious neither b-precision b-recall  r-gap p-with p-without\n",
      "      fs-tune   0.21     0.358           1.0   0.998       0.909    0.284  0.148    0.0     0.866\n",
      " initial-tune  0.226     0.422         0.988   0.996       0.622    0.324  0.196    0.0     0.723\n",
      "\n",
      "\n",
      "\n",
      "\n",
      "cat\n",
      "\n",
      "tie-cat\n",
      "P(S|M), P(S): 0.012 0.035\n",
      "Acc Comparison\n",
      "         Mode   both just_main just_spurious neither b-precision b-recall  r-gap p-with p-without\n",
      "      fs-tune   0.46     0.559           1.0   0.991       0.792    0.509  0.099  0.019     0.694\n",
      " initial-tune  0.331     0.533         0.999   0.997       0.873    0.432  0.202  0.029     0.857\n",
      "\n",
      "\n",
      "\n",
      "\n",
      "dog\n",
      "\n",
      "frisbee-dog\n",
      "P(S|M), P(S): 0.239 0.037\n",
      "Acc Comparison\n",
      "         Mode   both just_main just_spurious neither b-precision b-recall  r-gap p-with p-without\n",
      "      fs-tune  0.797      0.53         0.975   0.996       0.436    0.664  0.267    0.4     0.615\n",
      " initial-tune  0.812       0.5         0.976   0.996       0.459    0.656  0.312  0.405     0.595\n",
      "\n",
      "\n",
      "\n",
      "\n",
      "\n",
      "\n",
      "Aggregate Differences:\n"
     ]
    },
    {
     "data": {
      "image/png": "[encoded data removed]",
      "text/plain": [
       "<Figure size 432x288 with 1 Axes>"
      ]
     },
     "metadata": {
      "needs_background": "light"
     },
     "output_type": "display_data"
    },
    {
     "name": "stdout",
     "output_type": "stream",
     "text": [
      "both\n",
      "mean (std): 0.006 0.051\n",
      "median: 0.0\n",
      "prob > 0: 0.483\n",
      "\n",
      "\n"
     ]
    },
    {
     "data": {
      "image/png": "[encoded data removed]",
      "text/plain": [
       "<Figure size 432x288 with 1 Axes>"
      ]
     },
     "metadata": {
      "needs_background": "light"
     },
     "output_type": "display_data"
    },
    {
     "name": "stdout",
     "output_type": "stream",
     "text": [
      "just_main\n",
      "mean (std): 0.001 0.037\n",
      "median: 0.005\n",
      "prob > 0: 0.517\n",
      "\n",
      "\n"
     ]
    },
    {
     "data": {
      "image/png": "[encoded data removed]",
      "text/plain": [
       "<Figure size 432x288 with 1 Axes>"
      ]
     },
     "metadata": {
      "needs_background": "light"
     },
     "output_type": "display_data"
    },
    {
     "name": "stdout",
     "output_type": "stream",
     "text": [
      "just_spurious\n",
      "mean (std): 0.001 0.007\n",
      "median: 0.0\n",
      "prob > 0: 0.345\n",
      "\n",
      "\n"
     ]
    },
    {
     "data": {
      "image/png": "[encoded data removed]",
      "text/plain": [
       "<Figure size 432x288 with 1 Axes>"
      ]
     },
     "metadata": {
      "needs_background": "light"
     },
     "output_type": "display_data"
    },
    {
     "name": "stdout",
     "output_type": "stream",
     "text": [
      "neither\n",
      "mean (std): -0.0 0.002\n",
      "median: 0.0\n",
      "prob > 0: 0.241\n",
      "\n",
      "\n"
     ]
    },
    {
     "data": {
      "image/png": "[encoded data removed]",
      "text/plain": [
       "<Figure size 432x288 with 1 Axes>"
      ]
     },
     "metadata": {
      "needs_background": "light"
     },
     "output_type": "display_data"
    },
    {
     "name": "stdout",
     "output_type": "stream",
     "text": [
      "b-precision\n",
      "mean (std): 0.0 0.076\n",
      "median: -0.003\n",
      "prob > 0: 0.414\n",
      "\n",
      "\n"
     ]
    },
    {
     "data": {
      "image/png": "[encoded data removed]",
      "text/plain": [
       "<Figure size 432x288 with 1 Axes>"
      ]
     },
     "metadata": {
      "needs_background": "light"
     },
     "output_type": "display_data"
    },
    {
     "name": "stdout",
     "output_type": "stream",
     "text": [
      "b-recall\n",
      "mean (std): 0.003 0.04\n",
      "median: 0.002\n",
      "prob > 0: 0.517\n",
      "\n",
      "\n"
     ]
    },
    {
     "data": {
      "image/png": "[encoded data removed]",
      "text/plain": [
       "<Figure size 432x288 with 1 Axes>"
      ]
     },
     "metadata": {
      "needs_background": "light"
     },
     "output_type": "display_data"
    },
    {
     "name": "stdout",
     "output_type": "stream",
     "text": [
      "r-gap\n",
      "mean (std): -0.009 0.038\n",
      "median: 0.0\n",
      "prob < 0: 0.483\n",
      "\n",
      "\n"
     ]
    },
    {
     "data": {
      "image/png": "[encoded data removed]",
      "text/plain": [
       "<Figure size 432x288 with 1 Axes>"
      ]
     },
     "metadata": {
      "needs_background": "light"
     },
     "output_type": "display_data"
    },
    {
     "name": "stdout",
     "output_type": "stream",
     "text": [
      "p-with\n",
      "mean (std): -0.006 0.048\n",
      "median: -0.005\n",
      "prob > 0: 0.448\n",
      "\n",
      "\n"
     ]
    },
    {
     "data": {
      "image/png": "[encoded data removed]",
      "text/plain": [
       "<Figure size 432x288 with 1 Axes>"
      ]
     },
     "metadata": {
      "needs_background": "light"
     },
     "output_type": "display_data"
    },
    {
     "name": "stdout",
     "output_type": "stream",
     "text": [
      "p-without\n",
      "mean (std): 0.004 0.068\n",
      "median: -0.001\n",
      "prob > 0: 0.448\n",
      "\n",
      "\n"
     ]
    }
   ],
   "source": [
    "compare('fs-tune', 'initial-tune')"
   ]
  }
 ],
 "metadata": {
  "kernelspec": {
   "display_name": "Python [conda env:countervision]",
   "language": "python",
   "name": "conda-env-countervision-py"
  },
  "language_info": {
   "codemirror_mode": {
    "name": "ipython",
    "version": 3
   },
   "file_extension": ".py",
   "mimetype": "text/x-python",
   "name": "python",
   "nbconvert_exporter": "python",
   "pygments_lexer": "ipython3",
   "version": "3.7.9"
  }
 },
 "nbformat": 4,
 "nbformat_minor": 4
}
