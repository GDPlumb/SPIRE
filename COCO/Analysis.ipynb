{
 "cells": [
  {
   "cell_type": "code",
   "execution_count": 1,
   "metadata": {
    "scrolled": true
   },
   "outputs": [],
   "source": [
    "\n",
    "from scipy.stats import pearsonr\n",
    "import json\n",
    "import glob\n",
    "import matplotlib.pyplot as plt\n",
    "import numpy as np\n",
    "import os\n",
    "import pandas as pd\n",
    "import sys\n",
    "\n",
    "from Config import get_data_dir\n"
   ]
  },
  {
   "cell_type": "code",
   "execution_count": 2,
   "metadata": {
    "scrolled": true
   },
   "outputs": [],
   "source": [
    "main_dir = './Models'\n",
    "\n",
    "# Collect the data for each training mode\n",
    "data = {}\n",
    "for mode_dir in glob.glob('{}/*'.format(main_dir)):\n",
    "    mode = mode_dir.split('/')[-1]\n",
    "    \n",
    "    if mode != 'initial-transfer' and mode.split('-')[0] != 'partial': #Ignore the models we aren't analyzing\n",
    "        # Aggregate the data for that mode across the trials\n",
    "        data_mode = {}\n",
    "        count = 0\n",
    "        for trial_dir in glob.glob('{}/trial*'.format(mode_dir)):\n",
    "            with open('{}/results.json'.format(trial_dir), 'r') as f:\n",
    "                data_tmp = json.load(f)\n",
    "            for key in data_tmp:\n",
    "                if key in data_mode:\n",
    "                    data_mode[key].append(data_tmp[key])\n",
    "                else:\n",
    "                    data_mode[key] = [data_tmp[key]]\n",
    "\n",
    "        # We want the average\n",
    "        for key in data_mode:\n",
    "            data_tmp = data_mode[key]\n",
    "            data_mode[key] = '{} ({})'.format(np.round(np.mean(data_tmp), 4), np.round(np.std(data_tmp), 4))\n",
    "\n",
    "        # Compute aggregated accuracy metrics\n",
    "        data[mode] = data_mode\n",
    "\n",
    "# Convert the nested dictionary into a csv\n",
    "modes = [key for key in data]\n",
    "modes.sort()\n",
    "metrics = [key for key in data[modes[0]]]\n",
    "\n",
    "# Group the results by pair\n",
    "with open('./FindSCs.json', 'r') as f:\n",
    "    pairs = json.load(f)\n",
    "\n",
    "metric_groups = {}\n",
    "metric_groups['avg'] = [('MAP', 'MAP'), ('MAR', 'MAR')]\n",
    "\n",
    "for pair in pairs:\n",
    "    n = len(pair)\n",
    "    main = pair.split('-')[0]\n",
    "    spurious = pair.split('-')[1]\n",
    "    n_main = len(main)\n",
    "    tmp = []\n",
    "    for metric in metrics:\n",
    "        if metric[:n] == pair:\n",
    "            name = metric[n+1:]\n",
    "            tmp.append((name, metric))\n",
    "    metric_groups[pair] = tmp\n",
    "\n",
    "# Save the results\n",
    "for group in metric_groups:\n",
    "\n",
    "    df = pd.DataFrame()\n",
    "    df['Mode'] = modes\n",
    "    for info in metric_groups[group]:\n",
    "        name = info[0]\n",
    "        metric = info[1]\n",
    "        data_tmp = []\n",
    "        for mode in modes:\n",
    "            data_tmp.append(data[mode][metric])\n",
    "        df[name] = data_tmp\n",
    "\n",
    "    df.to_csv('./Analysis/{}.csv'.format(group), index = False)"
   ]
  },
  {
   "cell_type": "code",
   "execution_count": 3,
   "metadata": {
    "scrolled": true
   },
   "outputs": [],
   "source": [
    "# Show the results for each object pair and then the aggregated differences\n",
    "\n",
    "def remove_var_info(df):\n",
    "    def remove(x):\n",
    "        return x.split(' ')[0]\n",
    "    return df.applymap(remove)\n",
    "\n",
    "groups = {}\n",
    "for pair in pairs:\n",
    "    spurious = pair.split('-')[1]    \n",
    "    if spurious in groups:\n",
    "        groups[spurious].append(pair)\n",
    "    else:\n",
    "        groups[spurious] = [pair]\n",
    "\n",
    "cols_acc = ['Mode', 'both', 'just_main', 'just_spurious', 'neither', 'b-precision', 'b-recall', 'r-gap', 'h-gap']\n",
    "    \n",
    "def compare(corrected, baseline):\n",
    "    modes = [corrected, baseline]\n",
    "\n",
    "    diffs_acc = {}\n",
    "    for metric in cols_acc[1:]:\n",
    "        diffs_acc[metric] = []\n",
    "    \n",
    "    stats = {}\n",
    "    stats['P(M)'] = []\n",
    "    stats['P(S)'] = []\n",
    "    stats['bias'] = []\n",
    "\n",
    "    for key in groups:\n",
    "        group = groups[key]\n",
    "        #print()\n",
    "        #print()\n",
    "        #print(key)\n",
    "        #print()\n",
    "        for pair in group:\n",
    "\n",
    "            #print(pair)\n",
    "                        \n",
    "            with open('{}/train/splits/{}.json'.format(get_data_dir(), pair), 'r') as f:\n",
    "                splits = json.load(f)\n",
    "                \n",
    "            for split in splits:\n",
    "                splits[split] = len(splits[split])\n",
    "            \n",
    "            P_M = (splits['both'] + splits['just_main']) / (splits['both'] + splits['just_spurious'] + splits['just_main'] + splits['neither'])\n",
    "            P_S = (splits['both'] + splits['just_spurious']) / (splits['both'] + splits['just_spurious'] + splits['just_main'] + splits['neither'])\n",
    "            P_S_g_M = splits['both'] / (splits['both'] + splits['just_main'])  \n",
    "            stats['P(M)'].append(P_M)\n",
    "            stats['P(S)'].append(P_S)\n",
    "            stats['bias'].append((P_S_g_M - P_S) / P_S)\n",
    "            #print('P(M), P(S|M), P(S):', np.round(P_M, 3), np.round(P_S_g_M, 3), np.round(P_S, 3))\n",
    "            \n",
    "            df = pd.read_csv('./Analysis/{}.csv'.format(pair))\n",
    "\n",
    "            #print('Acc Comparison')\n",
    "            df_tmp = remove_var_info(df.loc[df['Mode'].isin(modes), cols_acc].copy())\n",
    "            #print(df_tmp.to_string(index = False)) \n",
    "\n",
    "            for metric in diffs_acc:\n",
    "                data_tmp = {}\n",
    "                names = df_tmp['Mode'].values\n",
    "                values = df_tmp[metric].values\n",
    "                for i in range(len(names)):\n",
    "                    data_tmp[names[i]] = float(values[i])\n",
    "                if not np.any(data_tmp == -1):\n",
    "                    diffs_acc[metric].append(data_tmp[modes[0]] - data_tmp[modes[1]])\n",
    "            #print()\n",
    "            #print()\n",
    "\n",
    "    #print()\n",
    "    #print()\n",
    "    #print()\n",
    "    #print()\n",
    "    print('Aggregate Differences:')\n",
    "    \n",
    "    def get_stats(key, diffs):\n",
    "        print(key)\n",
    "        data = diffs[key]\n",
    "        print('mean (std):', np.round(np.mean(data), 3), np.round(np.std(data), 3))\n",
    "        print('median:', np.round(np.median(data), 3))\n",
    "        if key in ['r-gap', 'h-gap']:\n",
    "            print('prob < 0:',  np.round(np.mean(np.array(data) < 0), 3))\n",
    "        else:\n",
    "            print('prob > 0:',  np.round(np.mean(np.array(data) > 0), 3))\n",
    "        print()\n",
    "        print()\n",
    "\n",
    "    for key in diffs_acc:\n",
    "        plt.hist(diffs_acc[key], bins = 15)\n",
    "        if key == 'b-precision':\n",
    "            plt.title('Change in Balanced Precision')\n",
    "        elif key == 'r-gap':\n",
    "            plt.title('Change in Recall Gap')\n",
    "        elif key == 'h-gap':\n",
    "            plt.title('Change in Hallucination Gap')\n",
    "        else:\n",
    "            plt.title(key)\n",
    "        plt.show()\n",
    "        plt.close()\n",
    "        get_stats(key, diffs_acc)\n",
    "        \n",
    "    weight = np.array(stats['P(S)']) * np.array(stats['P(M)'])\n",
    "     \n",
    "    fs = 20.0\n",
    "\n",
    "    plt.scatter(weight, diffs_acc['b-precision'])\n",
    "    plt.axhline(y=0, linestyle='dashed', c = 'black')\n",
    "    plt.xlabel('P(Main) * P(Spurious)', fontsize = fs)\n",
    "    plt.ylabel('Change in b-precision', fontsize = fs)\n",
    "    plt.show()\n",
    "    plt.close()\n",
    "    \n",
    "    plt.scatter(stats['bias'], diffs_acc['b-precision'])\n",
    "    plt.axhline(y=0, linestyle='dashed', c = 'black')\n",
    "    plt.xlabel('bias', fontsize = fs)\n",
    "    plt.ylabel('Change in b-precision', fontsize = fs)\n",
    "    plt.show()\n",
    "    plt.close()\n",
    "    \n",
    "    plt.scatter(stats['bias'], weight)\n",
    "    plt.xlabel('bias', fontsize = fs)\n",
    "    plt.ylabel('P(Main) * P(Spurious)', fontsize = fs)\n",
    "    plt.show()\n",
    "    plt.close()\n"
   ]
  },
  {
   "cell_type": "code",
   "execution_count": 4,
   "metadata": {
    "scrolled": false
   },
   "outputs": [
    {
     "name": "stdout",
     "output_type": "stream",
     "text": [
      "Aggregate Differences:\n"
     ]
    },
    {
     "data": {
      "image/png": "[encoded data removed]",
      "text/plain": [
       "<Figure size 432x288 with 1 Axes>"
      ]
     },
     "metadata": {
      "needs_background": "light"
     },
     "output_type": "display_data"
    },
    {
     "name": "stdout",
     "output_type": "stream",
     "text": [
      "both\n",
      "mean (std): -0.064 0.101\n",
      "median: -0.073\n",
      "prob > 0: 0.276\n",
      "\n",
      "\n"
     ]
    },
    {
     "data": {
      "image/png": "[encoded data removed]",
      "text/plain": [
       "<Figure size 432x288 with 1 Axes>"
      ]
     },
     "metadata": {
      "needs_background": "light"
     },
     "output_type": "display_data"
    },
    {
     "name": "stdout",
     "output_type": "stream",
     "text": [
      "just_main\n",
      "mean (std): 0.008 0.074\n",
      "median: 0.013\n",
      "prob > 0: 0.586\n",
      "\n",
      "\n"
     ]
    },
    {
     "data": {
      "image/png": "[encoded data removed]",
      "text/plain": [
       "<Figure size 432x288 with 1 Axes>"
      ]
     },
     "metadata": {
      "needs_background": "light"
     },
     "output_type": "display_data"
    },
    {
     "name": "stdout",
     "output_type": "stream",
     "text": [
      "just_spurious\n",
      "mean (std): -0.001 0.038\n",
      "median: 0.003\n",
      "prob > 0: 0.69\n",
      "\n",
      "\n"
     ]
    },
    {
     "data": {
      "image/png": "[encoded data removed]",
      "text/plain": [
       "<Figure size 432x288 with 1 Axes>"
      ]
     },
     "metadata": {
      "needs_background": "light"
     },
     "output_type": "display_data"
    },
    {
     "name": "stdout",
     "output_type": "stream",
     "text": [
      "neither\n",
      "mean (std): -0.0 0.001\n",
      "median: -0.0\n",
      "prob > 0: 0.379\n",
      "\n",
      "\n"
     ]
    },
    {
     "data": {
      "image/png": "[encoded data removed]",
      "text/plain": [
       "<Figure size 432x288 with 1 Axes>"
      ]
     },
     "metadata": {
      "needs_background": "light"
     },
     "output_type": "display_data"
    },
    {
     "name": "stdout",
     "output_type": "stream",
     "text": [
      "b-precision\n",
      "mean (std): 0.012 0.135\n",
      "median: 0.051\n",
      "prob > 0: 0.724\n",
      "\n",
      "\n"
     ]
    },
    {
     "data": {
      "image/png": "[encoded data removed]",
      "text/plain": [
       "<Figure size 432x288 with 1 Axes>"
      ]
     },
     "metadata": {
      "needs_background": "light"
     },
     "output_type": "display_data"
    },
    {
     "name": "stdout",
     "output_type": "stream",
     "text": [
      "b-recall\n",
      "mean (std): -0.028 0.055\n",
      "median: -0.007\n",
      "prob > 0: 0.31\n",
      "\n",
      "\n"
     ]
    },
    {
     "data": {
      "image/png": "[encoded data removed]",
      "text/plain": [
       "<Figure size 432x288 with 1 Axes>"
      ]
     },
     "metadata": {
      "needs_background": "light"
     },
     "output_type": "display_data"
    },
    {
     "name": "stdout",
     "output_type": "stream",
     "text": [
      "r-gap\n",
      "mean (std): -0.09 0.108\n",
      "median: -0.055\n",
      "prob < 0: 0.759\n",
      "\n",
      "\n"
     ]
    },
    {
     "data": {
      "image/png": "[encoded data removed]",
      "text/plain": [
       "<Figure size 432x288 with 1 Axes>"
      ]
     },
     "metadata": {
      "needs_background": "light"
     },
     "output_type": "display_data"
    },
    {
     "name": "stdout",
     "output_type": "stream",
     "text": [
      "h-gap\n",
      "mean (std): 0.001 0.036\n",
      "median: -0.003\n",
      "prob < 0: 0.759\n",
      "\n",
      "\n"
     ]
    },
    {
     "data": {
      "image/png": "[encoded data removed]",
      "text/plain": [
       "<Figure size 432x288 with 1 Axes>"
      ]
     },
     "metadata": {
      "needs_background": "light"
     },
     "output_type": "display_data"
    },
    {
     "data": {
      "image/png": "[encoded data removed]",
      "text/plain": [
       "<Figure size 432x288 with 1 Axes>"
      ]
     },
     "metadata": {
      "needs_background": "light"
     },
     "output_type": "display_data"
    },
    {
     "data": {
      "image/png": "[encoded data removed]",
      "text/plain": [
       "<Figure size 432x288 with 1 Axes>"
      ]
     },
     "metadata": {
      "needs_background": "light"
     },
     "output_type": "display_data"
    }
   ],
   "source": [
    "compare('auto-aug', 'initial-tune')"
   ]
  },
  {
   "cell_type": "code",
   "execution_count": 5,
   "metadata": {
    "scrolled": false
   },
   "outputs": [
    {
     "name": "stdout",
     "output_type": "stream",
     "text": [
      "Aggregate Differences:\n"
     ]
    },
    {
     "data": {
      "image/png": "[encoded data removed]",
      "text/plain": [
       "<Figure size 432x288 with 1 Axes>"
      ]
     },
     "metadata": {
      "needs_background": "light"
     },
     "output_type": "display_data"
    },
    {
     "name": "stdout",
     "output_type": "stream",
     "text": [
      "both\n",
      "mean (std): -0.051 0.073\n",
      "median: -0.035\n",
      "prob > 0: 0.31\n",
      "\n",
      "\n"
     ]
    },
    {
     "data": {
      "image/png": "[encoded data removed]",
      "text/plain": [
       "<Figure size 432x288 with 1 Axes>"
      ]
     },
     "metadata": {
      "needs_background": "light"
     },
     "output_type": "display_data"
    },
    {
     "name": "stdout",
     "output_type": "stream",
     "text": [
      "just_main\n",
      "mean (std): -0.067 0.092\n",
      "median: -0.056\n",
      "prob > 0: 0.276\n",
      "\n",
      "\n"
     ]
    },
    {
     "data": {
      "image/png": "[encoded data removed]",
      "text/plain": [
       "<Figure size 432x288 with 1 Axes>"
      ]
     },
     "metadata": {
      "needs_background": "light"
     },
     "output_type": "display_data"
    },
    {
     "name": "stdout",
     "output_type": "stream",
     "text": [
      "just_spurious\n",
      "mean (std): 0.009 0.022\n",
      "median: 0.001\n",
      "prob > 0: 0.655\n",
      "\n",
      "\n"
     ]
    },
    {
     "data": {
      "image/png": "[encoded data removed]",
      "text/plain": [
       "<Figure size 432x288 with 1 Axes>"
      ]
     },
     "metadata": {
      "needs_background": "light"
     },
     "output_type": "display_data"
    },
    {
     "name": "stdout",
     "output_type": "stream",
     "text": [
      "neither\n",
      "mean (std): 0.002 0.003\n",
      "median: 0.001\n",
      "prob > 0: 0.552\n",
      "\n",
      "\n"
     ]
    },
    {
     "data": {
      "image/png": "[encoded data removed]",
      "text/plain": [
       "<Figure size 432x288 with 1 Axes>"
      ]
     },
     "metadata": {
      "needs_background": "light"
     },
     "output_type": "display_data"
    },
    {
     "name": "stdout",
     "output_type": "stream",
     "text": [
      "b-precision\n",
      "mean (std): 0.006 0.106\n",
      "median: 0.015\n",
      "prob > 0: 0.621\n",
      "\n",
      "\n"
     ]
    },
    {
     "data": {
      "image/png": "[encoded data removed]",
      "text/plain": [
       "<Figure size 432x288 with 1 Axes>"
      ]
     },
     "metadata": {
      "needs_background": "light"
     },
     "output_type": "display_data"
    },
    {
     "name": "stdout",
     "output_type": "stream",
     "text": [
      "b-recall\n",
      "mean (std): -0.059 0.069\n",
      "median: -0.038\n",
      "prob > 0: 0.276\n",
      "\n",
      "\n"
     ]
    },
    {
     "data": {
      "image/png": "[encoded data removed]",
      "text/plain": [
       "<Figure size 432x288 with 1 Axes>"
      ]
     },
     "metadata": {
      "needs_background": "light"
     },
     "output_type": "display_data"
    },
    {
     "name": "stdout",
     "output_type": "stream",
     "text": [
      "r-gap\n",
      "mean (std): -0.004 0.083\n",
      "median: -0.005\n",
      "prob < 0: 0.552\n",
      "\n",
      "\n"
     ]
    },
    {
     "data": {
      "image/png": "[encoded data removed]",
      "text/plain": [
       "<Figure size 432x288 with 1 Axes>"
      ]
     },
     "metadata": {
      "needs_background": "light"
     },
     "output_type": "display_data"
    },
    {
     "name": "stdout",
     "output_type": "stream",
     "text": [
      "h-gap\n",
      "mean (std): -0.008 0.021\n",
      "median: -0.0\n",
      "prob < 0: 0.586\n",
      "\n",
      "\n"
     ]
    },
    {
     "data": {
      "image/png": "[encoded data removed]",
      "text/plain": [
       "<Figure size 432x288 with 1 Axes>"
      ]
     },
     "metadata": {
      "needs_background": "light"
     },
     "output_type": "display_data"
    },
    {
     "data": {
      "image/png": "[encoded data removed]",
      "text/plain": [
       "<Figure size 432x288 with 1 Axes>"
      ]
     },
     "metadata": {
      "needs_background": "light"
     },
     "output_type": "display_data"
    },
    {
     "data": {
      "image/png": "[encoded data removed]",
      "text/plain": [
       "<Figure size 432x288 with 1 Axes>"
      ]
     },
     "metadata": {
      "needs_background": "light"
     },
     "output_type": "display_data"
    }
   ],
   "source": [
    "compare('fs-tune', 'initial-tune')"
   ]
  },
  {
   "cell_type": "code",
   "execution_count": 6,
   "metadata": {},
   "outputs": [
    {
     "name": "stdout",
     "output_type": "stream",
     "text": [
      "b-precision\n",
      "0.005750077176881013 0.01497926086720866\n",
      "0.005750077176881013 0.006117466784424308\n",
      "0.01292831145591461 0.014630622840423223\n",
      "r-gap\n",
      "0.5 0.06216467716317222\n",
      "h-gap\n",
      "0.5258620689655171 0.051000687785341496\n"
     ]
    }
   ],
   "source": [
    "mode = 'fs-tune'\n",
    "base = 'initial-tune'\n",
    "\n",
    "mean = []\n",
    "median = []\n",
    "agg = []\n",
    "for trial in [0, 1, 2, 3]:\n",
    "\n",
    "    with open('./Models/{}/trial{}/results.json'.format(mode, trial), 'r') as f:\n",
    "        data_mode = json.load(f)\n",
    "        \n",
    "    with open('./Models/{}/trial{}/results.json'.format(base, trial), 'r') as f:\n",
    "        data_base = json.load(f)\n",
    "        \n",
    "    diffs = []          \n",
    "    for pair in pairs:\n",
    "        name = '{}-b-precision'.format(pair)\n",
    "        diffs.append(data_mode[name] - data_base[name])\n",
    "        \n",
    "    mean.append(np.mean(diffs))\n",
    "    median.append(np.median(diffs))\n",
    "    agg.append(diffs)\n",
    "    \n",
    "\n",
    "agg = np.array(agg)\n",
    "agg = np.mean(agg, axis = 0)\n",
    "\n",
    "\n",
    "print('b-precision')\n",
    "print(np.mean(agg), np.median(agg))\n",
    "print(np.mean(mean), np.std(mean))\n",
    "print(np.mean(median), np.std(median))\n",
    "\n",
    "\n",
    "agg = []\n",
    "for trial in [0, 1, 2, 3]:\n",
    "\n",
    "    with open('./Models/{}/trial{}/results.json'.format(mode, trial), 'r') as f:\n",
    "        data_mode = json.load(f)\n",
    "        \n",
    "    with open('./Models/{}/trial{}/results.json'.format(base, trial), 'r') as f:\n",
    "        data_base = json.load(f)\n",
    "        \n",
    "    diffs = []          \n",
    "    for pair in pairs:\n",
    "        name = '{}-r-gap'.format(pair)\n",
    "        diffs.append(1.0 * (data_mode[name] < data_base[name]))\n",
    "        \n",
    "    agg.append(np.mean(diffs))\n",
    "        \n",
    "print('r-gap')\n",
    "print(np.mean(agg), np.std(agg))\n",
    "\n",
    "\n",
    "agg = []\n",
    "for trial in [0, 1, 2, 3]:\n",
    "\n",
    "    with open('./Models/{}/trial{}/results.json'.format(mode, trial), 'r') as f:\n",
    "        data_mode = json.load(f)\n",
    "        \n",
    "    with open('./Models/{}/trial{}/results.json'.format(base, trial), 'r') as f:\n",
    "        data_base = json.load(f)\n",
    "        \n",
    "    diffs = []          \n",
    "    for pair in pairs:\n",
    "        name = '{}-h-gap'.format(pair)\n",
    "        diffs.append(1.0 * (data_mode[name] < data_base[name]))\n",
    "        \n",
    "    agg.append(np.mean(diffs))\n",
    "        \n",
    "print('h-gap')\n",
    "print(np.mean(agg), np.std(agg))\n",
    "        \n"
   ]
  },
  {
   "cell_type": "code",
   "execution_count": 7,
   "metadata": {},
   "outputs": [
    {
     "name": "stdout",
     "output_type": "stream",
     "text": [
      "initial-tune\n",
      "0.024610263855238398 0.005470561928198864\n",
      "0.0246102638552384 0.005323473598008298\n",
      "0.005623074297475356 0.0011971815966769917\n",
      "auto-aug\n",
      "0.025202672311458955 0.0018872419077711755\n",
      "0.02520267231145895 0.004709967790585222\n",
      "0.0024934815279324674 0.0005464938964491657\n",
      "fs-tune\n",
      "0.016541566799576055 0.008284480558155338\n",
      "0.01654156679957606 0.0023432851751154895\n",
      "0.007402251221540146 0.001844767040838975\n"
     ]
    }
   ],
   "source": [
    "\n",
    "metric = 'h-gap' #'b-precision'\n",
    "\n",
    "for mode in ['initial-tune', 'auto-aug', 'fs-tune']:\n",
    "    print(mode)\n",
    "\n",
    "    mean = []\n",
    "    median = []\n",
    "    agg = []\n",
    "    for trial in [0, 1, 2, 3]:\n",
    "\n",
    "        with open('./Models/{}/trial{}/results.json'.format(mode, trial), 'r') as f:\n",
    "            data = json.load(f)\n",
    "\n",
    "        results = []          \n",
    "        for pair in pairs:\n",
    "            name = '{}-{}'.format(pair, metric)\n",
    "            v = data[name]\n",
    "            if metric in ['r-gap', 'h-gap']:\n",
    "                v = np.abs(v)\n",
    "            results.append(v)\n",
    "\n",
    "        mean.append(np.mean(results))\n",
    "        median.append(np.median(results))\n",
    "        agg.append(results)\n",
    "\n",
    "\n",
    "    agg = np.array(agg)\n",
    "    agg = np.mean(agg, axis = 0)\n",
    "\n",
    "\n",
    "    print(np.mean(agg), np.median(agg))\n",
    "    print(np.mean(mean), np.std(mean))\n",
    "    print(np.mean(median), np.std(median))\n",
    "\n",
    "        \n",
    "\n"
   ]
  },
  {
   "cell_type": "code",
   "execution_count": 8,
   "metadata": {},
   "outputs": [
    {
     "name": "stdout",
     "output_type": "stream",
     "text": [
      "b-precision\n",
      "0.005750077176881013 0.01497926086720866\n",
      "0.005750077176881013 0.006117466784424308\n",
      "0.01292831145591461 0.014630622840423223\n"
     ]
    }
   ],
   "source": [
    "mode = 'fs-tune'\n",
    "base = 'initial-tune'\n",
    "\n",
    "mean = []\n",
    "median = []\n",
    "agg = []\n",
    "for trial in [0, 1, 2, 3]:\n",
    "\n",
    "    with open('./Models/{}/trial{}/results.json'.format(mode, trial), 'r') as f:\n",
    "        data_mode = json.load(f)\n",
    "        \n",
    "    with open('./Models/{}/trial{}/results.json'.format(base, trial), 'r') as f:\n",
    "        data_base = json.load(f)\n",
    "        \n",
    "    diffs = []          \n",
    "    for pair in pairs:\n",
    "        name = '{}-b-precision'.format(pair)\n",
    "        diffs.append(data_mode[name] - data_base[name])\n",
    "        \n",
    "    mean.append(np.mean(diffs))\n",
    "    median.append(np.median(diffs))\n",
    "    agg.append(diffs)\n",
    "    \n",
    "\n",
    "agg = np.array(agg)\n",
    "agg = np.mean(agg, axis = 0)\n",
    "\n",
    "\n",
    "print('b-precision')\n",
    "print(np.mean(agg), np.median(agg))\n",
    "print(np.mean(mean), np.std(mean))\n",
    "print(np.mean(median), np.std(median))\n",
    "\n",
    "\n",
    "        \n",
    "\n"
   ]
  },
  {
   "cell_type": "code",
   "execution_count": 9,
   "metadata": {},
   "outputs": [],
   "source": [
    "meta = []\n",
    "\n",
    "for pair in pairs:\n",
    "    with open('{}/train/splits/{}.json'.format(get_data_dir(), pair), 'r') as f:\n",
    "        splits = json.load(f)\n",
    "        \n",
    "    n = 0\n",
    "    for key in splits:\n",
    "        splits[key] = len(splits[key])\n",
    "        n += splits[key]\n",
    "        \n",
    "    for key in splits:\n",
    "        splits[key] /= n\n",
    "        \n",
    "    main = pair.split('-')[0].replace('+', ' ')\n",
    "    spurious = pair.split('-')[1].replace('+', ' ')\n",
    "    \n",
    "    P_m = splits['both'] + splits['just_main']\n",
    "    P_s = splits['both'] + splits['just_spurious']\n",
    "    P_s_given_m = splits['both'] / P_m\n",
    "    B = (P_s_given_m - P_s) / P_s\n",
    "    R = splits['both'] / splits['just_main']\n",
    "    \n",
    "    P_m = np.round(P_m, 3)\n",
    "    P_s = np.round(P_s, 3)\n",
    "    P_s_given_m = np.round(P_s_given_m, 3)\n",
    "    B = np.round(B, 3)\n",
    "    R = np.round(R, 3)\n",
    "    \n",
    "    meta.append((main, spurious, P_m, P_s, P_s_given_m, B, R))\n",
    "    \n",
    "meta.sort(key = lambda x: x[5])\n",
    "\n",
    "\n",
    "\n",
    "stdout_fileno = sys.stdout\n",
    "\n",
    "sys.stdout = open('./Analysis/all.tex', 'w')\n",
    "print('\\\\centering')\n",
    "print('\\\\resizebox{\\\\linewidth}{!}{')\n",
    "print('\\\\begin{tabular}{@{}lllllllll@{}}')\n",
    "print('\\\\toprule')\n",
    "print('Model& Both& Just Main& Just Spurious& Neither& B-Precision& B-Recall& Recall Gap& Hallucination Gap \\\\\\\\ \\\\midrule')\n",
    "\n",
    "for info in meta:\n",
    "        \n",
    "    print('Main: {} & Spurious: {} & P(Main): {} & P(Spurious): {} & P(Spurious \\\\textbar Main): {} & Bias: {} & Ratio: {} & \\\\\\\\'.format(info[0], info[1], info[2], info[3], info[4], info[5], info[6]))\n",
    "    \n",
    "    pair = '{}-{}'.format(info[0], info[1]).replace(' ', '+')\n",
    "    df = pd.read_csv('./Analysis/{}.csv'.format(pair))\n",
    "    \n",
    "    df.replace(['initial-tune'], 'Baseline', inplace = True)\n",
    "    df.replace(['auto-aug'], 'SPIRE', inplace = True)\n",
    "    \n",
    "    for mode in ['Baseline', 'SPIRE']:\n",
    "        row = ''\n",
    "        for value in df.loc[df['Mode'] == mode].to_numpy()[0]:\n",
    "            row += '{}&'.format(value)\n",
    "        row = row[:-1]\n",
    "        row += '\\\\\\\\'\n",
    "        if mode == 'SPIRE':\n",
    "            row += ' \\\\midrule'\n",
    "\n",
    "        print(row)\n",
    "\n",
    "print('\\\\end{tabular}}')\n",
    "sys.stdout = stdout_fileno\n",
    "    "
   ]
  },
  {
   "cell_type": "code",
   "execution_count": null,
   "metadata": {},
   "outputs": [],
   "source": []
  }
 ],
 "metadata": {
  "kernelspec": {
   "display_name": "Python [conda env:countervision]",
   "language": "python",
   "name": "conda-env-countervision-py"
  },
  "language_info": {
   "codemirror_mode": {
    "name": "ipython",
    "version": 3
   },
   "file_extension": ".py",
   "mimetype": "text/x-python",
   "name": "python",
   "nbconvert_exporter": "python",
   "pygments_lexer": "ipython3",
   "version": "3.7.9"
  }
 },
 "nbformat": 4,
 "nbformat_minor": 4
}
