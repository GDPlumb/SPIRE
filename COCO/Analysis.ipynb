{
 "cells": [
  {
   "cell_type": "code",
   "execution_count": 1,
   "metadata": {},
   "outputs": [],
   "source": [
    "\n",
    "from scipy.stats import pearsonr\n",
    "import json\n",
    "import glob\n",
    "import matplotlib.pyplot as plt\n",
    "import numpy as np\n",
    "import os\n",
    "import pandas as pd\n",
    "import sys\n"
   ]
  },
  {
   "cell_type": "code",
   "execution_count": 2,
   "metadata": {},
   "outputs": [],
   "source": [
    "main_dir = './Models'\n",
    "\n",
    "# Collect the data for each training mode\n",
    "data = {}\n",
    "for mode_dir in glob.glob('{}/*'.format(main_dir)):\n",
    "    mode = mode_dir.split('/')[-1]\n",
    "\n",
    "    # Aggregate the data for that mode across the trials\n",
    "    data_mode = {}\n",
    "    count = 0\n",
    "    for trial_dir in glob.glob('{}/trial*'.format(mode_dir)):\n",
    "        # Include both Accuracy and Search results\n",
    "        for file in ['results.json', 'search.json']:\n",
    "            with open('{}/{}'.format(trial_dir, file), 'r') as f:\n",
    "                data_tmp = json.load(f)\n",
    "            for key in data_tmp:\n",
    "                if key in data_mode:\n",
    "                    data_mode[key].append(data_tmp[key])\n",
    "                else:\n",
    "                    data_mode[key] = [data_tmp[key]]\n",
    "    # We want the average\n",
    "    for key in data_mode:\n",
    "        data_tmp = data_mode[key]\n",
    "        data_mode[key] = '{} ({})'.format(np.round(np.mean(data_tmp), 3), np.round(np.std(data_tmp), 3))\n",
    "\n",
    "    data[mode] = data_mode\n",
    "\n",
    "# Convert the nested dictionary into a csv\n",
    "modes = [key for key in data]\n",
    "modes.sort()\n",
    "metrics = [key for key in data[modes[0]]]\n",
    "\n",
    "# Group the results by pair\n",
    "with open('./FindSCs.json', 'r') as f:\n",
    "    pairs = json.load(f)\n",
    "\n",
    "metric_groups = {}\n",
    "metric_groups['avg'] = [('MAP', 'MAP'), ('MAR', 'MAR')]\n",
    "\n",
    "for pair in pairs:\n",
    "    n = len(pair)\n",
    "    main = pair.split('-')[0]\n",
    "    spurious = pair.split('-')[1]\n",
    "    n_main = len(main)\n",
    "    tmp = []\n",
    "    for metric in metrics:\n",
    "        if metric[:n] == pair:\n",
    "            name = metric[n+1:]\n",
    "            if name[:n_main] == main:\n",
    "                name = name[n_main:]\n",
    "                if name[0] != '+':\n",
    "                    name = name[1:]\n",
    "            name = name.replace(main, 'main')\n",
    "            name = name.replace(spurious, 'spurious')\n",
    "            tmp.append((name, metric))\n",
    "    metric_groups[pair] = tmp\n",
    "\n",
    "# Save the results\n",
    "for group in metric_groups:\n",
    "\n",
    "    df = pd.DataFrame()\n",
    "    df['Mode'] = modes\n",
    "    for info in metric_groups[group]:\n",
    "        name = info[0]\n",
    "        metric = info[1]\n",
    "        data_tmp = []\n",
    "        for mode in modes:\n",
    "            data_tmp.append(data[mode][metric])\n",
    "        df[name] = data_tmp\n",
    "\n",
    "    df.to_csv('./Analysis/{}.csv'.format(group), index = False)"
   ]
  },
  {
   "cell_type": "code",
   "execution_count": 3,
   "metadata": {},
   "outputs": [],
   "source": [
    "\n",
    "def get_metric(metric, modes = modes, pairs = pairs):\n",
    "    out = {}\n",
    "    for mode in modes:\n",
    "        out[mode] = []\n",
    "\n",
    "    for pair in pairs:\n",
    "        df = pd.read_csv('./Analysis/{}.csv'.format(pair))\n",
    "        for i, m in enumerate(modes):\n",
    "            v = df[metric][i]\n",
    "            v = float(v.split(' ')[0])\n",
    "            out[m].append(v)\n",
    "            \n",
    "    return out\n",
    "\n",
    "# Collect the accuracy results\n",
    "metrics = ['both', 'just_main', 'just_spurious', 'neither']\n",
    "\n",
    "data = {}\n",
    "for metric in metrics:\n",
    "    data[metric] = get_metric(metric)\n",
    "\n",
    "data['avg'] = {}\n",
    "for mode in modes:\n",
    "    data['avg'][mode] = list(np.mean(np.array([data[metric][mode] for metric in metrics]), axis = 0))\n",
    "\n",
    "# Collect the search results\n",
    "metrics = ['main-pixel-paint', 'spurious-pixel-paint', '+spurious']\n",
    "\n",
    "for metric in metrics:\n",
    "    data[metric] = get_metric(metric)\n",
    "    \n"
   ]
  },
  {
   "cell_type": "code",
   "execution_count": 4,
   "metadata": {},
   "outputs": [
    {
     "name": "stdout",
     "output_type": "stream",
     "text": [
      "both 0.07192592592592592\n",
      "just_main 0.04014814814814814\n",
      "just_spurious -0.03833333333333332\n",
      "neither -0.013037037037037036\n",
      "avg 0.01517592592592591\n",
      "main-pixel-paint 0.006074074074074073\n",
      "spurious-pixel-paint -0.009888888888888893\n",
      "+spurious -0.004296296296296295\n"
     ]
    }
   ],
   "source": [
    "# Compare the corrected model to the baseline model\n",
    "\n",
    "diff = {}\n",
    "for metric in data:\n",
    "    v_method = np.array(data[metric]['aug-transfer'])\n",
    "    v_baseline = np.array(data[metric]['initial-transfer'])\n",
    "    diff[metric] = list(v_method - v_baseline)\n",
    "    \n",
    "for metric in diff:\n",
    "    print(metric, np.mean(diff[metric]))"
   ]
  },
  {
   "cell_type": "code",
   "execution_count": 5,
   "metadata": {},
   "outputs": [
    {
     "data": {
      "image/png": "[encoded data removed]",
      "text/plain": [
       "<Figure size 432x288 with 1 Axes>"
      ]
     },
     "metadata": {
      "needs_background": "light"
     },
     "output_type": "display_data"
    },
    {
     "data": {
      "image/png": "[encoded data removed]",
      "text/plain": [
       "<Figure size 432x288 with 1 Axes>"
      ]
     },
     "metadata": {
      "needs_background": "light"
     },
     "output_type": "display_data"
    },
    {
     "data": {
      "image/png": "[encoded data removed]",
      "text/plain": [
       "<Figure size 432x288 with 1 Axes>"
      ]
     },
     "metadata": {
      "needs_background": "light"
     },
     "output_type": "display_data"
    }
   ],
   "source": [
    "\n",
    "def compare(x, y):\n",
    "    plt.scatter(diff[x], diff[y])\n",
    "    plt.xlabel(x)\n",
    "    plt.ylabel(y)\n",
    "    c = np.round(pearsonr(diff[x], diff[y]), 3)\n",
    "    plt.title('Pearson Correlation: {}'.format(c))\n",
    "    plt.show()\n",
    "    plt.close()\n",
    "\n",
    "compare('main-pixel-paint', 'avg')\n",
    "compare('spurious-pixel-paint', 'avg')\n",
    "compare('+spurious', 'avg')\n"
   ]
  },
  {
   "cell_type": "code",
   "execution_count": null,
   "metadata": {},
   "outputs": [],
   "source": []
  }
 ],
 "metadata": {
  "kernelspec": {
   "display_name": "Python [conda env:countervision]",
   "language": "python",
   "name": "conda-env-countervision-py"
  },
  "language_info": {
   "codemirror_mode": {
    "name": "ipython",
    "version": 3
   },
   "file_extension": ".py",
   "mimetype": "text/x-python",
   "name": "python",
   "nbconvert_exporter": "python",
   "pygments_lexer": "ipython3",
   "version": "3.7.9"
  }
 },
 "nbformat": 4,
 "nbformat_minor": 4
}
