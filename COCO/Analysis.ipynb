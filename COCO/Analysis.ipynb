{
 "cells": [
  {
   "cell_type": "code",
   "execution_count": 1,
   "metadata": {
    "scrolled": true
   },
   "outputs": [],
   "source": [
    "\n",
    "from scipy.stats import pearsonr\n",
    "import json\n",
    "import glob\n",
    "import matplotlib.pyplot as plt\n",
    "import numpy as np\n",
    "import os\n",
    "import pandas as pd\n",
    "import sys\n",
    "\n",
    "from Config import get_data_dir\n"
   ]
  },
  {
   "cell_type": "code",
   "execution_count": 2,
   "metadata": {
    "scrolled": true
   },
   "outputs": [],
   "source": [
    "main_dir = './Models'\n",
    "\n",
    "# Collect the data for each training mode\n",
    "data = {}\n",
    "for mode_dir in glob.glob('{}/*'.format(main_dir)):\n",
    "    mode = mode_dir.split('/')[-1]\n",
    "    \n",
    "    if mode != 'initial-transfer' and mode.split('-')[0] != 'partial': #Ignore the models we aren't analyzing\n",
    "        # Aggregate the data for that mode across the trials\n",
    "        data_mode = {}\n",
    "        count = 0\n",
    "        for trial_dir in glob.glob('{}/trial*'.format(mode_dir)):\n",
    "            with open('{}/results.json'.format(trial_dir), 'r') as f:\n",
    "                data_tmp = json.load(f)\n",
    "            for key in data_tmp:\n",
    "                if key in data_mode:\n",
    "                    data_mode[key].append(data_tmp[key])\n",
    "                else:\n",
    "                    data_mode[key] = [data_tmp[key]]\n",
    "\n",
    "        # We want the average\n",
    "        for key in data_mode:\n",
    "            data_tmp = data_mode[key]\n",
    "            data_mode[key] = '{} ({})'.format(np.round(np.mean(data_tmp), 4), np.round(np.std(data_tmp), 4))\n",
    "\n",
    "        # Compute aggregated accuracy metrics\n",
    "        data[mode] = data_mode\n",
    "\n",
    "# Convert the nested dictionary into a csv\n",
    "modes = [key for key in data]\n",
    "modes.sort()\n",
    "metrics = [key for key in data[modes[0]]]\n",
    "\n",
    "# Group the results by pair\n",
    "with open('./FindSCs.json', 'r') as f:\n",
    "    pairs = json.load(f)\n",
    "\n",
    "metric_groups = {}\n",
    "metric_groups['avg'] = [('MAP', 'MAP'), ('MAR', 'MAR')]\n",
    "\n",
    "for pair in pairs:\n",
    "    n = len(pair)\n",
    "    main = pair.split('-')[0]\n",
    "    spurious = pair.split('-')[1]\n",
    "    n_main = len(main)\n",
    "    tmp = []\n",
    "    for metric in metrics:\n",
    "        if metric[:n] == pair:\n",
    "            name = metric[n+1:]\n",
    "            tmp.append((name, metric))\n",
    "    metric_groups[pair] = tmp\n",
    "\n",
    "# Save the results\n",
    "for group in metric_groups:\n",
    "\n",
    "    df = pd.DataFrame()\n",
    "    df['Mode'] = modes\n",
    "    for info in metric_groups[group]:\n",
    "        name = info[0]\n",
    "        metric = info[1]\n",
    "        data_tmp = []\n",
    "        for mode in modes:\n",
    "            data_tmp.append(data[mode][metric])\n",
    "        df[name] = data_tmp\n",
    "\n",
    "    df.to_csv('./Analysis/{}.csv'.format(group), index = False)"
   ]
  },
  {
   "cell_type": "code",
   "execution_count": 3,
   "metadata": {
    "scrolled": true
   },
   "outputs": [],
   "source": [
    "# Show the results for each object pair and then the aggregated differences\n",
    "\n",
    "def remove_var_info(df):\n",
    "    def remove(x):\n",
    "        return x.split(' ')[0]\n",
    "    return df.applymap(remove)\n",
    "\n",
    "groups = {}\n",
    "for pair in pairs:\n",
    "    spurious = pair.split('-')[1]    \n",
    "    if spurious in groups:\n",
    "        groups[spurious].append(pair)\n",
    "    else:\n",
    "        groups[spurious] = [pair]\n",
    "\n",
    "cols_acc = ['Mode', 'both', 'just_main', 'just_spurious', 'neither', 'b-precision', 'b-recall', 'r-gap', 'h-gap']\n",
    "    \n",
    "def compare(corrected, baseline):\n",
    "    modes = [corrected, baseline]\n",
    "\n",
    "    diffs_acc = {}\n",
    "    for metric in cols_acc[1:]:\n",
    "        diffs_acc[metric] = []\n",
    "    \n",
    "    stats = {}\n",
    "    stats['P(M)'] = []\n",
    "    stats['P(S)'] = []\n",
    "\n",
    "    for key in groups:\n",
    "        group = groups[key]\n",
    "        print()\n",
    "        print()\n",
    "        print(key)\n",
    "        print()\n",
    "        for pair in group:\n",
    "\n",
    "            print(pair)\n",
    "                        \n",
    "            with open('{}/train/splits/{}.json'.format(get_data_dir(), pair), 'r') as f:\n",
    "                splits = json.load(f)\n",
    "                \n",
    "            for split in splits:\n",
    "                splits[split] = len(splits[split])\n",
    "            \n",
    "            P_M = (splits['both'] + splits['just_main']) / (splits['both'] + splits['just_spurious'] + splits['just_main'] + splits['neither'])\n",
    "            P_S = (splits['both'] + splits['just_spurious']) / (splits['both'] + splits['just_spurious'] + splits['just_main'] + splits['neither'])\n",
    "            P_S_g_M = splits['both'] / (splits['both'] + splits['just_main'])  \n",
    "            stats['P(M)'].append(P_M)\n",
    "            stats['P(S)'].append(P_S)\n",
    "            print('P(M), P(S|M), P(S):', np.round(P_M, 3), np.round(P_S_g_M, 3), np.round(P_S, 3))\n",
    "            \n",
    "            df = pd.read_csv('./Analysis/{}.csv'.format(pair))\n",
    "\n",
    "            print('Acc Comparison')\n",
    "            df_tmp = remove_var_info(df.loc[df['Mode'].isin(modes), cols_acc].copy())\n",
    "            print(df_tmp.to_string(index = False)) \n",
    "\n",
    "            for metric in diffs_acc:\n",
    "                data_tmp = {}\n",
    "                names = df_tmp['Mode'].values\n",
    "                values = df_tmp[metric].values\n",
    "                for i in range(len(names)):\n",
    "                    data_tmp[names[i]] = float(values[i])\n",
    "                if not np.any(data_tmp == -1):\n",
    "                    diffs_acc[metric].append(data_tmp[modes[0]] - data_tmp[modes[1]])\n",
    "            print()\n",
    "            print()\n",
    "\n",
    "    print()\n",
    "    print()\n",
    "    print()\n",
    "    print()\n",
    "    print('Aggregate Differences:')\n",
    "    \n",
    "    def get_stats(key, diffs):\n",
    "        print(key)\n",
    "        data = diffs[key]\n",
    "        print('mean (std):', np.round(np.mean(data), 3), np.round(np.std(data), 3))\n",
    "        print('median:', np.round(np.median(data), 3))\n",
    "        if key in ['r-gap', 'h-gap']:\n",
    "            print('prob < 0:',  np.round(np.mean(np.array(data) < 0), 3))\n",
    "        else:\n",
    "            print('prob > 0:',  np.round(np.mean(np.array(data) > 0), 3))\n",
    "        print()\n",
    "        print()\n",
    "\n",
    "    for key in diffs_acc:\n",
    "        plt.hist(diffs_acc[key], bins = 15)\n",
    "        plt.title(key)\n",
    "        plt.show()\n",
    "        plt.close()\n",
    "        get_stats(key, diffs_acc)\n",
    "        \n",
    "    plt.scatter(np.array(stats['P(S)']) * np.array(stats['P(M)']), diffs_acc['b-precision'])\n",
    "    plt.xlabel('P(M) * P(S)')\n",
    "    plt.ylabel('Change in b-precision')\n",
    "    plt.show()\n",
    "    plt.close()\n"
   ]
  },
  {
   "cell_type": "code",
   "execution_count": 4,
   "metadata": {
    "scrolled": false
   },
   "outputs": [
    {
     "name": "stdout",
     "output_type": "stream",
     "text": [
      "\n",
      "\n",
      "person\n",
      "\n",
      "cell+phone-person\n",
      "P(M), P(S|M), P(S): 0.041 0.797 0.542\n",
      "Acc Comparison\n",
      "         Mode    both just_main just_spurious neither b-precision b-recall   r-gap   h-gap\n",
      "     auto-aug  0.2221    0.2784        0.9915  0.9955      0.6982   0.2502  0.0564  0.0043\n",
      " initial-tune  0.2824    0.3239        0.9845  0.9958      0.5956   0.3031  0.0415  0.0113\n",
      "\n",
      "\n",
      "handbag-person\n",
      "P(M), P(S|M), P(S): 0.058 0.91 0.542\n",
      "Acc Comparison\n",
      "         Mode   both just_main just_spurious neither b-precision b-recall   r-gap   h-gap\n",
      "     auto-aug  0.105     0.025        0.9944  0.9992      0.5678    0.065    0.08  0.0048\n",
      " initial-tune  0.242    0.0083        0.9754  0.9995      0.3946   0.1252  0.2337   0.024\n",
      "\n",
      "\n",
      "donut-person\n",
      "P(M), P(S|M), P(S): 0.013 0.548 0.542\n",
      "Acc Comparison\n",
      "         Mode    both just_main just_spurious neither b-precision b-recall   r-gap   h-gap\n",
      "     auto-aug  0.2424    0.4569        0.9981  0.9977      0.6891   0.3497  0.2145  0.0005\n",
      " initial-tune  0.2727    0.4397        0.9981  0.9976      0.6769   0.3562  0.1669  0.0011\n",
      "\n",
      "\n",
      "tie-person\n",
      "P(M), P(S|M), P(S): 0.032 0.953 0.542\n",
      "Acc Comparison\n",
      "         Mode    both just_main just_spurious neither b-precision b-recall   r-gap   h-gap\n",
      "     auto-aug   0.375    0.2431        0.9986  0.9997      0.9252    0.309  0.1319   0.001\n",
      " initial-tune  0.5562    0.2569        0.9948     1.0      0.8305   0.4066  0.2992  0.0052\n",
      "\n",
      "\n",
      "couch-person\n",
      "P(M), P(S|M), P(S): 0.037 0.506 0.542\n",
      "Acc Comparison\n",
      "         Mode    both just_main just_spurious neither b-precision b-recall   r-gap   h-gap\n",
      "     auto-aug   0.475    0.5595          0.99   0.991      0.6921   0.5173  0.0845  0.0017\n",
      " initial-tune  0.4806    0.5619        0.9912  0.9911      0.7072   0.5212  0.0813  0.0015\n",
      "\n",
      "\n",
      "hair+drier-person\n",
      "P(M), P(S|M), P(S): 0.002 0.519 0.542\n",
      "Acc Comparison\n",
      "         Mode    both just_main just_spurious neither b-precision b-recall   r-gap   h-gap\n",
      "     auto-aug  0.1167    0.0323        0.9998  0.9999      0.4649   0.0745  0.0844  0.0001\n",
      " initial-tune  0.1083    0.0081        0.9999     1.0      0.6407   0.0582  0.1003  0.0001\n",
      "\n",
      "\n",
      "hot+dog-person\n",
      "P(M), P(S|M), P(S): 0.01 0.566 0.542\n",
      "Acc Comparison\n",
      "         Mode    both just_main just_spurious neither b-precision b-recall   r-gap   h-gap\n",
      "     auto-aug  0.3828    0.6917        0.9969  0.9966      0.6352   0.5372  0.3089   0.001\n",
      " initial-tune  0.3047    0.6167        0.9977  0.9986       0.738   0.4607   0.312  0.0009\n",
      "\n",
      "\n",
      "knife-person\n",
      "P(M), P(S|M), P(S): 0.037 0.546 0.542\n",
      "Acc Comparison\n",
      "         Mode    both just_main just_spurious neither b-precision b-recall   r-gap   h-gap\n",
      "     auto-aug  0.3333     0.189        0.9906   0.992      0.5557   0.2612  0.1443  0.0015\n",
      " initial-tune  0.4066    0.2713        0.9855  0.9883      0.5141    0.339  0.1352  0.0031\n",
      "\n",
      "\n",
      "tennis+racket-person\n",
      "P(M), P(S|M), P(S): 0.029 0.99 0.542\n",
      "Acc Comparison\n",
      "         Mode    both just_main just_spurious neither b-precision b-recall   r-gap   h-gap\n",
      "     auto-aug  0.6386    0.5441        0.9979  0.9985      0.9242   0.5913  0.1329  0.0008\n",
      " initial-tune   0.866    0.4118        0.9954     1.0      0.9071   0.6389  0.4542  0.0046\n",
      "\n",
      "\n",
      "frisbee-person\n",
      "P(M), P(S|M), P(S): 0.018 0.834 0.542\n",
      "Acc Comparison\n",
      "         Mode    both just_main just_spurious neither b-precision b-recall   r-gap   h-gap\n",
      "     auto-aug  0.5034    0.3649        0.9953  0.9968      0.6899   0.4341  0.1386  0.0015\n",
      " initial-tune  0.5308    0.3176        0.9928  0.9976      0.6228   0.4242  0.2133  0.0048\n",
      "\n",
      "\n",
      "skateboard-person\n",
      "P(M), P(S|M), P(S): 0.029 0.983 0.542\n",
      "Acc Comparison\n",
      "         Mode    both just_main just_spurious neither b-precision b-recall   r-gap   h-gap\n",
      "     auto-aug  0.5706    0.3375        0.9982   0.999      0.9004    0.454  0.2331  0.0008\n",
      " initial-tune  0.7399      0.25        0.9943  0.9993      0.8013    0.495  0.4899  0.0051\n",
      "\n",
      "\n",
      "baseball+glove-person\n",
      "P(M), P(S|M), P(S): 0.022 0.99 0.542\n",
      "Acc Comparison\n",
      "         Mode    both just_main just_spurious neither b-precision b-recall   r-gap   h-gap\n",
      "     auto-aug  0.6061    0.1061        0.9977  0.9995      0.8461   0.3561     0.5  0.0018\n",
      " initial-tune  0.8005    0.0455        0.9952     1.0      0.7908    0.423  0.7551  0.0048\n",
      "\n",
      "\n",
      "baseball+bat-person\n",
      "P(M), P(S|M), P(S): 0.021 0.988 0.542\n",
      "Acc Comparison\n",
      "         Mode    both just_main just_spurious neither b-precision b-recall   r-gap   h-gap\n",
      "     auto-aug  0.5612    0.3125        0.9971  0.9983      0.8085   0.4368  0.2487  0.0012\n",
      " initial-tune  0.6516    0.1944        0.9944  0.9999       0.749    0.423  0.4572  0.0055\n",
      "\n",
      "\n",
      "snowboard-person\n",
      "P(M), P(S|M), P(S): 0.014 0.981 0.542\n",
      "Acc Comparison\n",
      "         Mode    both just_main just_spurious neither b-precision b-recall   r-gap   h-gap\n",
      "     auto-aug  0.4115    0.2333         0.996  0.9995      0.6557   0.3224  0.1781  0.0034\n",
      " initial-tune  0.5938    0.2083        0.9935  0.9999      0.5629    0.401  0.3854  0.0064\n",
      "\n",
      "\n",
      "remote-person\n",
      "P(M), P(S|M), P(S): 0.026 0.669 0.542\n",
      "Acc Comparison\n",
      "         Mode    both just_main just_spurious neither b-precision b-recall   r-gap   h-gap\n",
      "     auto-aug  0.3112    0.1383        0.9969  0.9966      0.6643   0.2248  0.1729  0.0014\n",
      " initial-tune  0.5026     0.133        0.9924  0.9948      0.6049   0.3178  0.3696  0.0024\n",
      "\n",
      "\n",
      "sports+ball-person\n",
      "P(M), P(S|M), P(S): 0.036 0.961 0.542\n",
      "Acc Comparison\n",
      "         Mode    both just_main just_spurious neither b-precision b-recall   r-gap   h-gap\n",
      "     auto-aug  0.4701    0.2938        0.9892  0.9985      0.6855   0.3819  0.1764  0.0092\n",
      " initial-tune  0.6336    0.1188        0.9772  0.9993      0.5334   0.3762  0.5149  0.0221\n",
      "\n",
      "\n",
      "skis-person\n",
      "P(M), P(S|M), P(S): 0.026 0.988 0.542\n",
      "Acc Comparison\n",
      "         Mode    both just_main just_spurious neither b-precision b-recall   r-gap   h-gap\n",
      "     auto-aug  0.6208    0.2821        0.9976  0.9995      0.8953   0.4514  0.3388  0.0019\n",
      " initial-tune   0.725    0.2692        0.9952  0.9999       0.841   0.4971  0.4558  0.0047\n",
      "\n",
      "\n",
      "toothbrush-person\n",
      "P(M), P(S|M), P(S): 0.009 0.536 0.542\n",
      "Acc Comparison\n",
      "         Mode    both just_main just_spurious neither b-precision b-recall   r-gap   h-gap\n",
      "     auto-aug  0.5395     0.352        0.9981  0.9986      0.6543   0.4458  0.1874  0.0008\n",
      " initial-tune     0.5    0.3469        0.9988  0.9979      0.6645   0.4235  0.1539   0.001\n",
      "\n",
      "\n",
      "\n",
      "\n",
      "elephant\n",
      "\n",
      "bench-elephant\n",
      "P(M), P(S|M), P(S): 0.047 0.02 0.018\n",
      "Acc Comparison\n",
      "         Mode   both just_main just_spurious neither b-precision b-recall   r-gap   h-gap\n",
      "     auto-aug  0.175    0.3675        0.8198  0.9849      0.1424   0.2712  0.1925  0.1652\n",
      " initial-tune  0.125    0.3319        0.9884  0.9853       0.539   0.2284  0.2069  0.0068\n",
      "\n",
      "\n",
      "\n",
      "\n",
      "airplane\n",
      "\n",
      "truck-airplane\n",
      "P(M), P(S|M), P(S): 0.052 0.105 0.025\n",
      "Acc Comparison\n",
      "         Mode    both just_main just_spurious neither b-precision b-recall   r-gap   h-gap\n",
      "     auto-aug   0.925    0.4142        0.8594  0.9825       0.316   0.6696  0.5108  0.1232\n",
      " initial-tune  0.9083    0.4335        0.9094  0.9824      0.4004   0.6709  0.4749   0.073\n",
      "\n",
      "\n",
      "\n",
      "\n",
      "dining+table\n",
      "\n",
      "sandwich-dining+table\n",
      "P(M), P(S|M), P(S): 0.02 0.567 0.1\n",
      "Acc Comparison\n",
      "         Mode    both just_main just_spurious neither b-precision b-recall   r-gap   h-gap\n",
      "     auto-aug  0.3578    0.4309        0.9661  0.9969      0.3002   0.3943   0.073  0.0308\n",
      " initial-tune  0.3627    0.4309        0.9617  0.9972       0.288   0.3968  0.0702  0.0355\n",
      "\n",
      "\n",
      "knife-dining+table\n",
      "P(M), P(S|M), P(S): 0.037 0.632 0.1\n",
      "Acc Comparison\n",
      "         Mode    both just_main just_spurious neither b-precision b-recall   r-gap   h-gap\n",
      "     auto-aug  0.3008    0.2063        0.9439  0.9953      0.2658   0.2536  0.0945  0.0515\n",
      " initial-tune  0.3898    0.2619         0.904   0.994      0.2152   0.3259  0.1279  0.0899\n",
      "\n",
      "\n",
      "fork-dining+table\n",
      "P(M), P(S|M), P(S): 0.03 0.756 0.1\n",
      "Acc Comparison\n",
      "         Mode    both just_main just_spurious neither b-precision b-recall   r-gap   h-gap\n",
      "     auto-aug  0.3068    0.2556        0.9514   0.998      0.3126   0.2812  0.0513  0.0466\n",
      " initial-tune  0.5023    0.4167        0.8855  0.9965      0.2083   0.4595  0.0856   0.111\n",
      "\n",
      "\n",
      "spoon-dining+table\n",
      "P(M), P(S|M), P(S): 0.03 0.593 0.1\n",
      "Acc Comparison\n",
      "         Mode    both just_main just_spurious neither b-precision b-recall   r-gap   h-gap\n",
      "     auto-aug  0.2644    0.1326        0.9463  0.9961       0.179   0.1985  0.1318  0.0499\n",
      " initial-tune  0.3793     0.197        0.9112  0.9957      0.1674   0.2881  0.1823  0.0845\n",
      "\n",
      "\n",
      "bowl-dining+table\n",
      "P(M), P(S|M), P(S): 0.06 0.478 0.1\n",
      "Acc Comparison\n",
      "         Mode    both just_main just_spurious neither b-precision b-recall   r-gap   h-gap\n",
      "     auto-aug  0.5352    0.3939        0.8828  0.9875      0.3248   0.4646  0.1413  0.1047\n",
      " initial-tune  0.5403     0.353        0.8707  0.9908      0.3165   0.4466  0.1872    0.12\n",
      "\n",
      "\n",
      "\n",
      "\n",
      "sheep\n",
      "\n",
      "dog-sheep\n",
      "P(M), P(S|M), P(S): 0.037 0.026 0.013\n",
      "Acc Comparison\n",
      "         Mode   both just_main just_spurious neither b-precision b-recall   r-gap   h-gap\n",
      "     auto-aug  0.225    0.5436        0.9417  0.9944      0.3247   0.3843  0.3186  0.0528\n",
      " initial-tune    0.2    0.5741        0.9417  0.9924       0.424   0.3871  0.3741  0.0528\n",
      "\n",
      "\n",
      "bird-sheep\n",
      "P(M), P(S|M), P(S): 0.027 0.013 0.013\n",
      "Acc Comparison\n",
      "         Mode    both just_main just_spurious neither b-precision b-recall   r-gap   h-gap\n",
      "     auto-aug  0.3306     0.448        0.9308  0.9942       0.259   0.3893  0.1174  0.0634\n",
      " initial-tune  0.2258     0.422        0.9885  0.9956      0.6218   0.3239  0.1962  0.0097\n",
      "\n",
      "\n",
      "\n",
      "\n",
      "cat\n",
      "\n",
      "tie-cat\n",
      "P(M), P(S|M), P(S): 0.032 0.012 0.035\n",
      "Acc Comparison\n",
      "         Mode    both just_main just_spurious neither b-precision b-recall   r-gap   h-gap\n",
      "     auto-aug     0.5    0.3594           1.0  0.9991      0.9699   0.4297  0.1406  0.0009\n",
      " initial-tune  0.3306     0.533        0.9986  0.9972      0.8727   0.4318  0.2023  0.0027\n",
      "\n",
      "\n",
      "\n",
      "\n",
      "dog\n",
      "\n",
      "frisbee-dog\n",
      "P(M), P(S|M), P(S): 0.018 0.239 0.037\n",
      "Acc Comparison\n",
      "         Mode    both just_main just_spurious neither b-precision b-recall   r-gap   h-gap\n",
      "     auto-aug  0.7109    0.4735        0.9921  0.9962      0.6871   0.5922  0.2375  0.0044\n",
      " initial-tune  0.8125       0.5        0.9764  0.9957      0.4588   0.6562  0.3125  0.0193\n",
      "\n",
      "\n",
      "\n",
      "\n",
      "\n",
      "\n",
      "Aggregate Differences:\n"
     ]
    },
    {
     "data": {
      "image/png": "[encoded data removed]",
      "text/plain": [
       "<Figure size 432x288 with 1 Axes>"
      ]
     },
     "metadata": {
      "needs_background": "light"
     },
     "output_type": "display_data"
    },
    {
     "name": "stdout",
     "output_type": "stream",
     "text": [
      "both\n",
      "mean (std): -0.064 0.101\n",
      "median: -0.073\n",
      "prob > 0: 0.276\n",
      "\n",
      "\n"
     ]
    },
    {
     "data": {
      "image/png": "[encoded data removed]",
      "text/plain": [
       "<Figure size 432x288 with 1 Axes>"
      ]
     },
     "metadata": {
      "needs_background": "light"
     },
     "output_type": "display_data"
    },
    {
     "name": "stdout",
     "output_type": "stream",
     "text": [
      "just_main\n",
      "mean (std): 0.008 0.074\n",
      "median: 0.013\n",
      "prob > 0: 0.586\n",
      "\n",
      "\n"
     ]
    },
    {
     "data": {
      "image/png": "[encoded data removed]",
      "text/plain": [
       "<Figure size 432x288 with 1 Axes>"
      ]
     },
     "metadata": {
      "needs_background": "light"
     },
     "output_type": "display_data"
    },
    {
     "name": "stdout",
     "output_type": "stream",
     "text": [
      "just_spurious\n",
      "mean (std): -0.001 0.038\n",
      "median: 0.003\n",
      "prob > 0: 0.69\n",
      "\n",
      "\n"
     ]
    },
    {
     "data": {
      "image/png": "[encoded data removed]",
      "text/plain": [
       "<Figure size 432x288 with 1 Axes>"
      ]
     },
     "metadata": {
      "needs_background": "light"
     },
     "output_type": "display_data"
    },
    {
     "name": "stdout",
     "output_type": "stream",
     "text": [
      "neither\n",
      "mean (std): -0.0 0.001\n",
      "median: -0.0\n",
      "prob > 0: 0.379\n",
      "\n",
      "\n"
     ]
    },
    {
     "data": {
      "image/png": "[encoded data removed]",
      "text/plain": [
       "<Figure size 432x288 with 1 Axes>"
      ]
     },
     "metadata": {
      "needs_background": "light"
     },
     "output_type": "display_data"
    },
    {
     "name": "stdout",
     "output_type": "stream",
     "text": [
      "b-precision\n",
      "mean (std): 0.012 0.135\n",
      "median: 0.051\n",
      "prob > 0: 0.724\n",
      "\n",
      "\n"
     ]
    },
    {
     "data": {
      "image/png": "[encoded data removed]",
      "text/plain": [
       "<Figure size 432x288 with 1 Axes>"
      ]
     },
     "metadata": {
      "needs_background": "light"
     },
     "output_type": "display_data"
    },
    {
     "name": "stdout",
     "output_type": "stream",
     "text": [
      "b-recall\n",
      "mean (std): -0.028 0.055\n",
      "median: -0.007\n",
      "prob > 0: 0.31\n",
      "\n",
      "\n"
     ]
    },
    {
     "data": {
      "image/png": "[encoded data removed]",
      "text/plain": [
       "<Figure size 432x288 with 1 Axes>"
      ]
     },
     "metadata": {
      "needs_background": "light"
     },
     "output_type": "display_data"
    },
    {
     "name": "stdout",
     "output_type": "stream",
     "text": [
      "r-gap\n",
      "mean (std): -0.09 0.108\n",
      "median: -0.055\n",
      "prob < 0: 0.759\n",
      "\n",
      "\n"
     ]
    },
    {
     "data": {
      "image/png": "[encoded data removed]",
      "text/plain": [
       "<Figure size 432x288 with 1 Axes>"
      ]
     },
     "metadata": {
      "needs_background": "light"
     },
     "output_type": "display_data"
    },
    {
     "name": "stdout",
     "output_type": "stream",
     "text": [
      "h-gap\n",
      "mean (std): 0.001 0.036\n",
      "median: -0.003\n",
      "prob < 0: 0.759\n",
      "\n",
      "\n"
     ]
    },
    {
     "data": {
      "image/png": "[encoded data removed]",
      "text/plain": [
       "<Figure size 432x288 with 1 Axes>"
      ]
     },
     "metadata": {
      "needs_background": "light"
     },
     "output_type": "display_data"
    }
   ],
   "source": [
    "compare('auto-aug', 'initial-tune')"
   ]
  },
  {
   "cell_type": "code",
   "execution_count": 5,
   "metadata": {
    "scrolled": false
   },
   "outputs": [
    {
     "name": "stdout",
     "output_type": "stream",
     "text": [
      "\n",
      "\n",
      "person\n",
      "\n",
      "cell+phone-person\n",
      "P(M), P(S|M), P(S): 0.041 0.797 0.542\n",
      "Acc Comparison\n",
      "         Mode    both just_main just_spurious neither b-precision b-recall   r-gap   h-gap\n",
      "      fs-tune  0.2471    0.2273        0.9858  0.9981      0.5804   0.2372  0.0213  0.0123\n",
      " initial-tune  0.2824    0.3239        0.9845  0.9958      0.5956   0.3031  0.0415  0.0113\n",
      "\n",
      "\n",
      "handbag-person\n",
      "P(M), P(S|M), P(S): 0.058 0.91 0.542\n",
      "Acc Comparison\n",
      "         Mode    both just_main just_spurious neither b-precision b-recall   r-gap  h-gap\n",
      "      fs-tune  0.2251       0.0        0.9748  0.9988      0.3611   0.1125  0.2251  0.024\n",
      " initial-tune   0.242    0.0083        0.9754  0.9995      0.3946   0.1252  0.2337  0.024\n",
      "\n",
      "\n",
      "donut-person\n",
      "P(M), P(S|M), P(S): 0.013 0.548 0.542\n",
      "Acc Comparison\n",
      "         Mode    both just_main just_spurious neither b-precision b-recall   r-gap   h-gap\n",
      "      fs-tune  0.2424    0.4741        0.9984  0.9979      0.7309   0.3583  0.2317  0.0012\n",
      " initial-tune  0.2727    0.4397        0.9981  0.9976      0.6769   0.3562  0.1669  0.0011\n",
      "\n",
      "\n",
      "tie-person\n",
      "P(M), P(S|M), P(S): 0.032 0.953 0.542\n",
      "Acc Comparison\n",
      "         Mode    both just_main just_spurious neither b-precision b-recall   r-gap   h-gap\n",
      "      fs-tune  0.5833    0.2847        0.9849  0.9993      0.6529    0.434  0.2986  0.0144\n",
      " initial-tune  0.5562    0.2569        0.9948     1.0      0.8305   0.4066  0.2992  0.0052\n",
      "\n",
      "\n",
      "couch-person\n",
      "P(M), P(S|M), P(S): 0.037 0.506 0.542\n",
      "Acc Comparison\n",
      "         Mode    both just_main just_spurious neither b-precision b-recall   r-gap   h-gap\n",
      "      fs-tune  0.4556      0.55         0.992  0.9918      0.7239   0.5028  0.0944   0.003\n",
      " initial-tune  0.4806    0.5619        0.9912  0.9911      0.7072   0.5212  0.0813  0.0015\n",
      "\n",
      "\n",
      "hair+drier-person\n",
      "P(M), P(S|M), P(S): 0.002 0.519 0.542\n",
      "Acc Comparison\n",
      "         Mode    both just_main just_spurious neither b-precision b-recall   r-gap   h-gap\n",
      "      fs-tune  0.0667    0.0081           1.0  0.9999      0.7804   0.0374  0.0586  0.0001\n",
      " initial-tune  0.1083    0.0081        0.9999     1.0      0.6407   0.0582  0.1003  0.0001\n",
      "\n",
      "\n",
      "hot+dog-person\n",
      "P(M), P(S|M), P(S): 0.01 0.566 0.542\n",
      "Acc Comparison\n",
      "         Mode    both just_main just_spurious neither b-precision b-recall  r-gap   h-gap\n",
      "      fs-tune    0.25       0.6        0.9984  0.9991      0.7897    0.425   0.35  0.0007\n",
      " initial-tune  0.3047    0.6167        0.9977  0.9986       0.738   0.4607  0.312  0.0009\n",
      "\n",
      "\n",
      "knife-person\n",
      "P(M), P(S|M), P(S): 0.037 0.546 0.542\n",
      "Acc Comparison\n",
      "         Mode    both just_main just_spurious neither b-precision b-recall   r-gap   h-gap\n",
      "      fs-tune  0.4268    0.3384        0.9847  0.9846      0.4892   0.3826  0.0884  0.0019\n",
      " initial-tune  0.4066    0.2713        0.9855  0.9883      0.5141    0.339  0.1352  0.0031\n",
      "\n",
      "\n",
      "tennis+racket-person\n",
      "P(M), P(S|M), P(S): 0.029 0.99 0.542\n",
      "Acc Comparison\n",
      "         Mode    both just_main just_spurious neither b-precision b-recall   r-gap   h-gap\n",
      "      fs-tune  0.8675    0.4044        0.9935     1.0      0.8737   0.6359  0.4631  0.0065\n",
      " initial-tune   0.866    0.4118        0.9954     1.0      0.9071   0.6389  0.4542  0.0046\n",
      "\n",
      "\n",
      "frisbee-person\n",
      "P(M), P(S|M), P(S): 0.018 0.834 0.542\n",
      "Acc Comparison\n",
      "         Mode    both just_main just_spurious neither b-precision b-recall   r-gap   h-gap\n",
      "      fs-tune  0.5548    0.3311        0.9942  0.9966      0.6339   0.4429  0.2237  0.0025\n",
      " initial-tune  0.5308    0.3176        0.9928  0.9976      0.6228   0.4242  0.2133  0.0048\n",
      "\n",
      "\n",
      "skateboard-person\n",
      "P(M), P(S|M), P(S): 0.029 0.983 0.542\n",
      "Acc Comparison\n",
      "         Mode    both just_main just_spurious neither b-precision b-recall   r-gap   h-gap\n",
      "      fs-tune   0.752     0.225        0.9944  0.9983      0.7811   0.4885   0.527  0.0039\n",
      " initial-tune  0.7399      0.25        0.9943  0.9993      0.8013    0.495  0.4899  0.0051\n",
      "\n",
      "\n",
      "baseball+glove-person\n",
      "P(M), P(S|M), P(S): 0.022 0.99 0.542\n",
      "Acc Comparison\n",
      "         Mode    both just_main just_spurious neither b-precision b-recall   r-gap   h-gap\n",
      "      fs-tune  0.7803    0.0152        0.9956     1.0      0.7863   0.3977  0.7652  0.0044\n",
      " initial-tune  0.8005    0.0455        0.9952     1.0      0.7908    0.423  0.7551  0.0048\n",
      "\n",
      "\n",
      "baseball+bat-person\n",
      "P(M), P(S|M), P(S): 0.021 0.988 0.542\n",
      "Acc Comparison\n",
      "         Mode    both just_main just_spurious neither b-precision b-recall   r-gap   h-gap\n",
      "      fs-tune  0.7314    0.2431        0.9937  0.9999       0.755   0.4872  0.4883  0.0061\n",
      " initial-tune  0.6516    0.1944        0.9944  0.9999       0.749    0.423  0.4572  0.0055\n",
      "\n",
      "\n",
      "snowboard-person\n",
      "P(M), P(S|M), P(S): 0.014 0.981 0.542\n",
      "Acc Comparison\n",
      "         Mode    both just_main just_spurious neither b-precision b-recall   r-gap   h-gap\n",
      "      fs-tune  0.6146    0.2167        0.9922  0.9997      0.5071   0.4156  0.3979  0.0075\n",
      " initial-tune  0.5938    0.2083        0.9935  0.9999      0.5629    0.401  0.3854  0.0064\n",
      "\n",
      "\n",
      "remote-person\n",
      "P(M), P(S|M), P(S): 0.026 0.669 0.542\n",
      "Acc Comparison\n",
      "         Mode    both just_main just_spurious neither b-precision b-recall   r-gap   h-gap\n",
      "      fs-tune   0.449    0.1117        0.9935  0.9968       0.639   0.2803  0.3373  0.0032\n",
      " initial-tune  0.5026     0.133        0.9924  0.9948      0.6049   0.3178  0.3696  0.0024\n",
      "\n",
      "\n",
      "sports+ball-person\n",
      "P(M), P(S|M), P(S): 0.036 0.961 0.542\n",
      "Acc Comparison\n",
      "         Mode    both just_main just_spurious neither b-precision b-recall   r-gap   h-gap\n",
      "      fs-tune  0.6509    0.1188        0.9759  0.9996      0.5401   0.3848  0.5322  0.0236\n",
      " initial-tune  0.6336    0.1188        0.9772  0.9993      0.5334   0.3762  0.5149  0.0221\n",
      "\n",
      "\n",
      "skis-person\n",
      "P(M), P(S|M), P(S): 0.026 0.988 0.542\n",
      "Acc Comparison\n",
      "         Mode    both just_main just_spurious neither b-precision b-recall   r-gap   h-gap\n",
      "      fs-tune  0.7729    0.3013        0.9946  0.9999      0.8272   0.5371  0.4716  0.0053\n",
      " initial-tune   0.725    0.2692        0.9952  0.9999       0.841   0.4971  0.4558  0.0047\n",
      "\n",
      "\n",
      "toothbrush-person\n",
      "P(M), P(S|M), P(S): 0.009 0.536 0.542\n",
      "Acc Comparison\n",
      "         Mode    both just_main just_spurious neither b-precision b-recall   r-gap   h-gap\n",
      "      fs-tune  0.5066     0.398        0.9978   0.998       0.602   0.4523  0.1124  0.0014\n",
      " initial-tune     0.5    0.3469        0.9988  0.9979      0.6645   0.4235  0.1539   0.001\n",
      "\n",
      "\n",
      "\n",
      "\n",
      "elephant\n",
      "\n",
      "bench-elephant\n",
      "P(M), P(S|M), P(S): 0.047 0.02 0.018\n",
      "Acc Comparison\n",
      "         Mode   both just_main just_spurious neither b-precision b-recall   r-gap   h-gap\n",
      "      fs-tune  0.125    0.3373        0.9855  0.9891      0.5567   0.2311  0.2123  0.0127\n",
      " initial-tune  0.125    0.3319        0.9884  0.9853       0.539   0.2284  0.2069  0.0068\n",
      "\n",
      "\n",
      "\n",
      "\n",
      "airplane\n",
      "\n",
      "truck-airplane\n",
      "P(M), P(S|M), P(S): 0.052 0.105 0.025\n",
      "Acc Comparison\n",
      "         Mode    both just_main just_spurious neither b-precision b-recall   r-gap   h-gap\n",
      "      fs-tune  0.8417    0.3627        0.9281  0.9859      0.4361   0.6022   0.479  0.0578\n",
      " initial-tune  0.9083    0.4335        0.9094  0.9824      0.4004   0.6709  0.4749   0.073\n",
      "\n",
      "\n",
      "\n",
      "\n",
      "dining+table\n",
      "\n",
      "sandwich-dining+table\n",
      "P(M), P(S|M), P(S): 0.02 0.567 0.1\n",
      "Acc Comparison\n",
      "         Mode    both just_main just_spurious neither b-precision b-recall   r-gap   h-gap\n",
      "      fs-tune  0.4314    0.4628        0.9539  0.9959      0.2866   0.4471  0.0433   0.042\n",
      " initial-tune  0.3627    0.4309        0.9617  0.9972       0.288   0.3968  0.0702  0.0355\n",
      "\n",
      "\n",
      "knife-dining+table\n",
      "P(M), P(S|M), P(S): 0.037 0.632 0.1\n",
      "Acc Comparison\n",
      "         Mode    both just_main just_spurious neither b-precision b-recall   r-gap   h-gap\n",
      "      fs-tune  0.4449    0.2778        0.8962  0.9923         0.2   0.3613  0.1671  0.0961\n",
      " initial-tune  0.3898    0.2619         0.904   0.994      0.2152   0.3259  0.1279  0.0899\n",
      "\n",
      "\n",
      "fork-dining+table\n",
      "P(M), P(S|M), P(S): 0.03 0.756 0.1\n",
      "Acc Comparison\n",
      "         Mode    both just_main just_spurious neither b-precision b-recall   r-gap   h-gap\n",
      "      fs-tune  0.4455    0.3833        0.9003  0.9964      0.2056   0.4144  0.0687  0.0961\n",
      " initial-tune  0.5023    0.4167        0.8855  0.9965      0.2083   0.4595  0.0856   0.111\n",
      "\n",
      "\n",
      "spoon-dining+table\n",
      "P(M), P(S|M), P(S): 0.03 0.593 0.1\n",
      "Acc Comparison\n",
      "         Mode    both just_main just_spurious neither b-precision b-recall   r-gap   h-gap\n",
      "      fs-tune  0.3678    0.2045        0.9088  0.9946      0.1641   0.2862  0.1633  0.0858\n",
      " initial-tune  0.3793     0.197        0.9112  0.9957      0.1674   0.2881  0.1823  0.0845\n",
      "\n",
      "\n",
      "bowl-dining+table\n"
     ]
    },
    {
     "name": "stdout",
     "output_type": "stream",
     "text": [
      "P(M), P(S|M), P(S): 0.06 0.478 0.1\n",
      "Acc Comparison\n",
      "         Mode    both just_main just_spurious neither b-precision b-recall   r-gap  h-gap\n",
      "      fs-tune  0.4983    0.3242         0.892    0.99      0.3315   0.4113  0.1741  0.098\n",
      " initial-tune  0.5403     0.353        0.8707  0.9908      0.3165   0.4466  0.1872   0.12\n",
      "\n",
      "\n",
      "\n",
      "\n",
      "sheep\n",
      "\n",
      "dog-sheep\n",
      "P(M), P(S|M), P(S): 0.037 0.026 0.013\n",
      "Acc Comparison\n",
      "         Mode    both just_main just_spurious neither b-precision b-recall   r-gap   h-gap\n",
      "      fs-tune  0.3417    0.6163        0.9375  0.9855      0.3293    0.479  0.2746   0.048\n",
      " initial-tune     0.2    0.5741        0.9417  0.9924       0.424   0.3871  0.3741  0.0528\n",
      "\n",
      "\n",
      "bird-sheep\n",
      "P(M), P(S|M), P(S): 0.027 0.013 0.013\n",
      "Acc Comparison\n",
      "         Mode    both just_main just_spurious neither b-precision b-recall   r-gap   h-gap\n",
      "      fs-tune  0.2097     0.358           1.0  0.9984       0.909   0.2838  0.1483  0.0016\n",
      " initial-tune  0.2258     0.422        0.9885  0.9956      0.6218   0.3239  0.1962  0.0097\n",
      "\n",
      "\n",
      "\n",
      "\n",
      "cat\n",
      "\n",
      "tie-cat\n",
      "P(M), P(S|M), P(S): 0.032 0.012 0.035\n",
      "Acc Comparison\n",
      "         Mode    both just_main just_spurious neither b-precision b-recall   r-gap   h-gap\n",
      "      fs-tune  0.4597     0.559           1.0  0.9914      0.7924   0.5094  0.0994  0.0086\n",
      " initial-tune  0.3306     0.533        0.9986  0.9972      0.8727   0.4318  0.2023  0.0027\n",
      "\n",
      "\n",
      "\n",
      "\n",
      "dog\n",
      "\n",
      "frisbee-dog\n",
      "P(M), P(S|M), P(S): 0.018 0.239 0.037\n",
      "Acc Comparison\n",
      "         Mode    both just_main just_spurious neither b-precision b-recall   r-gap   h-gap\n",
      "      fs-tune  0.7969    0.5303        0.9748   0.996      0.4362   0.6636  0.2666  0.0212\n",
      " initial-tune  0.8125       0.5        0.9764  0.9957      0.4588   0.6562  0.3125  0.0193\n",
      "\n",
      "\n",
      "\n",
      "\n",
      "\n",
      "\n",
      "Aggregate Differences:\n"
     ]
    },
    {
     "data": {
      "image/png": "[encoded data removed]",
      "text/plain": [
       "<Figure size 432x288 with 1 Axes>"
      ]
     },
     "metadata": {
      "needs_background": "light"
     },
     "output_type": "display_data"
    },
    {
     "name": "stdout",
     "output_type": "stream",
     "text": [
      "both\n",
      "mean (std): 0.006 0.051\n",
      "median: 0.0\n",
      "prob > 0: 0.483\n",
      "\n",
      "\n"
     ]
    },
    {
     "data": {
      "image/png": "[encoded data removed]",
      "text/plain": [
       "<Figure size 432x288 with 1 Axes>"
      ]
     },
     "metadata": {
      "needs_background": "light"
     },
     "output_type": "display_data"
    },
    {
     "name": "stdout",
     "output_type": "stream",
     "text": [
      "just_main\n",
      "mean (std): 0.001 0.037\n",
      "median: 0.005\n",
      "prob > 0: 0.517\n",
      "\n",
      "\n"
     ]
    },
    {
     "data": {
      "image/png": "[encoded data removed]",
      "text/plain": [
       "<Figure size 432x288 with 1 Axes>"
      ]
     },
     "metadata": {
      "needs_background": "light"
     },
     "output_type": "display_data"
    },
    {
     "name": "stdout",
     "output_type": "stream",
     "text": [
      "just_spurious\n",
      "mean (std): 0.001 0.007\n",
      "median: -0.001\n",
      "prob > 0: 0.483\n",
      "\n",
      "\n"
     ]
    },
    {
     "data": {
      "image/png": "[encoded data removed]",
      "text/plain": [
       "<Figure size 432x288 with 1 Axes>"
      ]
     },
     "metadata": {
      "needs_background": "light"
     },
     "output_type": "display_data"
    },
    {
     "name": "stdout",
     "output_type": "stream",
     "text": [
      "neither\n",
      "mean (std): -0.0 0.002\n",
      "median: 0.0\n",
      "prob > 0: 0.379\n",
      "\n",
      "\n"
     ]
    },
    {
     "data": {
      "image/png": "[encoded data removed]",
      "text/plain": [
       "<Figure size 432x288 with 1 Axes>"
      ]
     },
     "metadata": {
      "needs_background": "light"
     },
     "output_type": "display_data"
    },
    {
     "name": "stdout",
     "output_type": "stream",
     "text": [
      "b-precision\n",
      "mean (std): 0.0 0.076\n",
      "median: -0.003\n",
      "prob > 0: 0.414\n",
      "\n",
      "\n"
     ]
    },
    {
     "data": {
      "image/png": "[encoded data removed]",
      "text/plain": [
       "<Figure size 432x288 with 1 Axes>"
      ]
     },
     "metadata": {
      "needs_background": "light"
     },
     "output_type": "display_data"
    },
    {
     "name": "stdout",
     "output_type": "stream",
     "text": [
      "b-recall\n",
      "mean (std): 0.003 0.04\n",
      "median: 0.002\n",
      "prob > 0: 0.517\n",
      "\n",
      "\n"
     ]
    },
    {
     "data": {
      "image/png": "[encoded data removed]",
      "text/plain": [
       "<Figure size 432x288 with 1 Axes>"
      ]
     },
     "metadata": {
      "needs_background": "light"
     },
     "output_type": "display_data"
    },
    {
     "name": "stdout",
     "output_type": "stream",
     "text": [
      "r-gap\n",
      "mean (std): -0.009 0.038\n",
      "median: -0.001\n",
      "prob < 0: 0.517\n",
      "\n",
      "\n"
     ]
    },
    {
     "data": {
      "image/png": "[encoded data removed]",
      "text/plain": [
       "<Figure size 432x288 with 1 Axes>"
      ]
     },
     "metadata": {
      "needs_background": "light"
     },
     "output_type": "display_data"
    },
    {
     "name": "stdout",
     "output_type": "stream",
     "text": [
      "h-gap\n",
      "mean (std): -0.001 0.007\n",
      "median: 0.001\n",
      "prob < 0: 0.345\n",
      "\n",
      "\n"
     ]
    },
    {
     "data": {
      "image/png": "[encoded data removed]",
      "text/plain": [
       "<Figure size 432x288 with 1 Axes>"
      ]
     },
     "metadata": {
      "needs_background": "light"
     },
     "output_type": "display_data"
    }
   ],
   "source": [
    "compare('fs-tune', 'initial-tune')"
   ]
  }
 ],
 "metadata": {
  "kernelspec": {
   "display_name": "Python [conda env:countervision]",
   "language": "python",
   "name": "conda-env-countervision-py"
  },
  "language_info": {
   "codemirror_mode": {
    "name": "ipython",
    "version": 3
   },
   "file_extension": ".py",
   "mimetype": "text/x-python",
   "name": "python",
   "nbconvert_exporter": "python",
   "pygments_lexer": "ipython3",
   "version": "3.7.9"
  }
 },
 "nbformat": 4,
 "nbformat_minor": 4
}
