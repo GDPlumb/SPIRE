{
 "cells": [
  {
   "cell_type": "code",
   "execution_count": 1,
   "metadata": {
    "scrolled": true
   },
   "outputs": [],
   "source": [
    "\n",
    "from scipy.stats import pearsonr\n",
    "import json\n",
    "import glob\n",
    "import matplotlib.pyplot as plt\n",
    "import numpy as np\n",
    "import os\n",
    "import pandas as pd\n",
    "import sys\n",
    "\n",
    "from Config import get_data_dir\n"
   ]
  },
  {
   "cell_type": "code",
   "execution_count": 2,
   "metadata": {
    "scrolled": true
   },
   "outputs": [],
   "source": [
    "main_dir = './Models'\n",
    "\n",
    "# Collect the data for each training mode\n",
    "data = {}\n",
    "for mode_dir in glob.glob('{}/*'.format(main_dir)):\n",
    "    mode = mode_dir.split('/')[-1]\n",
    "    \n",
    "    if mode != 'initial-transfer' and mode.split('-')[0] != 'partial': #Ignore the models we aren't analyzing\n",
    "        # Aggregate the data for that mode across the trials\n",
    "        data_mode = {}\n",
    "        count = 0\n",
    "        for trial_dir in glob.glob('{}/trial*'.format(mode_dir)):\n",
    "            # Include both Accuracy and Search results\n",
    "            for file in ['results.json', 'search.json']:\n",
    "                with open('{}/{}'.format(trial_dir, file), 'r') as f:\n",
    "                    data_tmp = json.load(f)\n",
    "                for key in data_tmp:\n",
    "                    if key in data_mode:\n",
    "                        data_mode[key].append(data_tmp[key])\n",
    "                    else:\n",
    "                        data_mode[key] = [data_tmp[key]]\n",
    "\n",
    "        # We want the average\n",
    "        for key in data_mode:\n",
    "            data_tmp = data_mode[key]\n",
    "            data_mode[key] = '{} ({})'.format(np.round(np.mean(data_tmp), 3), np.round(np.std(data_tmp), 3))\n",
    "\n",
    "        # Compute aggregated accuracy metrics\n",
    "        data[mode] = data_mode\n",
    "\n",
    "# Convert the nested dictionary into a csv\n",
    "modes = [key for key in data]\n",
    "modes.sort()\n",
    "metrics = [key for key in data[modes[0]]]\n",
    "\n",
    "# Group the results by pair\n",
    "with open('./FindSCs.json', 'r') as f:\n",
    "    pairs = json.load(f)\n",
    "\n",
    "metric_groups = {}\n",
    "metric_groups['avg'] = [('MAP', 'MAP'), ('MAR', 'MAR')]\n",
    "\n",
    "for pair in pairs:\n",
    "    n = len(pair)\n",
    "    main = pair.split('-')[0]\n",
    "    spurious = pair.split('-')[1]\n",
    "    n_main = len(main)\n",
    "    tmp = []\n",
    "    for metric in metrics:\n",
    "        if metric[:n] == pair:\n",
    "            name = metric[n+1:]\n",
    "            tmp.append((name, metric))\n",
    "    metric_groups[pair] = tmp\n",
    "\n",
    "# Save the results\n",
    "for group in metric_groups:\n",
    "\n",
    "    df = pd.DataFrame()\n",
    "    df['Mode'] = modes\n",
    "    for info in metric_groups[group]:\n",
    "        name = info[0]\n",
    "        metric = info[1]\n",
    "        data_tmp = []\n",
    "        for mode in modes:\n",
    "            data_tmp.append(data[mode][metric])\n",
    "        df[name] = data_tmp\n",
    "\n",
    "    df.to_csv('./Analysis/{}.csv'.format(group), index = False)"
   ]
  },
  {
   "cell_type": "code",
   "execution_count": 3,
   "metadata": {
    "scrolled": true
   },
   "outputs": [],
   "source": [
    "# Show the results for each object pair and then the aggregated differences\n",
    "\n",
    "def remove_var_info(df):\n",
    "    def remove(x):\n",
    "        return x.split(' ')[0]\n",
    "    return df.applymap(remove)\n",
    "\n",
    "groups = {}\n",
    "for pair in pairs:\n",
    "    spurious = pair.split('-')[1]    \n",
    "    if spurious in groups:\n",
    "        groups[spurious].append(pair)\n",
    "    else:\n",
    "        groups[spurious] = [pair]\n",
    "\n",
    "cols_acc = ['Mode', 'both', 'just_main', 'just_spurious', 'neither', 'p-gap', 'r-gap', 'b-precision', 'b-recall', 'b-f1']\n",
    "cols_search = ['Mode', 'both-main-pixel-paint', 'both-spurious-pixel-paint', 'just_main+spurious']\n",
    "    \n",
    "def compare(corrected, baseline):\n",
    "    modes = [corrected, baseline]\n",
    "\n",
    "    diffs_acc = {}\n",
    "    for metric in cols_acc[1:]:\n",
    "        diffs_acc[metric] = []\n",
    "\n",
    "    diffs_search = {}\n",
    "    for metric in cols_search[1:]:\n",
    "        diffs_search[metric] = []\n",
    "\n",
    "    for key in groups:\n",
    "        group = groups[key]\n",
    "        print()\n",
    "        print()\n",
    "        print(key)\n",
    "        print()\n",
    "        for pair in group:\n",
    "\n",
    "            print(pair)\n",
    "                        \n",
    "            with open('{}/train/splits/{}.json'.format(get_data_dir(), pair), 'r') as f:\n",
    "                splits = json.load(f)\n",
    "                \n",
    "            for split in splits:\n",
    "                splits[split] = len(splits[split])\n",
    "            \n",
    "            P_S = (splits['both'] + splits['just_spurious']) / (splits['both'] + splits['just_spurious'] + splits['just_main'] + splits['neither'])\n",
    "            P_S_g_M = splits['both'] / (splits['both'] + splits['just_main'])            \n",
    "            print('P(S|M), P(S):', np.round(P_S_g_M, 3), np.round(P_S, 3))\n",
    "            \n",
    "            df = pd.read_csv('./Analysis/{}.csv'.format(pair))\n",
    "\n",
    "            print('Acc Comparison')\n",
    "            df_tmp = remove_var_info(df.loc[df['Mode'].isin(modes), cols_acc].copy())\n",
    "            print(df_tmp.to_string(index = False)) \n",
    "\n",
    "            for metric in diffs_acc:\n",
    "                data_tmp = {}\n",
    "                names = df_tmp['Mode'].values\n",
    "                values = df_tmp[metric].values\n",
    "                for i in range(len(names)):\n",
    "                    data_tmp[names[i]] = float(values[i])\n",
    "                if metric in ['p-gap', 'r-gap']:\n",
    "                    if not np.any(data_tmp == -1):\n",
    "                        diffs_acc[metric].append(abs(data_tmp[modes[0]]) - abs(data_tmp[modes[1]]))             \n",
    "                else:\n",
    "                    if not np.any(data_tmp == -1):\n",
    "                        diffs_acc[metric].append(data_tmp[modes[0]] - data_tmp[modes[1]])\n",
    "\n",
    "            print('Search Comparison')\n",
    "            df_tmp = remove_var_info(df.loc[df['Mode'].isin(modes), cols_search].copy())\n",
    "            print(df_tmp.to_string(index = False))\n",
    "\n",
    "            for metric in diffs_search:\n",
    "                data_tmp = {}\n",
    "                names = df_tmp['Mode'].values\n",
    "                values = df_tmp[metric].values\n",
    "                for i in range(len(names)):\n",
    "                    data_tmp[names[i]] = float(values[i])\n",
    "\n",
    "                if not np.any(data_tmp == -1):\n",
    "                    diffs_search[metric].append(data_tmp[modes[0]] - data_tmp[modes[1]])\n",
    "            print()\n",
    "            print()\n",
    "\n",
    "    print()\n",
    "    print()\n",
    "    print()\n",
    "    print()\n",
    "    print('Aggregate Differences:')\n",
    "    \n",
    "    def get_stats(key, diffs):\n",
    "        print(key)\n",
    "        data = diffs[key]\n",
    "        print('mean (std):', np.round(np.mean(data), 3), np.round(np.std(data), 3))\n",
    "        print('median:', np.round(np.median(data), 3))\n",
    "        if key in ['both', 'just_main', 'just_spurious', 'neither', 'b-precision', 'b-recall', 'b-f1',  'both-main-pixel-paint']:\n",
    "            print('prob > 0:',  np.round(np.mean(np.array(data) > 0), 3))\n",
    "        elif key in [ 'p-gap', 'r-gap', 'both-spurious-pixel-paint', 'just_main+spurious']:\n",
    "             print('prob < 0:',  np.round(np.mean(np.array(data) < 0), 3))           \n",
    "        print()\n",
    "        print()\n",
    "\n",
    "    for key in diffs_acc:\n",
    "        plt.hist(diffs_acc[key], bins = 15)\n",
    "        plt.title(key)\n",
    "        plt.show()\n",
    "        plt.close()\n",
    "        get_stats(key, diffs_acc)\n",
    "        \n",
    "    for key in diffs_search:\n",
    "        plt.hist(diffs_search[key], bins = 15)\n",
    "        plt.title(key)\n",
    "        plt.show()\n",
    "        plt.close()\n",
    "        get_stats(key, diffs_search)\n"
   ]
  },
  {
   "cell_type": "code",
   "execution_count": 4,
   "metadata": {
    "scrolled": false
   },
   "outputs": [
    {
     "name": "stdout",
     "output_type": "stream",
     "text": [
      "\n",
      "\n",
      "person\n",
      "\n",
      "cell+phone-person\n",
      "P(S|M), P(S): 0.797 0.542\n",
      "Acc Comparison\n",
      "         Mode   both just_main just_spurious neither   p-gap   r-gap b-precision b-recall   b-f1\n",
      "      auto-v2  0.254     0.375         0.987   0.993  -0.221  -0.121       0.589    0.315  0.406\n",
      " initial-tune  0.282     0.324         0.985   0.996  -0.312  -0.042       0.596    0.303  0.393\n",
      "Search Comparison\n",
      "         Mode both-main-pixel-paint both-spurious-pixel-paint just_main+spurious\n",
      "      auto-v2                  0.14                     0.176              0.131\n",
      " initial-tune                 0.131                     0.221              0.165\n",
      "\n",
      "\n",
      "handbag-person\n",
      "P(S|M), P(S): 0.91 0.542\n",
      "Acc Comparison\n",
      "         Mode   both just_main just_spurious neither   p-gap  r-gap b-precision b-recall   b-f1\n",
      "      auto-v2  0.301     0.233         0.962   0.984  -0.153  0.067       0.409    0.267  0.307\n",
      " initial-tune  0.242     0.008         0.975   0.999   0.188  0.234       0.395    0.125  0.187\n",
      "Search Comparison\n",
      "         Mode both-main-pixel-paint both-spurious-pixel-paint just_main+spurious\n",
      "      auto-v2                  0.07                     0.217               -1.0\n",
      " initial-tune                 0.068                     0.207               -1.0\n",
      "\n",
      "\n",
      "donut-person\n",
      "P(S|M), P(S): 0.548 0.542\n",
      "Acc Comparison\n",
      "         Mode   both just_main just_spurious neither   p-gap   r-gap b-precision b-recall   b-f1\n",
      "      auto-v2  0.318     0.578         0.995   0.996  -0.128  -0.259       0.594    0.448  0.502\n",
      " initial-tune  0.273      0.44         0.998   0.998  -0.054  -0.167       0.677    0.356  0.466\n",
      "Search Comparison\n",
      "         Mode both-main-pixel-paint both-spurious-pixel-paint just_main+spurious\n",
      "      auto-v2                  0.28                     0.144              0.267\n",
      " initial-tune                  0.25                     0.121              0.198\n",
      "\n",
      "\n",
      "tie-person\n",
      "P(S|M), P(S): 0.953 0.542\n",
      "Acc Comparison\n",
      "         Mode   both just_main just_spurious neither   p-gap  r-gap b-precision b-recall   b-f1\n",
      "      auto-v2  0.562     0.507         0.991   0.994  -0.056  0.055       0.694    0.534  0.594\n",
      " initial-tune  0.556     0.257         0.995     1.0   -0.23  0.299       0.831    0.407  0.543\n",
      "Search Comparison\n",
      "         Mode both-main-pixel-paint both-spurious-pixel-paint just_main+spurious\n",
      "      auto-v2                 0.083                     0.507               -1.0\n",
      " initial-tune                 0.103                     0.549               -1.0\n",
      "\n",
      "\n",
      "couch-person\n",
      "P(S|M), P(S): 0.506 0.542\n",
      "Acc Comparison\n",
      "         Mode   both just_main just_spurious neither   p-gap   r-gap b-precision b-recall   b-f1\n",
      "      auto-v2  0.439     0.552         0.991   0.993  -0.084  -0.113       0.721    0.496  0.583\n",
      " initial-tune  0.481     0.562         0.991   0.991  -0.037  -0.081       0.707    0.521  0.598\n",
      "Search Comparison\n",
      "         Mode both-main-pixel-paint both-spurious-pixel-paint just_main+spurious\n",
      "      auto-v2                 0.222                     0.236              0.171\n",
      " initial-tune                 0.228                     0.256              0.181\n",
      "\n",
      "\n",
      "hair+drier-person\n",
      "P(S|M), P(S): 0.519 0.542\n",
      "Acc Comparison\n",
      "         Mode   both just_main just_spurious neither  p-gap  r-gap b-precision b-recall   b-f1\n",
      "      auto-v2  0.067     0.008           1.0     1.0   0.25  0.059         0.5    0.037  0.069\n",
      " initial-tune  0.108     0.008           1.0     1.0  0.383    0.1       0.641    0.058  0.101\n",
      "Search Comparison\n",
      "         Mode both-main-pixel-paint both-spurious-pixel-paint just_main+spurious\n",
      "      auto-v2                  -1.0                      -1.0               -1.0\n",
      " initial-tune                  -1.0                      -1.0               -1.0\n",
      "\n",
      "\n",
      "hot+dog-person\n",
      "P(S|M), P(S): 0.566 0.542\n",
      "Acc Comparison\n",
      "         Mode   both just_main just_spurious neither   p-gap   r-gap b-precision b-recall   b-f1\n",
      "      auto-v2  0.328     0.683         0.998   0.998  -0.132  -0.355       0.708    0.506  0.586\n",
      " initial-tune  0.305     0.617         0.998   0.999   -0.22  -0.312       0.738    0.461  0.562\n",
      "Search Comparison\n",
      "         Mode both-main-pixel-paint both-spurious-pixel-paint just_main+spurious\n",
      "      auto-v2                 0.281                     0.148               -1.0\n",
      " initial-tune                 0.258                     0.141               -1.0\n",
      "\n",
      "\n",
      "knife-person\n",
      "P(S|M), P(S): 0.546 0.542\n",
      "Acc Comparison\n",
      "         Mode   both just_main just_spurious neither  p-gap  r-gap b-precision b-recall   b-f1\n",
      "      auto-v2  0.404     0.335         0.984   0.985  0.034  0.069       0.479     0.37  0.414\n",
      " initial-tune  0.407     0.271         0.986   0.988  0.057  0.135       0.514    0.339  0.395\n",
      "Search Comparison\n",
      "         Mode both-main-pixel-paint both-spurious-pixel-paint just_main+spurious\n",
      "      auto-v2                 0.061                     0.288              0.155\n",
      " initial-tune                 0.068                      0.24               0.14\n",
      "\n",
      "\n",
      "tennis+racket-person\n",
      "P(S|M), P(S): 0.99 0.542\n",
      "Acc Comparison\n",
      "         Mode   both just_main just_spurious neither   p-gap  r-gap b-precision b-recall   b-f1\n",
      "      auto-v2  0.733     0.596         0.997   0.996   0.065  0.138       0.866    0.665  0.751\n",
      " initial-tune  0.866     0.412         0.995     1.0  -0.131  0.454       0.907    0.639  0.749\n",
      "Search Comparison\n",
      "         Mode both-main-pixel-paint both-spurious-pixel-paint just_main+spurious\n",
      "      auto-v2                 0.197                     0.212               -1.0\n",
      " initial-tune                 0.099                      0.44               -1.0\n",
      "\n",
      "\n",
      "frisbee-person\n",
      "P(S|M), P(S): 0.834 0.542\n",
      "Acc Comparison\n",
      "         Mode   both just_main just_spurious neither   p-gap  r-gap b-precision b-recall   b-f1\n",
      "      auto-v2  0.562     0.419         0.989   0.993  -0.012  0.143       0.526     0.49  0.481\n",
      " initial-tune  0.531     0.318         0.993   0.998   -0.14  0.213       0.623    0.424  0.496\n",
      "Search Comparison\n",
      "         Mode both-main-pixel-paint both-spurious-pixel-paint just_main+spurious\n",
      "      auto-v2                 0.137                     0.247               -1.0\n",
      " initial-tune                 0.137                     0.318               -1.0\n",
      "\n",
      "\n",
      "skateboard-person\n",
      "P(S|M), P(S): 0.983 0.542\n",
      "Acc Comparison\n",
      "         Mode   both just_main just_spurious neither   p-gap  r-gap b-precision b-recall   b-f1\n",
      "      auto-v2  0.708     0.475         0.995   0.996   0.023  0.233       0.793    0.591  0.675\n",
      " initial-tune   0.74      0.25         0.994   0.999  -0.149   0.49       0.801    0.495   0.61\n",
      "Search Comparison\n",
      "         Mode both-main-pixel-paint both-spurious-pixel-paint just_main+spurious\n",
      "      auto-v2                 0.153                     0.375               -1.0\n",
      " initial-tune                 0.123                     0.544               -1.0\n",
      "\n",
      "\n",
      "baseball+glove-person\n",
      "P(S|M), P(S): 0.99 0.542\n",
      "Acc Comparison\n",
      "         Mode   both just_main just_spurious neither   p-gap  r-gap b-precision b-recall   b-f1\n",
      "      auto-v2  0.669     0.152         0.997   0.998  -0.001  0.518       0.812     0.41  0.533\n",
      " initial-tune  0.801     0.045         0.995     1.0   0.032  0.755       0.791    0.423  0.548\n",
      "Search Comparison\n",
      "         Mode both-main-pixel-paint both-spurious-pixel-paint just_main+spurious\n",
      "      auto-v2                 0.081                      0.29               -1.0\n",
      " initial-tune                 0.051                      0.53               -1.0\n",
      "\n",
      "\n",
      "baseball+bat-person\n",
      "P(S|M), P(S): 0.988 0.542\n",
      "Acc Comparison\n",
      "         Mode   both just_main just_spurious neither   p-gap  r-gap b-precision b-recall   b-f1\n",
      "      auto-v2  0.617      0.34         0.995   0.997   0.014  0.277       0.755    0.479  0.575\n",
      " initial-tune  0.652     0.194         0.994     1.0  -0.273  0.457       0.749    0.423   0.54\n",
      "Search Comparison\n",
      "         Mode both-main-pixel-paint both-spurious-pixel-paint just_main+spurious\n",
      "      auto-v2                 0.106                     0.335               -1.0\n",
      " initial-tune                 0.077                     0.473               -1.0\n",
      "\n",
      "\n",
      "snowboard-person\n",
      "P(S|M), P(S): 0.981 0.542\n",
      "Acc Comparison\n",
      "         Mode   both just_main just_spurious neither   p-gap  r-gap b-precision b-recall   b-f1\n",
      "      auto-v2  0.495       0.3         0.995     1.0  -0.382  0.195       0.591    0.397  0.475\n",
      " initial-tune  0.594     0.208         0.993     1.0  -0.475  0.385       0.563    0.401   0.46\n",
      "Search Comparison\n",
      "         Mode both-main-pixel-paint both-spurious-pixel-paint just_main+spurious\n",
      "      auto-v2                 0.141                     0.281               -1.0\n",
      " initial-tune                 0.104                     0.365               -1.0\n",
      "\n",
      "\n",
      "remote-person\n",
      "P(S|M), P(S): 0.669 0.542\n",
      "Acc Comparison\n",
      "         Mode   both just_main just_spurious neither  p-gap  r-gap b-precision b-recall   b-f1\n",
      "      auto-v2  0.431     0.165         0.994   0.994  0.235  0.266        0.62    0.298  0.397\n",
      " initial-tune  0.503     0.133         0.992   0.995  0.257   0.37       0.605    0.318  0.413\n",
      "Search Comparison\n",
      "         Mode both-main-pixel-paint both-spurious-pixel-paint just_main+spurious\n",
      "      auto-v2                  0.11                     0.344              0.085\n",
      " initial-tune                 0.112                     0.421              0.064\n",
      "\n",
      "\n",
      "sports+ball-person\n",
      "P(S|M), P(S): 0.961 0.542\n",
      "Acc Comparison\n",
      "         Mode   both just_main just_spurious neither   p-gap  r-gap b-precision b-recall   b-f1\n",
      "      auto-v2  0.561     0.306          0.98   0.996  -0.233  0.255        0.57    0.434  0.489\n",
      " initial-tune  0.634     0.119         0.977   0.999  -0.357  0.515       0.533    0.376  0.439\n",
      "Search Comparison\n",
      "         Mode both-main-pixel-paint both-spurious-pixel-paint just_main+spurious\n",
      "      auto-v2                 0.266                     0.231               -1.0\n",
      " initial-tune                 0.263                     0.354               -1.0\n",
      "\n",
      "\n",
      "skis-person\n",
      "P(S|M), P(S): 0.988 0.542\n",
      "Acc Comparison\n",
      "         Mode   both just_main just_spurious neither   p-gap  r-gap b-precision b-recall   b-f1\n",
      "      auto-v2  0.725     0.372         0.996   0.999  -0.061  0.353       0.851    0.548  0.664\n",
      " initial-tune  0.725     0.269         0.995     1.0  -0.188  0.456       0.841    0.497  0.622\n",
      "Search Comparison\n",
      "         Mode both-main-pixel-paint both-spurious-pixel-paint just_main+spurious\n",
      "      auto-v2                 0.133                     0.167               -1.0\n",
      " initial-tune                 0.117                     0.281               -1.0\n",
      "\n",
      "\n",
      "toothbrush-person\n",
      "P(S|M), P(S): 0.536 0.542\n",
      "Acc Comparison\n",
      "         Mode   both just_main just_spurious neither  p-gap  r-gap b-precision b-recall   b-f1\n",
      "      auto-v2  0.533     0.464         0.998   0.997    0.1  0.069       0.644    0.499  0.548\n",
      " initial-tune    0.5     0.347         0.999   0.998  0.157  0.153       0.665    0.423  0.511\n",
      "Search Comparison\n",
      "         Mode both-main-pixel-paint both-spurious-pixel-paint just_main+spurious\n",
      "      auto-v2                  -1.0                      -1.0               -1.0\n",
      " initial-tune                  -1.0                      -1.0               -1.0\n",
      "\n",
      "\n",
      "\n",
      "\n",
      "elephant\n",
      "\n",
      "bench-elephant\n",
      "P(S|M), P(S): 0.02 0.018\n",
      "Acc Comparison\n",
      "         Mode   both just_main just_spurious neither   p-gap   r-gap b-precision b-recall   b-f1\n",
      "      auto-v2  0.283     0.386         0.625   0.979  -0.456  -0.102       0.077    0.335  0.125\n",
      " initial-tune  0.125     0.332         0.988   0.985   0.085  -0.207       0.539    0.228  0.307\n",
      "Search Comparison\n",
      "         Mode both-main-pixel-paint both-spurious-pixel-paint just_main+spurious\n",
      "      auto-v2                  -1.0                      -1.0              0.245\n",
      " initial-tune                  -1.0                      -1.0              0.214\n",
      "\n",
      "\n",
      "\n",
      "\n",
      "airplane\n",
      "\n",
      "truck-airplane\n",
      "P(S|M), P(S): 0.105 0.025\n",
      "Acc Comparison\n",
      "         Mode   both just_main just_spurious neither   p-gap  r-gap b-precision b-recall   b-f1\n",
      "      auto-v2  0.983     0.503         0.691   0.973  -0.344   0.48       0.209    0.743   0.32\n",
      " initial-tune  0.908     0.433         0.909   0.982  -0.219  0.475         0.4    0.671  0.499\n",
      "Search Comparison\n",
      "         Mode both-main-pixel-paint both-spurious-pixel-paint just_main+spurious\n",
      "      auto-v2                  -1.0                      -1.0               0.15\n",
      " initial-tune                  -1.0                      -1.0              0.132\n",
      "\n",
      "\n",
      "\n",
      "\n",
      "dining+table\n",
      "\n",
      "sandwich-dining+table\n",
      "P(S|M), P(S): 0.567 0.1\n",
      "Acc Comparison\n",
      "         Mode   both just_main just_spurious neither   p-gap   r-gap b-precision b-recall   b-f1\n",
      "      auto-v2  0.417     0.495         0.953   0.995  -0.537  -0.078       0.269    0.456  0.335\n",
      " initial-tune  0.363     0.431         0.962   0.997  -0.595  -0.068       0.288    0.397   0.33\n",
      "Search Comparison\n",
      "         Mode both-main-pixel-paint both-spurious-pixel-paint just_main+spurious\n",
      "      auto-v2                 0.314                      0.27              0.223\n",
      " initial-tune                  0.25                     0.201              0.234\n",
      "\n",
      "\n",
      "knife-dining+table\n",
      "P(S|M), P(S): 0.632 0.1\n",
      "Acc Comparison\n",
      "         Mode   both just_main just_spurious neither   p-gap  r-gap b-precision b-recall   b-f1\n",
      "      auto-v2  0.424     0.278           0.9   0.991  -0.412  0.146       0.205    0.351  0.255\n",
      " initial-tune   0.39     0.262         0.904   0.994  -0.482  0.128       0.215    0.326  0.245\n",
      "Search Comparison\n",
      "         Mode both-main-pixel-paint both-spurious-pixel-paint just_main+spurious\n",
      "      auto-v2                 0.085                     0.256              0.159\n",
      " initial-tune                 0.093                     0.233              0.155\n",
      "\n",
      "\n",
      "fork-dining+table\n",
      "P(S|M), P(S): 0.756 0.1\n",
      "Acc Comparison\n",
      "         Mode   both just_main just_spurious neither   p-gap  r-gap b-precision b-recall   b-f1\n",
      "      auto-v2  0.434     0.372         0.908   0.996  -0.637  0.062       0.222    0.403  0.281\n",
      " initial-tune  0.502     0.417         0.886   0.997  -0.674  0.086       0.208    0.459  0.277\n",
      "Search Comparison\n",
      "         Mode both-main-pixel-paint both-spurious-pixel-paint just_main+spurious\n",
      "      auto-v2                  0.13                     0.314              0.222\n",
      " initial-tune                 0.136                      0.37              0.217\n",
      "\n",
      "\n",
      "spoon-dining+table\n"
     ]
    },
    {
     "name": "stdout",
     "output_type": "stream",
     "text": [
      "P(S|M), P(S): 0.593 0.1\n",
      "Acc Comparison\n",
      "         Mode   both just_main just_spurious neither   p-gap  r-gap b-precision b-recall   b-f1\n",
      "      auto-v2  0.425     0.189         0.899   0.993  -0.361  0.236       0.153    0.307  0.201\n",
      " initial-tune  0.379     0.197         0.911   0.996  -0.488  0.182       0.167    0.288  0.207\n",
      "Search Comparison\n",
      "         Mode both-main-pixel-paint both-spurious-pixel-paint just_main+spurious\n",
      "      auto-v2                 0.098                     0.322              0.155\n",
      " initial-tune                 0.098                     0.302              0.155\n",
      "\n",
      "\n",
      "bowl-dining+table\n",
      "P(S|M), P(S): 0.478 0.1\n",
      "Acc Comparison\n",
      "         Mode   both just_main just_spurious neither   p-gap  r-gap b-precision b-recall   b-f1\n",
      "      auto-v2  0.681     0.497         0.759   0.979  -0.452  0.184       0.238    0.589  0.336\n",
      " initial-tune   0.54     0.353         0.871   0.991  -0.492  0.187       0.316    0.447  0.362\n",
      "Search Comparison\n",
      "         Mode both-main-pixel-paint both-spurious-pixel-paint just_main+spurious\n",
      "      auto-v2                 0.248                     0.227              0.261\n",
      " initial-tune                 0.273                      0.23              0.256\n",
      "\n",
      "\n",
      "\n",
      "\n",
      "sheep\n",
      "\n",
      "dog-sheep\n",
      "P(S|M), P(S): 0.026 0.013\n",
      "Acc Comparison\n",
      "         Mode   both just_main just_spurious neither   p-gap   r-gap b-precision b-recall   b-f1\n",
      "      auto-v2  0.817     0.637         0.717   0.985   -0.52    0.18       0.159    0.727  0.259\n",
      " initial-tune    0.2     0.574         0.942   0.992  -0.409  -0.374       0.424    0.387  0.357\n",
      "Search Comparison\n",
      "         Mode both-main-pixel-paint both-spurious-pixel-paint just_main+spurious\n",
      "      auto-v2                  -1.0                      -1.0              0.201\n",
      " initial-tune                  -1.0                      -1.0              0.233\n",
      "\n",
      "\n",
      "bird-sheep\n",
      "P(S|M), P(S): 0.013 0.013\n",
      "Acc Comparison\n",
      "         Mode   both just_main just_spurious neither   p-gap   r-gap b-precision b-recall   b-f1\n",
      "      auto-v2    0.5     0.506         0.827   0.991  -0.533  -0.006       0.133    0.503  0.208\n",
      " initial-tune  0.226     0.422         0.988   0.996  -0.112  -0.196       0.622    0.324  0.403\n",
      "Search Comparison\n",
      "         Mode both-main-pixel-paint both-spurious-pixel-paint just_main+spurious\n",
      "      auto-v2                  -1.0                      -1.0              0.216\n",
      " initial-tune                  -1.0                      -1.0               0.19\n",
      "\n",
      "\n",
      "\n",
      "\n",
      "cat\n",
      "\n",
      "tie-cat\n",
      "P(S|M), P(S): 0.012 0.035\n",
      "Acc Comparison\n",
      "         Mode   both just_main just_spurious neither   p-gap   r-gap b-precision b-recall   b-f1\n",
      "      auto-v2  0.855     0.543         0.945   0.994  -0.382   0.311       0.448    0.699  0.533\n",
      " initial-tune  0.331     0.533         0.999   0.997   0.073  -0.202       0.873    0.432  0.574\n",
      "Search Comparison\n",
      "         Mode both-main-pixel-paint both-spurious-pixel-paint just_main+spurious\n",
      "      auto-v2                  -1.0                      -1.0              0.168\n",
      " initial-tune                  -1.0                      -1.0              0.207\n",
      "\n",
      "\n",
      "\n",
      "\n",
      "dog\n",
      "\n",
      "frisbee-dog\n",
      "P(S|M), P(S): 0.239 0.037\n",
      "Acc Comparison\n",
      "         Mode   both just_main just_spurious neither   p-gap  r-gap b-precision b-recall   b-f1\n",
      "      auto-v2  0.891     0.538          0.95   0.992  -0.236  0.353       0.387    0.714  0.458\n",
      " initial-tune  0.812       0.5         0.976   0.996  -0.299  0.312       0.459    0.656  0.533\n",
      "Search Comparison\n",
      "         Mode both-main-pixel-paint both-spurious-pixel-paint just_main+spurious\n",
      "      auto-v2                  -1.0                      -1.0              0.182\n",
      " initial-tune                  -1.0                      -1.0              0.208\n",
      "\n",
      "\n",
      "\n",
      "\n",
      "\n",
      "\n",
      "Aggregate Differences:\n"
     ]
    },
    {
     "data": {
      "image/png": "[encoded data removed]",
      "text/plain": [
       "<Figure size 432x288 with 1 Axes>"
      ]
     },
     "metadata": {
      "needs_background": "light"
     },
     "output_type": "display_data"
    },
    {
     "name": "stdout",
     "output_type": "stream",
     "text": [
      "both\n",
      "mean (std): 0.05 0.166\n",
      "median: 0.023\n",
      "prob > 0: 0.552\n",
      "\n",
      "\n"
     ]
    },
    {
     "data": {
      "image/png": "[encoded data removed]",
      "text/plain": [
       "<Figure size 432x288 with 1 Axes>"
      ]
     },
     "metadata": {
      "needs_background": "light"
     },
     "output_type": "display_data"
    },
    {
     "name": "stdout",
     "output_type": "stream",
     "text": [
      "just_main\n",
      "mean (std): 0.089 0.074\n",
      "median: 0.07\n",
      "prob > 0: 0.862\n",
      "\n",
      "\n"
     ]
    },
    {
     "data": {
      "image/png": "[encoded data removed]",
      "text/plain": [
       "<Figure size 432x288 with 1 Axes>"
      ]
     },
     "metadata": {
      "needs_background": "light"
     },
     "output_type": "display_data"
    },
    {
     "name": "stdout",
     "output_type": "stream",
     "text": [
      "just_spurious\n",
      "mean (std): -0.04 0.088\n",
      "median: -0.002\n",
      "prob > 0: 0.345\n",
      "\n",
      "\n"
     ]
    },
    {
     "data": {
      "image/png": "[encoded data removed]",
      "text/plain": [
       "<Figure size 432x288 with 1 Axes>"
      ]
     },
     "metadata": {
      "needs_background": "light"
     },
     "output_type": "display_data"
    },
    {
     "name": "stdout",
     "output_type": "stream",
     "text": [
      "neither\n",
      "mean (std): -0.004 0.004\n",
      "median: -0.003\n",
      "prob > 0: 0.034\n",
      "\n",
      "\n"
     ]
    },
    {
     "data": {
      "image/png": "[encoded data removed]",
      "text/plain": [
       "<Figure size 432x288 with 1 Axes>"
      ]
     },
     "metadata": {
      "needs_background": "light"
     },
     "output_type": "display_data"
    },
    {
     "name": "stdout",
     "output_type": "stream",
     "text": [
      "p-gap\n",
      "mean (std): -0.018 0.153\n",
      "median: -0.058\n",
      "prob < 0: 0.759\n",
      "\n",
      "\n"
     ]
    },
    {
     "data": {
      "image/png": "[encoded data removed]",
      "text/plain": [
       "<Figure size 432x288 with 1 Axes>"
      ]
     },
     "metadata": {
      "needs_background": "light"
     },
     "output_type": "display_data"
    },
    {
     "name": "stdout",
     "output_type": "stream",
     "text": [
      "r-gap\n",
      "mean (std): -0.081 0.119\n",
      "median: -0.07\n",
      "prob < 0: 0.655\n",
      "\n",
      "\n"
     ]
    },
    {
     "data": {
      "image/png": "[encoded data removed]",
      "text/plain": [
       "<Figure size 432x288 with 1 Axes>"
      ]
     },
     "metadata": {
      "needs_background": "light"
     },
     "output_type": "display_data"
    },
    {
     "name": "stdout",
     "output_type": "stream",
     "text": [
      "b-precision\n",
      "mean (std): -0.085 0.144\n",
      "median: -0.021\n",
      "prob > 0: 0.31\n",
      "\n",
      "\n"
     ]
    },
    {
     "data": {
      "image/png": "[encoded data removed]",
      "text/plain": [
       "<Figure size 432x288 with 1 Axes>"
      ]
     },
     "metadata": {
      "needs_background": "light"
     },
     "output_type": "display_data"
    },
    {
     "name": "stdout",
     "output_type": "stream",
     "text": [
      "b-recall\n",
      "mean (std): 0.069 0.084\n",
      "median: 0.058\n",
      "prob > 0: 0.793\n",
      "\n",
      "\n"
     ]
    },
    {
     "data": {
      "image/png": "[encoded data removed]",
      "text/plain": [
       "<Figure size 432x288 with 1 Axes>"
      ]
     },
     "metadata": {
      "needs_background": "light"
     },
     "output_type": "display_data"
    },
    {
     "name": "stdout",
     "output_type": "stream",
     "text": [
      "b-f1\n",
      "mean (std): -0.013 0.072\n",
      "median: 0.004\n",
      "prob > 0: 0.552\n",
      "\n",
      "\n"
     ]
    },
    {
     "data": {
      "image/png": "[encoded data removed]",
      "text/plain": [
       "<Figure size 432x288 with 1 Axes>"
      ]
     },
     "metadata": {
      "needs_background": "light"
     },
     "output_type": "display_data"
    },
    {
     "name": "stdout",
     "output_type": "stream",
     "text": [
      "both-main-pixel-paint\n",
      "mean (std): 0.01 0.025\n",
      "median: 0.0\n",
      "prob > 0: 0.414\n",
      "\n",
      "\n"
     ]
    },
    {
     "data": {
      "image/png": "[encoded data removed]",
      "text/plain": [
       "<Figure size 432x288 with 1 Axes>"
      ]
     },
     "metadata": {
      "needs_background": "light"
     },
     "output_type": "display_data"
    },
    {
     "name": "stdout",
     "output_type": "stream",
     "text": [
      "both-spurious-pixel-paint\n",
      "mean (std): -0.042 0.076\n",
      "median: 0.0\n",
      "prob < 0: 0.483\n",
      "\n",
      "\n"
     ]
    },
    {
     "data": {
      "image/png": "[encoded data removed]",
      "text/plain": [
       "<Figure size 432x288 with 1 Axes>"
      ]
     },
     "metadata": {
      "needs_background": "light"
     },
     "output_type": "display_data"
    },
    {
     "name": "stdout",
     "output_type": "stream",
     "text": [
      "just_main+spurious\n",
      "mean (std): 0.001 0.02\n",
      "median: 0.0\n",
      "prob < 0: 0.207\n",
      "\n",
      "\n"
     ]
    }
   ],
   "source": [
    "compare('auto-v2', 'initial-tune')"
   ]
  },
  {
   "cell_type": "code",
   "execution_count": 5,
   "metadata": {
    "scrolled": false
   },
   "outputs": [
    {
     "name": "stdout",
     "output_type": "stream",
     "text": [
      "\n",
      "\n",
      "person\n",
      "\n",
      "cell+phone-person\n",
      "P(S|M), P(S): 0.797 0.542\n",
      "Acc Comparison\n",
      "         Mode   both just_main just_spurious neither   p-gap   r-gap b-precision b-recall   b-f1\n",
      "      auto-v1  0.232     0.392          0.99   0.994  -0.231   -0.16       0.637    0.312  0.413\n",
      " initial-tune  0.282     0.324         0.985   0.996  -0.312  -0.042       0.596    0.303  0.393\n",
      "Search Comparison\n",
      "         Mode both-main-pixel-paint both-spurious-pixel-paint just_main+spurious\n",
      "      auto-v1                 0.126                     0.156              0.148\n",
      " initial-tune                 0.131                     0.221              0.165\n",
      "\n",
      "\n",
      "handbag-person\n",
      "P(S|M), P(S): 0.91 0.542\n",
      "Acc Comparison\n",
      "         Mode   both just_main just_spurious neither  p-gap  r-gap b-precision b-recall   b-f1\n",
      "      auto-v1  0.137     0.042         0.992   0.998  -0.14  0.095       0.569    0.089   0.15\n",
      " initial-tune  0.242     0.008         0.975   0.999  0.188  0.234       0.395    0.125  0.187\n",
      "Search Comparison\n",
      "         Mode both-main-pixel-paint both-spurious-pixel-paint just_main+spurious\n",
      "      auto-v1                 0.049                     0.119               -1.0\n",
      " initial-tune                 0.068                     0.207               -1.0\n",
      "\n",
      "\n",
      "donut-person\n",
      "P(S|M), P(S): 0.548 0.542\n",
      "Acc Comparison\n",
      "         Mode   both just_main just_spurious neither   p-gap   r-gap b-precision b-recall   b-f1\n",
      "      auto-v1   0.25     0.448         0.997   0.997   -0.15  -0.198       0.646    0.349  0.448\n",
      " initial-tune  0.273      0.44         0.998   0.998  -0.054  -0.167       0.677    0.356  0.466\n",
      "Search Comparison\n",
      "         Mode both-main-pixel-paint both-spurious-pixel-paint just_main+spurious\n",
      "      auto-v1                 0.235                     0.144              0.216\n",
      " initial-tune                  0.25                     0.121              0.198\n",
      "\n",
      "\n",
      "tie-person\n",
      "P(S|M), P(S): 0.953 0.542\n",
      "Acc Comparison\n",
      "         Mode   both just_main just_spurious neither   p-gap  r-gap b-precision b-recall   b-f1\n",
      "      auto-v1   0.42      0.34         0.998   0.999  -0.065   0.08       0.895     0.38  0.533\n",
      " initial-tune  0.556     0.257         0.995     1.0   -0.23  0.299       0.831    0.407  0.543\n",
      "Search Comparison\n",
      "         Mode both-main-pixel-paint both-spurious-pixel-paint just_main+spurious\n",
      "      auto-v1                 0.105                     0.404               -1.0\n",
      " initial-tune                 0.103                     0.549               -1.0\n",
      "\n",
      "\n",
      "couch-person\n",
      "P(S|M), P(S): 0.506 0.542\n",
      "Acc Comparison\n",
      "         Mode   both just_main just_spurious neither   p-gap   r-gap b-precision b-recall   b-f1\n",
      "      auto-v1  0.497     0.505         0.989   0.993  -0.107  -0.008       0.699    0.501  0.578\n",
      " initial-tune  0.481     0.562         0.991   0.991  -0.037  -0.081       0.707    0.521  0.598\n",
      "Search Comparison\n",
      "         Mode both-main-pixel-paint both-spurious-pixel-paint just_main+spurious\n",
      "      auto-v1                 0.258                     0.292              0.152\n",
      " initial-tune                 0.228                     0.256              0.181\n",
      "\n",
      "\n",
      "hair+drier-person\n",
      "P(S|M), P(S): 0.519 0.542\n",
      "Acc Comparison\n",
      "         Mode   both just_main just_spurious neither  p-gap  r-gap b-precision b-recall   b-f1\n",
      "      auto-v1  0.133      0.04           1.0     1.0  0.295  0.093       0.541    0.087  0.139\n",
      " initial-tune  0.108     0.008           1.0     1.0  0.383    0.1       0.641    0.058  0.101\n",
      "Search Comparison\n",
      "         Mode both-main-pixel-paint both-spurious-pixel-paint just_main+spurious\n",
      "      auto-v1                  -1.0                      -1.0               -1.0\n",
      " initial-tune                  -1.0                      -1.0               -1.0\n",
      "\n",
      "\n",
      "hot+dog-person\n",
      "P(S|M), P(S): 0.566 0.542\n",
      "Acc Comparison\n",
      "         Mode   both just_main just_spurious neither   p-gap   r-gap b-precision b-recall   b-f1\n",
      "      auto-v1  0.359     0.683         0.997   0.997  -0.098  -0.324       0.656    0.521  0.578\n",
      " initial-tune  0.305     0.617         0.998   0.999   -0.22  -0.312       0.738    0.461  0.562\n",
      "Search Comparison\n",
      "         Mode both-main-pixel-paint both-spurious-pixel-paint just_main+spurious\n",
      "      auto-v1                 0.289                     0.164               -1.0\n",
      " initial-tune                 0.258                     0.141               -1.0\n",
      "\n",
      "\n",
      "knife-person\n",
      "P(S|M), P(S): 0.546 0.542\n",
      "Acc Comparison\n",
      "         Mode   both just_main just_spurious neither  p-gap  r-gap b-precision b-recall   b-f1\n",
      "      auto-v1  0.258     0.125         0.993   0.995  0.089  0.133       0.567    0.191  0.282\n",
      " initial-tune  0.407     0.271         0.986   0.988  0.057  0.135       0.514    0.339  0.395\n",
      "Search Comparison\n",
      "         Mode both-main-pixel-paint both-spurious-pixel-paint just_main+spurious\n",
      "      auto-v1                 0.091                     0.215              0.067\n",
      " initial-tune                 0.068                      0.24               0.14\n",
      "\n",
      "\n",
      "tennis+racket-person\n",
      "P(S|M), P(S): 0.99 0.542\n",
      "Acc Comparison\n",
      "         Mode   both just_main just_spurious neither   p-gap  r-gap b-precision b-recall   b-f1\n",
      "      auto-v1  0.586     0.544         0.998   0.997   0.046  0.042       0.893    0.565  0.689\n",
      " initial-tune  0.866     0.412         0.995     1.0  -0.131  0.454       0.907    0.639  0.749\n",
      "Search Comparison\n",
      "         Mode both-main-pixel-paint both-spurious-pixel-paint just_main+spurious\n",
      "      auto-v1                 0.256                     0.277               -1.0\n",
      " initial-tune                 0.099                      0.44               -1.0\n",
      "\n",
      "\n",
      "frisbee-person\n",
      "P(S|M), P(S): 0.834 0.542\n",
      "Acc Comparison\n",
      "         Mode   both just_main just_spurious neither   p-gap  r-gap b-precision b-recall   b-f1\n",
      "      auto-v1  0.466     0.372         0.996   0.998  -0.062  0.094       0.707    0.419  0.524\n",
      " initial-tune  0.531     0.318         0.993   0.998   -0.14  0.213       0.623    0.424  0.496\n",
      "Search Comparison\n",
      "         Mode both-main-pixel-paint both-spurious-pixel-paint just_main+spurious\n",
      "      auto-v1                 0.161                     0.308               -1.0\n",
      " initial-tune                 0.137                     0.318               -1.0\n",
      "\n",
      "\n",
      "skateboard-person\n",
      "P(S|M), P(S): 0.983 0.542\n",
      "Acc Comparison\n",
      "         Mode   both just_main just_spurious neither   p-gap  r-gap b-precision b-recall   b-f1\n",
      "      auto-v1  0.591     0.412         0.998   0.998   0.002  0.178        0.87    0.502  0.632\n",
      " initial-tune   0.74      0.25         0.994   0.999  -0.149   0.49       0.801    0.495   0.61\n",
      "Search Comparison\n",
      "         Mode both-main-pixel-paint both-spurious-pixel-paint just_main+spurious\n",
      "      auto-v1                 0.204                     0.385               -1.0\n",
      " initial-tune                 0.123                     0.544               -1.0\n",
      "\n",
      "\n",
      "baseball+glove-person\n",
      "P(S|M), P(S): 0.99 0.542\n",
      "Acc Comparison\n",
      "         Mode   both just_main just_spurious neither  p-gap  r-gap b-precision b-recall   b-f1\n",
      "      auto-v1  0.495     0.098         0.998     1.0  0.012  0.396        0.86    0.297  0.435\n",
      " initial-tune  0.801     0.045         0.995     1.0  0.032  0.755       0.791    0.423  0.548\n",
      "Search Comparison\n",
      "         Mode both-main-pixel-paint both-spurious-pixel-paint just_main+spurious\n",
      "      auto-v1                 0.081                     0.283               -1.0\n",
      " initial-tune                 0.051                      0.53               -1.0\n",
      "\n",
      "\n",
      "baseball+bat-person\n",
      "P(S|M), P(S): 0.988 0.542\n",
      "Acc Comparison\n",
      "         Mode   both just_main just_spurious neither   p-gap  r-gap b-precision b-recall  b-f1\n",
      "      auto-v1  0.495     0.319         0.998   0.998   0.039  0.175       0.828    0.407  0.54\n",
      " initial-tune  0.652     0.194         0.994     1.0  -0.273  0.457       0.749    0.423  0.54\n",
      "Search Comparison\n",
      "         Mode both-main-pixel-paint both-spurious-pixel-paint just_main+spurious\n",
      "      auto-v1                 0.157                     0.351               -1.0\n",
      " initial-tune                 0.077                     0.473               -1.0\n",
      "\n",
      "\n",
      "snowboard-person\n",
      "P(S|M), P(S): 0.981 0.542\n",
      "Acc Comparison\n",
      "         Mode   both just_main just_spurious neither   p-gap  r-gap b-precision b-recall   b-f1\n",
      "      auto-v1  0.401     0.275         0.997     1.0  -0.349  0.126       0.691    0.338  0.449\n",
      " initial-tune  0.594     0.208         0.993     1.0  -0.475  0.385       0.563    0.401   0.46\n",
      "Search Comparison\n",
      "         Mode both-main-pixel-paint both-spurious-pixel-paint just_main+spurious\n",
      "      auto-v1                 0.167                     0.281               -1.0\n",
      " initial-tune                 0.104                     0.365               -1.0\n",
      "\n",
      "\n",
      "remote-person\n",
      "P(S|M), P(S): 0.669 0.542\n",
      "Acc Comparison\n",
      "         Mode   both just_main just_spurious neither  p-gap  r-gap b-precision b-recall   b-f1\n",
      "      auto-v1  0.288     0.106         0.997   0.996  0.258  0.182       0.686    0.197  0.291\n",
      " initial-tune  0.503     0.133         0.992   0.995  0.257   0.37       0.605    0.318  0.413\n",
      "Search Comparison\n",
      "         Mode both-main-pixel-paint both-spurious-pixel-paint just_main+spurious\n",
      "      auto-v1                 0.117                     0.232              0.085\n",
      " initial-tune                 0.112                     0.421              0.064\n",
      "\n",
      "\n",
      "sports+ball-person\n",
      "P(S|M), P(S): 0.961 0.542\n",
      "Acc Comparison\n",
      "         Mode   both just_main just_spurious neither   p-gap  r-gap b-precision b-recall   b-f1\n",
      "      auto-v1  0.399      0.25         0.993   0.998  -0.148  0.149       0.707    0.325  0.444\n",
      " initial-tune  0.634     0.119         0.977   0.999  -0.357  0.515       0.533    0.376  0.439\n",
      "Search Comparison\n",
      "         Mode both-main-pixel-paint both-spurious-pixel-paint just_main+spurious\n",
      "      auto-v1                 0.264                     0.184               -1.0\n",
      " initial-tune                 0.263                     0.354               -1.0\n",
      "\n",
      "\n",
      "skis-person\n",
      "P(S|M), P(S): 0.988 0.542\n",
      "Acc Comparison\n",
      "         Mode   both just_main just_spurious neither   p-gap  r-gap b-precision b-recall   b-f1\n",
      "      auto-v1  0.629     0.301         0.998   0.999  -0.031  0.328       0.911    0.465  0.611\n",
      " initial-tune  0.725     0.269         0.995     1.0  -0.188  0.456       0.841    0.497  0.622\n",
      "Search Comparison\n",
      "         Mode both-main-pixel-paint both-spurious-pixel-paint just_main+spurious\n",
      "      auto-v1                 0.158                     0.198               -1.0\n",
      " initial-tune                 0.117                     0.281               -1.0\n",
      "\n",
      "\n",
      "toothbrush-person\n",
      "P(S|M), P(S): 0.536 0.542\n"
     ]
    },
    {
     "name": "stdout",
     "output_type": "stream",
     "text": [
      "Acc Comparison\n",
      "         Mode   both just_main just_spurious neither  p-gap  r-gap b-precision b-recall   b-f1\n",
      "      auto-v1  0.493     0.311         0.999   0.999  0.057  0.182       0.677    0.402  0.501\n",
      " initial-tune    0.5     0.347         0.999   0.998  0.157  0.153       0.665    0.423  0.511\n",
      "Search Comparison\n",
      "         Mode both-main-pixel-paint both-spurious-pixel-paint just_main+spurious\n",
      "      auto-v1                  -1.0                      -1.0               -1.0\n",
      " initial-tune                  -1.0                      -1.0               -1.0\n",
      "\n",
      "\n",
      "\n",
      "\n",
      "elephant\n",
      "\n",
      "bench-elephant\n",
      "P(S|M), P(S): 0.02 0.018\n",
      "Acc Comparison\n",
      "         Mode   both just_main just_spurious neither   p-gap   r-gap b-precision b-recall   b-f1\n",
      "      auto-v1  0.167     0.329         0.881   0.989  -0.541  -0.162       0.159    0.248  0.193\n",
      " initial-tune  0.125     0.332         0.988   0.985   0.085  -0.207       0.539    0.228  0.307\n",
      "Search Comparison\n",
      "         Mode both-main-pixel-paint both-spurious-pixel-paint just_main+spurious\n",
      "      auto-v1                  -1.0                      -1.0              0.177\n",
      " initial-tune                  -1.0                      -1.0              0.214\n",
      "\n",
      "\n",
      "\n",
      "\n",
      "airplane\n",
      "\n",
      "truck-airplane\n",
      "P(S|M), P(S): 0.105 0.025\n",
      "Acc Comparison\n",
      "         Mode   both just_main just_spurious neither   p-gap  r-gap b-precision b-recall   b-f1\n",
      "      auto-v1  0.917     0.402         0.866   0.984  -0.302  0.514        0.33     0.66  0.434\n",
      " initial-tune  0.908     0.433         0.909   0.982  -0.219  0.475         0.4    0.671  0.499\n",
      "Search Comparison\n",
      "         Mode both-main-pixel-paint both-spurious-pixel-paint just_main+spurious\n",
      "      auto-v1                  -1.0                      -1.0              0.127\n",
      " initial-tune                  -1.0                      -1.0              0.132\n",
      "\n",
      "\n",
      "\n",
      "\n",
      "dining+table\n",
      "\n",
      "sandwich-dining+table\n",
      "P(S|M), P(S): 0.567 0.1\n",
      "Acc Comparison\n",
      "         Mode   both just_main just_spurious neither   p-gap   r-gap b-precision b-recall   b-f1\n",
      "      auto-v1   0.27     0.356         0.969   0.996   -0.49  -0.087       0.316    0.313  0.287\n",
      " initial-tune  0.363     0.431         0.962   0.997  -0.595  -0.068       0.288    0.397   0.33\n",
      "Search Comparison\n",
      "         Mode both-main-pixel-paint both-spurious-pixel-paint just_main+spurious\n",
      "      auto-v1                 0.191                     0.127              0.223\n",
      " initial-tune                  0.25                     0.201              0.234\n",
      "\n",
      "\n",
      "knife-dining+table\n",
      "P(S|M), P(S): 0.632 0.1\n",
      "Acc Comparison\n",
      "         Mode  both just_main just_spurious neither   p-gap  r-gap b-precision b-recall   b-f1\n",
      "      auto-v1  0.22     0.155         0.963   0.997  -0.448  0.066       0.275    0.188  0.216\n",
      " initial-tune  0.39     0.262         0.904   0.994  -0.482  0.128       0.215    0.326  0.245\n",
      "Search Comparison\n",
      "         Mode both-main-pixel-paint both-spurious-pixel-paint just_main+spurious\n",
      "      auto-v1                 0.072                     0.133              0.119\n",
      " initial-tune                 0.093                     0.233              0.155\n",
      "\n",
      "\n",
      "fork-dining+table\n",
      "P(S|M), P(S): 0.756 0.1\n",
      "Acc Comparison\n",
      "         Mode   both just_main just_spurious neither   p-gap  r-gap b-precision b-recall   b-f1\n",
      "      auto-v1  0.298     0.261         0.951   0.998  -0.607  0.037       0.291    0.279  0.269\n",
      " initial-tune  0.502     0.417         0.886   0.997  -0.674  0.086       0.208    0.459  0.277\n",
      "Search Comparison\n",
      "         Mode both-main-pixel-paint both-spurious-pixel-paint just_main+spurious\n",
      "      auto-v1                 0.111                     0.193              0.161\n",
      " initial-tune                 0.136                      0.37              0.217\n",
      "\n",
      "\n",
      "spoon-dining+table\n",
      "P(S|M), P(S): 0.593 0.1\n",
      "Acc Comparison\n",
      "         Mode   both just_main just_spurious neither   p-gap  r-gap b-precision b-recall   b-f1\n",
      "      auto-v1  0.135     0.083          0.97   0.998  -0.384  0.052       0.187    0.109  0.134\n",
      " initial-tune  0.379     0.197         0.911   0.996  -0.488  0.182       0.167    0.288  0.207\n",
      "Search Comparison\n",
      "         Mode both-main-pixel-paint both-spurious-pixel-paint just_main+spurious\n",
      "      auto-v1                 0.055                     0.103              0.061\n",
      " initial-tune                 0.098                     0.302              0.155\n",
      "\n",
      "\n",
      "bowl-dining+table\n",
      "P(S|M), P(S): 0.478 0.1\n",
      "Acc Comparison\n",
      "         Mode  both just_main just_spurious neither   p-gap  r-gap b-precision b-recall   b-f1\n",
      "      auto-v1  0.44     0.277         0.903   0.992   -0.44  0.162       0.334    0.358  0.334\n",
      " initial-tune  0.54     0.353         0.871   0.991  -0.492  0.187       0.316    0.447  0.362\n",
      "Search Comparison\n",
      "         Mode both-main-pixel-paint both-spurious-pixel-paint just_main+spurious\n",
      "      auto-v1                 0.228                     0.185                0.2\n",
      " initial-tune                 0.273                      0.23              0.256\n",
      "\n",
      "\n",
      "\n",
      "\n",
      "sheep\n",
      "\n",
      "dog-sheep\n",
      "P(S|M), P(S): 0.026 0.013\n",
      "Acc Comparison\n",
      "         Mode   both just_main just_spurious neither   p-gap   r-gap b-precision b-recall   b-f1\n",
      "      auto-v1  0.308     0.544         0.925   0.993  -0.629  -0.235       0.304    0.426  0.341\n",
      " initial-tune    0.2     0.574         0.942   0.992  -0.409  -0.374       0.424    0.387  0.357\n",
      "Search Comparison\n",
      "         Mode both-main-pixel-paint both-spurious-pixel-paint just_main+spurious\n",
      "      auto-v1                  -1.0                      -1.0              0.218\n",
      " initial-tune                  -1.0                      -1.0              0.233\n",
      "\n",
      "\n",
      "bird-sheep\n",
      "P(S|M), P(S): 0.013 0.013\n",
      "Acc Comparison\n",
      "         Mode   both just_main just_spurious neither   p-gap   r-gap b-precision b-recall   b-f1\n",
      "      auto-v1  0.274     0.396         0.973   0.997  -0.378  -0.122       0.517    0.335  0.367\n",
      " initial-tune  0.226     0.422         0.988   0.996  -0.112  -0.196       0.622    0.324  0.403\n",
      "Search Comparison\n",
      "         Mode both-main-pixel-paint both-spurious-pixel-paint just_main+spurious\n",
      "      auto-v1                  -1.0                      -1.0              0.192\n",
      " initial-tune                  -1.0                      -1.0               0.19\n",
      "\n",
      "\n",
      "\n",
      "\n",
      "cat\n",
      "\n",
      "tie-cat\n",
      "P(S|M), P(S): 0.012 0.035\n",
      "Acc Comparison\n",
      "         Mode   both just_main just_spurious neither  p-gap   r-gap b-precision b-recall   b-f1\n",
      "      auto-v1  0.669     0.403         0.997   0.999  0.016   0.267       0.905    0.536  0.669\n",
      " initial-tune  0.331     0.533         0.999   0.997  0.073  -0.202       0.873    0.432  0.574\n",
      "Search Comparison\n",
      "         Mode both-main-pixel-paint both-spurious-pixel-paint just_main+spurious\n",
      "      auto-v1                  -1.0                      -1.0              0.163\n",
      " initial-tune                  -1.0                      -1.0              0.207\n",
      "\n",
      "\n",
      "\n",
      "\n",
      "dog\n",
      "\n",
      "frisbee-dog\n",
      "P(S|M), P(S): 0.239 0.037\n",
      "Acc Comparison\n",
      "         Mode   both just_main just_spurious neither   p-gap  r-gap b-precision b-recall   b-f1\n",
      "      auto-v1  0.688     0.436         0.994   0.997  -0.029  0.252        0.69    0.562  0.615\n",
      " initial-tune  0.812       0.5         0.976   0.996  -0.299  0.312       0.459    0.656  0.533\n",
      "Search Comparison\n",
      "         Mode both-main-pixel-paint both-spurious-pixel-paint just_main+spurious\n",
      "      auto-v1                  -1.0                      -1.0              0.178\n",
      " initial-tune                  -1.0                      -1.0              0.208\n",
      "\n",
      "\n",
      "\n",
      "\n",
      "\n",
      "\n",
      "Aggregate Differences:\n"
     ]
    },
    {
     "data": {
      "image/png": "[encoded data removed]",
      "text/plain": [
       "<Figure size 432x288 with 1 Axes>"
      ]
     },
     "metadata": {
      "needs_background": "light"
     },
     "output_type": "display_data"
    },
    {
     "name": "stdout",
     "output_type": "stream",
     "text": [
      "both\n",
      "mean (std): -0.085 0.133\n",
      "median: -0.1\n",
      "prob > 0: 0.276\n",
      "\n",
      "\n"
     ]
    },
    {
     "data": {
      "image/png": "[encoded data removed]",
      "text/plain": [
       "<Figure size 432x288 with 1 Axes>"
      ]
     },
     "metadata": {
      "needs_background": "light"
     },
     "output_type": "display_data"
    },
    {
     "name": "stdout",
     "output_type": "stream",
     "text": [
      "just_main\n",
      "mean (std): -0.001 0.086\n",
      "median: -0.003\n",
      "prob > 0: 0.483\n",
      "\n",
      "\n"
     ]
    },
    {
     "data": {
      "image/png": "[encoded data removed]",
      "text/plain": [
       "<Figure size 432x288 with 1 Axes>"
      ]
     },
     "metadata": {
      "needs_background": "light"
     },
     "output_type": "display_data"
    },
    {
     "name": "stdout",
     "output_type": "stream",
     "text": [
      "just_spurious\n",
      "mean (std): 0.004 0.03\n",
      "median: 0.003\n",
      "prob > 0: 0.655\n",
      "\n",
      "\n"
     ]
    },
    {
     "data": {
      "image/png": "[encoded data removed]",
      "text/plain": [
       "<Figure size 432x288 with 1 Axes>"
      ]
     },
     "metadata": {
      "needs_background": "light"
     },
     "output_type": "display_data"
    },
    {
     "name": "stdout",
     "output_type": "stream",
     "text": [
      "neither\n",
      "mean (std): 0.0 0.002\n",
      "median: 0.0\n",
      "prob > 0: 0.483\n",
      "\n",
      "\n"
     ]
    },
    {
     "data": {
      "image/png": "[encoded data removed]",
      "text/plain": [
       "<Figure size 432x288 with 1 Axes>"
      ]
     },
     "metadata": {
      "needs_background": "light"
     },
     "output_type": "display_data"
    },
    {
     "name": "stdout",
     "output_type": "stream",
     "text": [
      "p-gap\n",
      "mean (std): -0.039 0.15\n",
      "median: -0.078\n",
      "prob < 0: 0.724\n",
      "\n",
      "\n"
     ]
    },
    {
     "data": {
      "image/png": "[encoded data removed]",
      "text/plain": [
       "<Figure size 432x288 with 1 Axes>"
      ]
     },
     "metadata": {
      "needs_background": "light"
     },
     "output_type": "display_data"
    },
    {
     "name": "stdout",
     "output_type": "stream",
     "text": [
      "r-gap\n",
      "mean (std): -0.108 0.138\n",
      "median: -0.073\n",
      "prob < 0: 0.759\n",
      "\n",
      "\n"
     ]
    },
    {
     "data": {
      "image/png": "[encoded data removed]",
      "text/plain": [
       "<Figure size 432x288 with 1 Axes>"
      ]
     },
     "metadata": {
      "needs_background": "light"
     },
     "output_type": "display_data"
    },
    {
     "name": "stdout",
     "output_type": "stream",
     "text": [
      "b-precision\n",
      "mean (std): 0.023 0.112\n",
      "median: 0.041\n",
      "prob > 0: 0.69\n",
      "\n",
      "\n"
     ]
    },
    {
     "data": {
      "image/png": "[encoded data removed]",
      "text/plain": [
       "<Figure size 432x288 with 1 Axes>"
      ]
     },
     "metadata": {
      "needs_background": "light"
     },
     "output_type": "display_data"
    },
    {
     "name": "stdout",
     "output_type": "stream",
     "text": [
      "b-recall\n",
      "mean (std): -0.043 0.07\n",
      "median: -0.027\n",
      "prob > 0: 0.276\n",
      "\n",
      "\n"
     ]
    },
    {
     "data": {
      "image/png": "[encoded data removed]",
      "text/plain": [
       "<Figure size 432x288 with 1 Axes>"
      ]
     },
     "metadata": {
      "needs_background": "light"
     },
     "output_type": "display_data"
    },
    {
     "name": "stdout",
     "output_type": "stream",
     "text": [
      "b-f1\n",
      "mean (std): -0.022 0.052\n",
      "median: -0.016\n",
      "prob > 0: 0.276\n",
      "\n",
      "\n"
     ]
    },
    {
     "data": {
      "image/png": "[encoded data removed]",
      "text/plain": [
       "<Figure size 432x288 with 1 Axes>"
      ]
     },
     "metadata": {
      "needs_background": "light"
     },
     "output_type": "display_data"
    },
    {
     "name": "stdout",
     "output_type": "stream",
     "text": [
      "both-main-pixel-paint\n",
      "mean (std): 0.012 0.042\n",
      "median: 0.0\n",
      "prob > 0: 0.448\n",
      "\n",
      "\n"
     ]
    },
    {
     "data": {
      "image/png": "[encoded data removed]",
      "text/plain": [
       "<Figure size 432x288 with 1 Axes>"
      ]
     },
     "metadata": {
      "needs_background": "light"
     },
     "output_type": "display_data"
    },
    {
     "name": "stdout",
     "output_type": "stream",
     "text": [
      "both-spurious-pixel-paint\n",
      "mean (std): -0.071 0.08\n",
      "median: -0.065\n",
      "prob < 0: 0.621\n",
      "\n",
      "\n"
     ]
    },
    {
     "data": {
      "image/png": "[encoded data removed]",
      "text/plain": [
       "<Figure size 432x288 with 1 Axes>"
      ]
     },
     "metadata": {
      "needs_background": "light"
     },
     "output_type": "display_data"
    },
    {
     "name": "stdout",
     "output_type": "stream",
     "text": [
      "just_main+spurious\n",
      "mean (std): -0.016 0.027\n",
      "median: 0.0\n",
      "prob < 0: 0.448\n",
      "\n",
      "\n"
     ]
    }
   ],
   "source": [
    "compare('auto-v1', 'initial-tune')"
   ]
  },
  {
   "cell_type": "code",
   "execution_count": null,
   "metadata": {},
   "outputs": [],
   "source": []
  }
 ],
 "metadata": {
  "kernelspec": {
   "display_name": "Python [conda env:countervision]",
   "language": "python",
   "name": "conda-env-countervision-py"
  },
  "language_info": {
   "codemirror_mode": {
    "name": "ipython",
    "version": 3
   },
   "file_extension": ".py",
   "mimetype": "text/x-python",
   "name": "python",
   "nbconvert_exporter": "python",
   "pygments_lexer": "ipython3",
   "version": "3.7.9"
  }
 },
 "nbformat": 4,
 "nbformat_minor": 4
}
