{
 "cells": [
  {
   "cell_type": "code",
   "execution_count": 1,
   "metadata": {
    "scrolled": true
   },
   "outputs": [],
   "source": [
    "import json \n",
    "import matplotlib.pyplot as plt\n",
    "import numpy as np\n",
    "import os\n",
    "import pandas as pd\n",
    "import sys\n",
    "\n",
    "sys.path.insert(0, '../')\n",
    "from Config import get_data_dir\n"
   ]
  },
  {
   "cell_type": "code",
   "execution_count": 2,
   "metadata": {
    "scrolled": true
   },
   "outputs": [],
   "source": [
    "results_dir = './Identification'\n",
    "\n",
    "results = {}\n",
    "for file in os.listdir(results_dir):\n",
    "    with open('{}/{}'.format(results_dir, file)) as f:\n",
    "        data = json.load(f)\n",
    "        results[file.split('.')[0]] = data['cf_score']"
   ]
  },
  {
   "cell_type": "code",
   "execution_count": 3,
   "metadata": {},
   "outputs": [
    {
     "data": {
      "image/png": "[encoded data removed]",
      "text/plain": [
       "<Figure size 432x288 with 1 Axes>"
      ]
     },
     "metadata": {
      "needs_background": "light"
     },
     "output_type": "display_data"
    }
   ],
   "source": [
    "# Raw results\n",
    "\n",
    "values = [results[key] for key in results]\n",
    "plt.hist(values)\n",
    "plt.show()\n",
    "plt.close()"
   ]
  },
  {
   "cell_type": "code",
   "execution_count": 4,
   "metadata": {},
   "outputs": [
    {
     "data": {
      "image/png": "[encoded data removed]",
      "text/plain": [
       "<Figure size 432x288 with 1 Axes>"
      ]
     },
     "metadata": {
      "needs_background": "light"
     },
     "output_type": "display_data"
    },
    {
     "name": "stdout",
     "output_type": "stream",
     "text": [
      "0.1\n",
      "0.077\n"
     ]
    }
   ],
   "source": [
    "# Drop the pairs that we did not have enough data for\n",
    "\n",
    "keys = [key for key in results if results[key] != -1]\n",
    "\n",
    "values = [results[key] for key in keys]\n",
    "plt.hist(values, bins = 50)\n",
    "plt.xlabel(\"Probability that the model's prediction for Main changes\\n when we remove Spurious from an image in Both\")\n",
    "plt.ylabel(\"Number of (Main, Spurious) pairs\")\n",
    "plt.show()\n",
    "plt.close()\n",
    "\n",
    "print(np.round(np.mean(values), 3))\n",
    "print(np.round(np.median(values), 3))"
   ]
  },
  {
   "cell_type": "code",
   "execution_count": null,
   "metadata": {},
   "outputs": [],
   "source": [
    "def group(keys):\n",
    "    m_dict = {}\n",
    "    s_dict = {}\n",
    "    for key in keys:\n",
    "        objs = key.split('-')\n",
    "        main = objs[0]\n",
    "        spurious = objs[1]\n",
    "        \n",
    "        if main in m_dict:\n",
    "            m_dict[main].append(key)\n",
    "        else:\n",
    "            m_dict[main] = [key]\n",
    "            \n",
    "        if spurious in s_dict:\n",
    "            s_dict[spurious].append(key)\n",
    "        else:\n",
    "            s_dict[spurious] = [key]     \n",
    "    return m_dict, s_dict"
   ]
  },
  {
   "cell_type": "code",
   "execution_count": null,
   "metadata": {},
   "outputs": [],
   "source": [
    "# Filter for a minimum Counterfactual Score\n",
    "\n",
    "keys = [key for key in results if results[key] >= 0.40]\n",
    "\n",
    "m_dict, s_dict = group(keys)\n",
    "print(len(keys), len(m_dict), len(s_dict))\n",
    "\n",
    "values = [results[key] for key in keys]\n",
    "plt.hist(values)\n",
    "plt.show()\n",
    "plt.close()"
   ]
  },
  {
   "cell_type": "code",
   "execution_count": null,
   "metadata": {},
   "outputs": [],
   "source": [
    "# What pairs have we identified?\n",
    "pairs = []\n",
    "for m in m_dict:\n",
    "    for pair in m_dict[m]:\n",
    "        print(pair)\n",
    "        pairs.append(pair)\n",
    "\n",
    "# Save\n",
    "with open('./Pairs.json', 'w') as f:\n",
    "    json.dump(pairs, f)\n",
    "    \n",
    "out = {}\n",
    "out['Main'] = []\n",
    "out['Spurious'] = []\n",
    "out['P(Main)'] = []\n",
    "out['P(Spurious)'] = []\n",
    "out['P(Spurious|Main)'] = []\n",
    "out['bias'] = []\n",
    "out['ratio'] = []\n",
    "for pair in pairs:\n",
    "    with open('{}/train/splits/{}.json'.format(get_data_dir(), pair), 'r') as f:\n",
    "        splits = json.load(f)\n",
    "        \n",
    "    for key in splits:\n",
    "        splits[key] = len(splits[key])\n",
    "        \n",
    "    n = sum(splits[v] for v in splits)\n",
    "    \n",
    "    out['Main'].append(pair.split('-')[0].replace('+', ' '))\n",
    "    out['Spurious'].append(pair.split('-')[1].replace('+', ' '))\n",
    "    out['P(Main)'].append((splits['both'] + splits['just_main']) / n)\n",
    "    s =  (splits['both'] + splits['just_spurious']) / n\n",
    "    out['P(Spurious)'].append(s)\n",
    "    s_m = splits['both'] / (splits['both'] + splits['just_main'])\n",
    "    out['P(Spurious|Main)'].append(s_m)\n",
    "    out['bias'].append((s_m - s) / s)\n",
    "    out['ratio'].append(splits['both'] / splits['just_main'])\n",
    "    \n",
    "df = pd.DataFrame.from_dict(out, orient = 'columns')\n",
    "\n",
    "df = df.sort_values(by = ['bias'])\n",
    "\n",
    "df = df.round(3)\n",
    "\n",
    "df.to_csv('Pairs.csv', index = False)"
   ]
  },
  {
   "cell_type": "code",
   "execution_count": null,
   "metadata": {
    "scrolled": false
   },
   "outputs": [],
   "source": [
    "# Find which pairs require us to go and find more data    \n",
    "for pair in pairs:\n",
    "    \n",
    "    with open('{}/val/splits/{}.json'.format(get_data_dir(), pair), 'r') as f:\n",
    "        splits = json.load(f)\n",
    "        \n",
    "    for key in splits:\n",
    "        if len(splits[key]) < 25:\n",
    "            print('{}-{}'.format(pair, key))\n"
   ]
  },
  {
   "cell_type": "code",
   "execution_count": null,
   "metadata": {},
   "outputs": [],
   "source": [
    "# Verify that using these SPs leads to accuracy gaps\n",
    "\n",
    "with open('./ReferenceModel/results.json', 'r') as f:\n",
    "    results = json.load(f)\n",
    "\n",
    "out['tp'] = []\n",
    "out['fp'] = []\n",
    "out['norm'] = []\n",
    "for i, pair in enumerate(pairs):\n",
    "    \n",
    "    both = results['{}-both'.format(pair)]\n",
    "    just_main = results['{}-just_main'.format(pair)]\n",
    "    just_spurious = results['{}-just_spurious'.format(pair)]\n",
    "    neither = results['{}-neither'.format(pair)]\n",
    "    \n",
    "    out['tp'].append(both - just_main)\n",
    "    \n",
    "    out['fp'].append(neither - just_spurious)\n",
    "    \n",
    "    out['norm'] = abs(out['tp'][i]) + abs(out['fp'][i])\n",
    "\n",
    "\n",
    "\n",
    "fig = plt.figure(figsize = (10, 5))\n",
    "fig.subplots_adjust(hspace=0.2, wspace=0.4)\n",
    "\n",
    "fs = 24.0\n",
    "fs_tick = 15\n",
    "s = 60\n",
    "\n",
    "plt.subplot(1, 2, 1)\n",
    "plt.scatter(out['bias'], out['tp'], s  = s)\n",
    "plt.xticks(fontsize = fs_tick)\n",
    "plt.yticks(fontsize = fs_tick)\n",
    "plt.ylabel('Recall Gap', fontsize = fs)\n",
    "plt.xlabel('bias', fontsize = fs)\n",
    "plt.axvline(x=0, linestyle='dashed', c = 'black')\n",
    "plt.axhline(y=0, linestyle='dashed', c = 'black')\n",
    "\n",
    "plt.subplot(1, 2, 2)    \n",
    "plt.scatter(out['bias'], out['fp'], s=s)\n",
    "plt.ylabel('Hallucination Gap', fontsize = fs)\n",
    "plt.xlabel('bias', fontsize = fs)\n",
    "plt.xticks(fontsize = fs_tick)\n",
    "plt.yticks(fontsize = fs_tick)\n",
    "plt.axvline(x=0, linestyle='dashed', c = 'black')\n",
    "plt.axhline(y=0, linestyle='dashed', c = 'black')\n",
    "\n",
    "# plt.subplot(1, 3, 3)    \n",
    "# plt.scatter(out['tp'], out['fp'], s=s)\n",
    "# plt.xlabel('Recall Gap', fontsize = fs)\n",
    "# plt.ylabel('Hallucination Gap', fontsize = fs)\n",
    "# plt.xticks(fontsize = fs_tick)\n",
    "# plt.yticks(fontsize = fs_tick)\n",
    "# plt.axvline(x=0, linestyle='dashed', c = 'black')\n",
    "# plt.axhline(y=0, linestyle='dashed', c = 'black')\n",
    "\n",
    "plt.show()\n",
    "plt.close()\n",
    "\n",
    "print('Smallest l1 norm of gaps: ', np.min(out['norm']))\n"
   ]
  },
  {
   "cell_type": "code",
   "execution_count": null,
   "metadata": {},
   "outputs": [],
   "source": []
  }
 ],
 "metadata": {
  "kernelspec": {
   "display_name": "Python [conda env:countervision]",
   "language": "python",
   "name": "conda-env-countervision-py"
  },
  "language_info": {
   "codemirror_mode": {
    "name": "ipython",
    "version": 3
   },
   "file_extension": ".py",
   "mimetype": "text/x-python",
   "name": "python",
   "nbconvert_exporter": "python",
   "pygments_lexer": "ipython3",
   "version": "3.7.11"
  }
 },
 "nbformat": 4,
 "nbformat_minor": 4
}
