{
 "cells": [
  {
   "cell_type": "code",
   "execution_count": 1,
   "metadata": {},
   "outputs": [],
   "source": [
    "import glob\n",
    "import matplotlib.pyplot as plt\n",
    "import numpy as np\n",
    "import pickle\n",
    "\n",
    "from COCOWrapper import COCOWrapper\n"
   ]
  },
  {
   "cell_type": "code",
   "execution_count": 2,
   "metadata": {},
   "outputs": [
    {
     "name": "stdout",
     "output_type": "stream",
     "text": [
      "loading annotations into memory...\n",
      "Done (t=0.31s)\n",
      "creating index...\n",
      "index created!\n"
     ]
    }
   ],
   "source": [
    "\n",
    "root='/home/gregory/Datasets/COCO'\n",
    "year='2017'\n",
    "\n",
    "main_classes = ['snowboard', 'couch', 'tie', 'handbag', 'skis', 'remote', 'toothbrush', 'sports ball', 'knife', 'cell phone', 'fork', 'wine glass', 'skateboard', 'spoon', 'backpack', 'bench', 'frisbee']\n",
    "spurious_class = 'person'\n",
    "\n",
    "comparisons =  ['random-tune', 'initial-transfer']\n",
    "baseline = 'initial-tune'\n",
    "\n",
    "datafiles = []\n",
    "datafiles.append('{}/train{}-with-{}-info.p'.format(root, year, spurious_class))\n",
    "datafiles.append('{}/train{}-without-{}-info.p'.format(root, year, spurious_class))\n",
    "datafiles.append('{}/val{}-{}-info.p'.format(root, year, spurious_class))\n",
    "\n",
    "coco = COCOWrapper(root = root, mode = 'val', year = year)\n"
   ]
  },
  {
   "cell_type": "code",
   "execution_count": 3,
   "metadata": {},
   "outputs": [],
   "source": [
    "def collect(model, datafile):\n",
    "\n",
    "    p = []\n",
    "    r = []\n",
    "\n",
    "    for main_class in main_classes:        \n",
    "        index = coco.get_cat_ids(main_class)[0]\n",
    "        \n",
    "        p_tmp = []\n",
    "        r_tmp = []\n",
    "        \n",
    "        for file in glob.glob('./Models/{}/*.p'.format(model)):\n",
    "            with open(file, 'rb') as f:\n",
    "                data = pickle.load(f)\n",
    "                \n",
    "            data = data[datafile]\n",
    "            p_tmp.append(data[0][index])\n",
    "            r_tmp.append(data[1][index])\n",
    "            \n",
    "        p.append(np.mean(p_tmp))\n",
    "        r.append(np.mean(r_tmp))\n",
    "\n",
    "    return np.array(p), np.array(r)\n",
    "\n",
    "        \n",
    "def compare(comparisons, baseline, datafile, title):  \n",
    "    \n",
    "    plt.axhline(0, color='black', linestyle = '--')\n",
    "    plt.axvline(0, color='black', linestyle = '--')\n",
    "    \n",
    "    plt.ylabel('Change in Recall')\n",
    "    plt.xlabel('Change in Precision')\n",
    "    \n",
    "    plt.title('Comparison to {}: {}'.format(baseline, title))\n",
    "        \n",
    "    p_base, r_base = collect(baseline, datafile)\n",
    "    \n",
    "    for comparison in comparisons:\n",
    "        p_comp, r_comp = collect(comparison, datafile)\n",
    "\n",
    "        p_diff = p_comp - p_base\n",
    "        r_diff = r_comp - r_base\n",
    "\n",
    "        plt.scatter(p_diff, r_diff, label = comparison)\n",
    "\n",
    "    plt.legend()\n",
    "    plt.show()\n",
    "    plt.close()\n",
    "\n",
    "    \n"
   ]
  },
  {
   "cell_type": "code",
   "execution_count": 4,
   "metadata": {},
   "outputs": [
    {
     "ename": "TypeError",
     "evalue": "compare() takes 2 positional arguments but 4 were given",
     "output_type": "error",
     "traceback": [
      "\u001b[0;31m---------------------------------------------------------------------------\u001b[0m",
      "\u001b[0;31mTypeError\u001b[0m                                 Traceback (most recent call last)",
      "\u001b[0;32m<ipython-input-4-bc4eed463b39>\u001b[0m in \u001b[0;36m<module>\u001b[0;34m\u001b[0m\n\u001b[0;32m----> 1\u001b[0;31m \u001b[0mcompare\u001b[0m\u001b[0;34m(\u001b[0m\u001b[0mcomparisons\u001b[0m\u001b[0;34m,\u001b[0m \u001b[0mbaseline\u001b[0m\u001b[0;34m,\u001b[0m \u001b[0mdatafiles\u001b[0m\u001b[0;34m[\u001b[0m\u001b[0;36m0\u001b[0m\u001b[0;34m]\u001b[0m\u001b[0;34m,\u001b[0m \u001b[0;34m'Images with {}'\u001b[0m\u001b[0;34m.\u001b[0m\u001b[0mformat\u001b[0m\u001b[0;34m(\u001b[0m\u001b[0mspurious_class\u001b[0m\u001b[0;34m)\u001b[0m\u001b[0;34m)\u001b[0m\u001b[0;34m\u001b[0m\u001b[0;34m\u001b[0m\u001b[0m\n\u001b[0m\u001b[1;32m      2\u001b[0m \u001b[0mcompare\u001b[0m\u001b[0;34m(\u001b[0m\u001b[0mcomparisons\u001b[0m\u001b[0;34m,\u001b[0m \u001b[0mbaseline\u001b[0m\u001b[0;34m,\u001b[0m \u001b[0mdatafiles\u001b[0m\u001b[0;34m[\u001b[0m\u001b[0;36m1\u001b[0m\u001b[0;34m]\u001b[0m\u001b[0;34m,\u001b[0m \u001b[0;34m'Images without {}'\u001b[0m\u001b[0;34m.\u001b[0m\u001b[0mformat\u001b[0m\u001b[0;34m(\u001b[0m\u001b[0mspurious_class\u001b[0m\u001b[0;34m)\u001b[0m\u001b[0;34m)\u001b[0m\u001b[0;34m\u001b[0m\u001b[0;34m\u001b[0m\u001b[0m\n\u001b[1;32m      3\u001b[0m \u001b[0mcompare\u001b[0m\u001b[0;34m(\u001b[0m\u001b[0mcomparisons\u001b[0m\u001b[0;34m,\u001b[0m \u001b[0mbaseline\u001b[0m\u001b[0;34m,\u001b[0m \u001b[0mdatafiles\u001b[0m\u001b[0;34m[\u001b[0m\u001b[0;36m2\u001b[0m\u001b[0;34m]\u001b[0m\u001b[0;34m,\u001b[0m \u001b[0;34m'Counterfactual Images'\u001b[0m\u001b[0;34m)\u001b[0m\u001b[0;34m\u001b[0m\u001b[0;34m\u001b[0m\u001b[0m\n",
      "\u001b[0;31mTypeError\u001b[0m: compare() takes 2 positional arguments but 4 were given"
     ]
    }
   ],
   "source": [
    "compare(comparisons, baseline, datafiles[0], 'Images with {}'.format(spurious_class)) \n",
    "compare(comparisons, baseline, datafiles[1], 'Images without {}'.format(spurious_class))    \n",
    "compare(comparisons, baseline, datafiles[2], 'Counterfactual Images')    \n"
   ]
  },
  {
   "cell_type": "code",
   "execution_count": null,
   "metadata": {},
   "outputs": [],
   "source": [
    "compare(['random-transfer'], 'initial-transfer', datafiles[0], 'Images with {}'.format(spurious_class)) \n",
    "compare(['random-transfer'], 'initial-transfer', datafiles[1], 'Images without {}'.format(spurious_class))    \n",
    "compare(['random-transfer'], 'initial-transfer', datafiles[2], 'Counterfactual Images')    \n"
   ]
  }
 ],
 "metadata": {
  "kernelspec": {
   "display_name": "Python [conda env:countervision]",
   "language": "python",
   "name": "conda-env-countervision-py"
  },
  "language_info": {
   "codemirror_mode": {
    "name": "ipython",
    "version": 3
   },
   "file_extension": ".py",
   "mimetype": "text/x-python",
   "name": "python",
   "nbconvert_exporter": "python",
   "pygments_lexer": "ipython3",
   "version": "3.7.7"
  }
 },
 "nbformat": 4,
 "nbformat_minor": 4
}
