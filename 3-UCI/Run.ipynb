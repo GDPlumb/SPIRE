{
 "cells": [
  {
   "cell_type": "code",
   "execution_count": 1,
   "metadata": {},
   "outputs": [],
   "source": [
    "import json\n",
    "import numpy as np\n",
    "import os\n",
    "import pandas as pd\n",
    "from shutil import rmtree\n",
    "from sklearn.ensemble import RandomForestClassifier\n",
    "from sklearn.linear_model import LogisticRegression\n",
    "from sklearn.model_selection import train_test_split\n",
    "from sklearn.preprocessing import StandardScaler\n",
    "from sklearn.svm import SVC\n",
    "\n",
    "import sys\n",
    "sys.path.insert(0, \"../Code/\")\n",
    "from train import train_eval\n",
    "\n",
    "SPLIT_SEED = 0\n"
   ]
  },
  {
   "cell_type": "code",
   "execution_count": 2,
   "metadata": {},
   "outputs": [],
   "source": [
    "def load(dataset):\n",
    "    if dataset == \"adult\":\n",
    "\n",
    "        data = pd.read_csv(\"../fairness-comparison/fairness/data/preprocessed/adult_numerical-binsensitive.csv\")\n",
    "\n",
    "        colnames = list(data)\n",
    "\n",
    "        for name in colnames:\n",
    "            if name[:7] == \"native-\" or name[:8] == \"marital-\":\n",
    "                data.drop(labels = [name], inplace = True, axis = 1)\n",
    "\n",
    "        print(\"Features that we are considering\")\n",
    "        print(list(data))\n",
    "\n",
    "        x_full = data.drop(labels = [\"income-per-year\"], inplace = False, axis = 1).values\n",
    "        y_full = data[\"income-per-year\"].values\n",
    "\n",
    "    elif dataset == \"ricci\":\n",
    "\n",
    "        data = pd.read_csv(\"../fairness-comparison/fairness/data/preprocessed/ricci_numerical-binsensitive.csv\")\n",
    "\n",
    "        print(\"Features that we are considering\")\n",
    "        print(list(data))\n",
    "\n",
    "        x_full = data.drop(labels = [\"Combine\"], inplace = False, axis = 1).values\n",
    "        y_full = 1 * (data[\"Combine\"].values > 70)\n",
    "\n",
    "    elif dataset == \"german\":\n",
    "\n",
    "        data = pd.read_csv(\"../fairness-comparison/fairness/data/preprocessed/german_numerical-binsensitive.csv\")\n",
    "\n",
    "        print(\"Features that we are considering\")\n",
    "        print(list(data))\n",
    "\n",
    "        x_full = data.drop(labels = [\"credit\"], inplace = False, axis = 1).values\n",
    "        y_full = data[\"credit\"].values % 2 # original: 2 -> bad, 1-> good\n",
    "\n",
    "    print(\"Final Dimensions\")\n",
    "    print(x_full.shape)\n",
    "    print(y_full.shape)\n",
    "    \n",
    "    return x_full, y_full"
   ]
  },
  {
   "cell_type": "code",
   "execution_count": 3,
   "metadata": {},
   "outputs": [],
   "source": [
    "def run_baseline(x, y):\n",
    "\n",
    "    x_train, x_test, y_train, y_test = train_test_split(x, y, test_size = 0.25, random_state = SPLIT_SEED)\n",
    "    \n",
    "    scaler = StandardScaler()\n",
    "\n",
    "    scaler.fit(x_train)\n",
    "\n",
    "    x_train = scaler.transform(x_train)\n",
    "    x_test = scaler.transform(x_test)\n",
    "    \n",
    "    model_lr = LogisticRegression().fit(x_train, y_train)\n",
    "    print(\"Linear Acc: \", model_lr.score(x_test, y_test))\n",
    "    \n",
    "    model_svm = SVC().fit(x_train, y_train)\n",
    "    print(\"SVM Acc: \", model_svm.score(x_test, y_test))\n",
    "    \n",
    "    model_rf = RandomForestClassifier().fit(x_train, y_train)\n",
    "    print(\"RF Acc: \", model_rf.score(x_test, y_test))\n",
    "    \n",
    "    pred_lr = model_lr.predict(x_test)\n",
    "    pred_svm = model_svm.predict(x_test)\n",
    "    pred_rf = model_rf.predict(x_test)\n",
    "\n",
    "    print(\"Linear & SVM Agreement: \", np.mean(pred_lr == pred_svm))\n",
    "    print(\"Linear & RF Agreement: \", np.mean(pred_lr == pred_rf))\n",
    "    print(\"SV & RF Agreement: \", np.mean(pred_svm == pred_rf))\n"
   ]
  },
  {
   "cell_type": "code",
   "execution_count": 4,
   "metadata": {},
   "outputs": [
    {
     "name": "stdout",
     "output_type": "stream",
     "text": [
      "Features that we are considering\n",
      "['age', 'education-num', 'race', 'sex', 'capital-gain', 'capital-loss', 'hours-per-week', 'income-per-year', 'race-sex', 'workclass_Federal-gov', 'workclass_Local-gov', 'workclass_Private', 'workclass_Self-emp-inc', 'workclass_Self-emp-not-inc', 'workclass_State-gov', 'workclass_Without-pay', 'education_10th', 'education_11th', 'education_12th', 'education_1st-4th', 'education_5th-6th', 'education_7th-8th', 'education_9th', 'education_Assoc-acdm', 'education_Assoc-voc', 'education_Bachelors', 'education_Doctorate', 'education_HS-grad', 'education_Masters', 'education_Preschool', 'education_Prof-school', 'education_Some-college', 'occupation_Adm-clerical', 'occupation_Armed-Forces', 'occupation_Craft-repair', 'occupation_Exec-managerial', 'occupation_Farming-fishing', 'occupation_Handlers-cleaners', 'occupation_Machine-op-inspct', 'occupation_Other-service', 'occupation_Priv-house-serv', 'occupation_Prof-specialty', 'occupation_Protective-serv', 'occupation_Sales', 'occupation_Tech-support', 'occupation_Transport-moving', 'relationship_Husband', 'relationship_Not-in-family', 'relationship_Other-relative', 'relationship_Own-child', 'relationship_Unmarried', 'relationship_Wife']\n",
      "Final Dimensions\n",
      "(30162, 51)\n",
      "(30162,)\n"
     ]
    },
    {
     "name": "stderr",
     "output_type": "stream",
     "text": [
      "/home/gregory/anaconda3/lib/python3.6/site-packages/sklearn/utils/validation.py:590: DataConversionWarning: Data with input dtype int64 was converted to float64 by StandardScaler.\n",
      "  warnings.warn(msg, DataConversionWarning)\n",
      "/home/gregory/anaconda3/lib/python3.6/site-packages/sklearn/utils/validation.py:590: DataConversionWarning: Data with input dtype int64 was converted to float64 by StandardScaler.\n",
      "  warnings.warn(msg, DataConversionWarning)\n",
      "/home/gregory/anaconda3/lib/python3.6/site-packages/sklearn/utils/validation.py:590: DataConversionWarning: Data with input dtype int64 was converted to float64 by StandardScaler.\n",
      "  warnings.warn(msg, DataConversionWarning)\n",
      "/home/gregory/anaconda3/lib/python3.6/site-packages/sklearn/linear_model/logistic.py:432: FutureWarning: Default solver will be changed to 'lbfgs' in 0.22. Specify a solver to silence this warning.\n",
      "  FutureWarning)\n"
     ]
    },
    {
     "name": "stdout",
     "output_type": "stream",
     "text": [
      "Linear Acc:  0.8387481766343986\n",
      "SVM Acc:  0.8421959952260973\n",
      "RF Acc:  0.8301286301551518\n"
     ]
    },
    {
     "name": "stderr",
     "output_type": "stream",
     "text": [
      "/home/gregory/anaconda3/lib/python3.6/site-packages/sklearn/ensemble/forest.py:248: FutureWarning: The default value of n_estimators will change from 10 in version 0.20 to 100 in 0.22.\n",
      "  \"10 in version 0.20 to 100 in 0.22.\", FutureWarning)\n"
     ]
    },
    {
     "name": "stdout",
     "output_type": "stream",
     "text": [
      "Linear & SVM Agreement:  0.9474870706802812\n",
      "Linear & RF Agreement:  0.8813154754011404\n",
      "SV & RF Agreement:  0.8871502453255536\n"
     ]
    }
   ],
   "source": [
    "x, y = load(\"adult\")\n",
    "run_baseline(x, y)"
   ]
  },
  {
   "cell_type": "code",
   "execution_count": 5,
   "metadata": {},
   "outputs": [],
   "source": [
    "def eval_adult(sess, pred, perf_op, X, Y, x, y):\n",
    "\n",
    "        n = x.shape[0]\n",
    "        diffs = np.zeros((3))\n",
    "        \n",
    "        pred_original = sess.run(pred, {X: x})\n",
    "        \n",
    "        # Test the affect of increasing Age (feature at index 0)\n",
    "        x_inc = np.copy(x)\n",
    "        x_inc[:, 5] += 1\n",
    "        pred_inc = sess.run(pred, {X: x_inc})\n",
    "        diffs[0] = np.mean(pred_inc - pred_original)\n",
    "        \n",
    "        # Test the affect of changing Race (feature at index 2)    \n",
    "        x_swap = np.copy(x)\n",
    "        x_swap[:, 2] = (x_swap[:, 2] + 1) % 2\n",
    "        pred_swap = sess.run(pred, {X: x_swap})\n",
    "        diffs[1] = np.sqrt(np.mean((pred_swap - pred_original) ** 2))\n",
    "        \n",
    "        # Test the affect of changing Sex (feature at index 3)    \n",
    "        x_swap = np.copy(x)\n",
    "        x_swap[:, 3] = (x_swap[:, 3] + 1) % 2\n",
    "        pred_swap = sess.run(pred, {X: x_swap})\n",
    "        diffs[2] = np.sqrt(np.mean((pred_swap - pred_original) ** 2))\n",
    "        \n",
    "        out = {}\n",
    "        out[\"Model Acc\"] = sess.run(perf_op, {X: x, Y: y})\n",
    "        out[\"Mean affect of increasing age by 1\"] = diffs[0]\n",
    "        out[\"RMSE of changing Race\"] = diffs[1]\n",
    "        out[\"RMSE of changing Sex\"] = diffs[2]\n",
    "        print(out)\n",
    "        #with open(\"tests.txt\", \"w\") as outfile:\n",
    "            #json.dump(out, outfile)"
   ]
  },
  {
   "cell_type": "code",
   "execution_count": 6,
   "metadata": {},
   "outputs": [
    {
     "name": "stdout",
     "output_type": "stream",
     "text": [
      "INFO:tensorflow:Restoring parameters from ./model.cpkt\n",
      "{'Model Acc': 0.85055035, 'Mean affect of increasing age by 1': 0.011059025302529335, 'RMSE of changing Race': 0.4230669438838959, 'RMSE of changing Sex': 0.6683206558227539}\n",
      "INFO:tensorflow:Restoring parameters from ./model.cpkt\n",
      "{'Model Acc': 0.8441851, 'Mean affect of increasing age by 1': 0.003944131545722485, 'RMSE of changing Race': 0.0002972083166241646, 'RMSE of changing Sex': 0.00036269091651774943}\n"
     ]
    }
   ],
   "source": [
    "\n",
    "x_train, x_test, y_train, y_test = train_test_split(x, y, test_size = 0.25, random_state = SPLIT_SEED)\n",
    "    \n",
    "if os.path.exists(\"TB/Adult/\"):\n",
    "    rmtree(\"TB/Adult/\")\n",
    "\n",
    "train_eval(x_train, np.expand_dims(y_train, 1), \"binary_classification\", \n",
    "           hidden_layer_sizes = [150, 150, 150], learning_rate = 0.001, stopping_epochs = 100, tol = 0.0001, \n",
    "           eval_func = eval_adult, x_test = x_test, y_test = np.expand_dims(y_test, 1), flag = \"UCI\",\n",
    "           name = \"TB/Adult/\")\n",
    "\n",
    "train_eval(x_train, np.expand_dims(y_train, 1), \"binary_classification\", \n",
    "           hidden_layer_sizes = [150, 150, 150], learning_rate = 0.001, stopping_epochs = 100, tol = 0.0001, \n",
    "           eval_func = eval_adult, x_test = x_test, y_test = np.expand_dims(y_test, 1), flag = \"UCI\",\n",
    "           name = \"TB/Adult/\",\n",
    "           heuristics = [[\"inv\", 0, 4, 1.0], [\"inv\", 2, 0.5, 1000.0], [\"inv\", 3, 0.5, 1000.0]])"
   ]
  },
  {
   "cell_type": "code",
   "execution_count": 7,
   "metadata": {},
   "outputs": [
    {
     "name": "stdout",
     "output_type": "stream",
     "text": [
      "Features that we are considering\n",
      "['month', 'credit_amount', 'investment_as_income_percentage', 'sex', 'residence_since', 'age', 'number_of_credits', 'people_liable_for', 'credit', 'sex-age', 'status_A11', 'status_A12', 'status_A13', 'status_A14', 'credit_history_A30', 'credit_history_A31', 'credit_history_A32', 'credit_history_A33', 'credit_history_A34', 'purpose_A40', 'purpose_A41', 'purpose_A410', 'purpose_A42', 'purpose_A43', 'purpose_A44', 'purpose_A45', 'purpose_A46', 'purpose_A48', 'purpose_A49', 'savings_A61', 'savings_A62', 'savings_A63', 'savings_A64', 'savings_A65', 'employment_A71', 'employment_A72', 'employment_A73', 'employment_A74', 'employment_A75', 'other_debtors_A101', 'other_debtors_A102', 'other_debtors_A103', 'property_A121', 'property_A122', 'property_A123', 'property_A124', 'installment_plans_A141', 'installment_plans_A142', 'installment_plans_A143', 'housing_A151', 'housing_A152', 'housing_A153', 'skill_level_A171', 'skill_level_A172', 'skill_level_A173', 'skill_level_A174', 'telephone_A191', 'telephone_A192', 'foreign_worker_A201', 'foreign_worker_A202']\n",
      "Final Dimensions\n",
      "(1000, 59)\n",
      "(1000,)\n",
      "Linear Acc:  0.732\n",
      "SVM Acc:  0.744\n",
      "RF Acc:  0.772\n",
      "Linear & SVM Agreement:  0.932\n",
      "Linear & RF Agreement:  0.816\n",
      "SV & RF Agreement:  0.812\n"
     ]
    },
    {
     "name": "stderr",
     "output_type": "stream",
     "text": [
      "/home/gregory/anaconda3/lib/python3.6/site-packages/sklearn/utils/validation.py:590: DataConversionWarning: Data with input dtype int64 was converted to float64 by StandardScaler.\n",
      "  warnings.warn(msg, DataConversionWarning)\n",
      "/home/gregory/anaconda3/lib/python3.6/site-packages/sklearn/utils/validation.py:590: DataConversionWarning: Data with input dtype int64 was converted to float64 by StandardScaler.\n",
      "  warnings.warn(msg, DataConversionWarning)\n",
      "/home/gregory/anaconda3/lib/python3.6/site-packages/sklearn/utils/validation.py:590: DataConversionWarning: Data with input dtype int64 was converted to float64 by StandardScaler.\n",
      "  warnings.warn(msg, DataConversionWarning)\n",
      "/home/gregory/anaconda3/lib/python3.6/site-packages/sklearn/linear_model/logistic.py:432: FutureWarning: Default solver will be changed to 'lbfgs' in 0.22. Specify a solver to silence this warning.\n",
      "  FutureWarning)\n",
      "/home/gregory/anaconda3/lib/python3.6/site-packages/sklearn/ensemble/forest.py:248: FutureWarning: The default value of n_estimators will change from 10 in version 0.20 to 100 in 0.22.\n",
      "  \"10 in version 0.20 to 100 in 0.22.\", FutureWarning)\n"
     ]
    }
   ],
   "source": [
    "x, y = load(\"german\")\n",
    "run_baseline(x, y)"
   ]
  },
  {
   "cell_type": "code",
   "execution_count": 8,
   "metadata": {},
   "outputs": [],
   "source": [
    "def eval_german(sess, pred, perf_op, X, Y, x, y):\n",
    "\n",
    "        n = x.shape[0]\n",
    "        diffs = np.zeros((2))\n",
    "        \n",
    "        pred_original = sess.run(pred, {X: x})\n",
    "        \n",
    "        # Test the affect of changing Sex (feature at index 3)    \n",
    "        x_swap = np.copy(x)\n",
    "        x_swap[:, 3] = (x_swap[:, 3] + 1) % 2\n",
    "        pred_swap = sess.run(pred, {X: x_swap})\n",
    "        diffs[0] = np.sqrt(np.mean((pred_swap - pred_original) ** 2))\n",
    "        \n",
    "        # Test the affect of increasing Age (feature at index 5)\n",
    "        x_inc = np.copy(x)\n",
    "        x_inc[:, 5] += 1\n",
    "        pred_inc = sess.run(pred, {X: x_inc})\n",
    "        diffs[1] = np.mean(pred_inc - pred_original)\n",
    "\n",
    "        out = {}\n",
    "        out[\"Model Acc\"] = sess.run(perf_op, {X: x, Y: y})\n",
    "        out[\"RMSE of changing Sex\"] = diffs[0]\n",
    "        out[\"Mean affect of increasing age by 1\"] = diffs[1]\n",
    "        print(out)\n",
    "        #with open(\"tests.txt\", \"w\") as outfile:\n",
    "            #json.dump(out, outfile)\n"
   ]
  },
  {
   "cell_type": "code",
   "execution_count": 9,
   "metadata": {},
   "outputs": [
    {
     "name": "stdout",
     "output_type": "stream",
     "text": [
      "INFO:tensorflow:Restoring parameters from ./model.cpkt\n",
      "{'Model Acc': 0.712, 'RMSE of changing Sex': 0.10801751911640167, 'Mean affect of increasing age by 1': 0.0799630880355835}\n",
      "INFO:tensorflow:Restoring parameters from ./model.cpkt\n",
      "{'Model Acc': 0.756, 'RMSE of changing Sex': 0.0003071436076425016, 'Mean affect of increasing age by 1': -0.0002613307151477784}\n"
     ]
    }
   ],
   "source": [
    "\n",
    "x_train, x_test, y_train, y_test = train_test_split(x, y, test_size = 0.25, random_state = SPLIT_SEED)\n",
    "    \n",
    "if os.path.exists(\"TB/German/\"):\n",
    "    rmtree(\"TB/German/\")\n",
    "\n",
    "train_eval(x_train, np.expand_dims(y_train, 1), \"binary_classification\", \n",
    "           hidden_layer_sizes = [150, 150, 150], learning_rate = 0.001, stopping_epochs = 100, tol = 0.0001, \n",
    "           eval_func = eval_german, x_test = x_test, y_test = np.expand_dims(y_test, 1), flag = \"UCI\", \n",
    "           name = \"TB/German/\")\n",
    "\n",
    "train_eval(x_train, np.expand_dims(y_train, 1), \"binary_classification\", \n",
    "           hidden_layer_sizes = [150, 150, 150], learning_rate = 0.001, stopping_epochs = 100, tol = 0.0001, \n",
    "           eval_func = eval_german, x_test = x_test, y_test = np.expand_dims(y_test, 1), flag = \"UCI\", \n",
    "           name = \"TB/German/\",\n",
    "           heuristics = [[\"inv\", 3, 0.5, 1000.0], [\"inv\", 5, 3.0, 1.0]])\n",
    "\n"
   ]
  },
  {
   "cell_type": "code",
   "execution_count": null,
   "metadata": {},
   "outputs": [],
   "source": []
  }
 ],
 "metadata": {
  "kernelspec": {
   "display_name": "Python 3",
   "language": "python",
   "name": "python3"
  },
  "language_info": {
   "codemirror_mode": {
    "name": "ipython",
    "version": 3
   },
   "file_extension": ".py",
   "mimetype": "text/x-python",
   "name": "python",
   "nbconvert_exporter": "python",
   "pygments_lexer": "ipython3",
   "version": "3.6.8"
  }
 },
 "nbformat": 4,
 "nbformat_minor": 2
}
