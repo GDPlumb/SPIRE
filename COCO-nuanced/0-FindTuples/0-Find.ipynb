{
 "cells": [
  {
   "cell_type": "code",
   "execution_count": 1,
   "metadata": {},
   "outputs": [],
   "source": [
    "\n",
    "import sys\n",
    "\n",
    "sys.path.insert(0, '../../Common')\n",
    "from COCOWrapper import COCOWrapper\n"
   ]
  },
  {
   "cell_type": "code",
   "execution_count": 2,
   "metadata": {},
   "outputs": [
    {
     "name": "stdout",
     "output_type": "stream",
     "text": [
      "['bicycle', 'clock', 'front', 'bike', 'black', 'metal', 'inside', 'room', 'blue', 'walls', 'white', 'sink', 'door', 'small', 'bathroom', 'wall', 'boat', 'painted', 'baby', 'car', 'parked', 'behind', 'two', 'cars', 'sidewalk', 'street', 'city', 'bench', 'parking', 'along', 'couple', 'busy', 'large', 'passenger', 'airplane', 'flying', 'air', 'plane', 'taking', 'cloudy', 'sky', 'red', 'toilet', 'full', 'little', 'decorated', 'many', 'colorful', 'long', 'empty', 'home', 'kitchen', 'picture', 'looking', 'area', 'refrigerator', 'gray', 'stove', 'counter', 'various', 'items', 'cabinets', 'several', 'across', 'open', 'box', 'four', 'food', 'filled', 'green', 'vegetables', 'bananas', 'purple', 'old', 'station', 'colored', 'sitting', 'beside', 'road', 'surfboard', 'top', 'side', 'next', 'silver', 'riding', 'group', 'motorcycle', 'driving', 'past', 'buildings', 'people', 'cat', 'water', 'head', 'man', 'another', 'ocean', 'older', 'beach', 'day', 'person', 'one', 'sits', 'cow', 'ground', 'horse', 'guy', 'floor', 'lot', 'line', 'set', 'lined', 'row', 'dish', 'table', 'bowl', 'getting', 'drink', 'boy', 'young', 'face', 'close', 'holding', 'skateboard', 'field', 'grass', 'skate', 'board', 'child', 'skateboarder', 'edge', 'mirror', 'high', 'jet', 'clear', 'brown', 'middle', 'eating', 'horses', 'near', 'standing', 'building', 'eat', 'woman', 'park', 'laying', 'half', 'cake', 'plate', 'pink', 'seat', 'desk', 'laptop', 'computer', 'corner', 'window', 'hanging', 'ride', 'back', 'house', 'walking', 'dog', 'fence', 'flowers', 'walks', 'girl', 'public', 'kids', 'stands', 'playing', 'three', 'bus', 'rides', 'going', 'dining', 'wooden', 'bright', 'lights', 'shown', 'beautiful', 'wood', 'traffic', 'intersection', 'umbrella', 'scene', 'night', 'covered', 'stop', 'light', 'airport', 'runway', 'giraffe', 'sit', 'waiting', 'crowd', 'ready', 'train', 'stand', 'ramp', 'display', 'photo', 'skiing', 'snow', 'cross', 'skis', 'forest', 'view', 'smiling', 'coming', 'bunch', 'men', 'female', 'preparing', 'carrying', 'photograph', 'sheep', 'animals', 'surrounded', 'shot', 'leaning', 'river', 'paper', 'clean', 'like', 'double', 'underneath', 'fire', 'living', 'lit', 'tv', 'brick', 'television', 'sign', 'restaurant', 'outside', 'store', 'background', 'cutting', 'looks', 'lake', 'truck', 'women', 'around', 'working', 'dirt', 'signs', 'big', 'screen', 'jumping', 'stopped', 'sun', 'setting', 'different', 'together', 'meal', 'way', 'hot', 'piece', 'lady', 'traveling', 'bed', 'talking', 'children', 'play', 'toy', 'phone', 'hat', 'teddy', 'bear', 'fruit', 'yellow', 'surface', 'showing', 'keyboard', 'elephants', 'trees', 'shows', 'track', 'orange', 'image', 'posing', 'slope', 'ski', 'wearing', 'mountain', 'trick', 'pizza', 'hands', 'camera', 'towards', 'resting', 'coffee', 'grassy', 'hill', 'moving', 'cows', 'herd', 'walk', 'grazing', 'shirt', 'stuffed', 'chair', 'sunny', 'seen', 'stone', 'cell', 'lying', 'frisbee', 'someone', 'tree', 'male', 'remote', 'adult', 'bag', 'hand', 'oven', 'pulling', 'dark', 'onto', 'snowy', 'making', 'skiers', 'pair', 'glass', 'tie', 'chairs', 'kite', 'body', 'giraffes', 'something', 'couch', 'furniture', 'holds', 'look', 'watching', 'displayed', 'tall', 'tower', 'watch', 'attached', 'zebras', 'animal', 'elephant', 'placed', 'jacket', 'lots', 'grey', 'vase', 'dressed', 'sleeping', 'plates', 'glasses', 'using', 'pole', 'trying', 'suit', 'made', 'tracks', 'passing', 'time', 'outdoor', 'nice', 'cup', 'bedroom', 'running', 'hydrant', 'pile', 'cut', 'zebra', 'zoo', 'hitting', 'surfer', 'sand', 'number', 'kid', 'bread', 'luggage', 'video', 'meat', 'cheese', 'game', 'bird', 'enclosure', 'baseball', 'boys', 'hit', 'lush', 'surfing', 'tennis', 'broccoli', 'ball', 'player', 'wine', 'sandwich', 'topped', 'racket', 'swinging', 'surf', 'slice', 'batter', 'skier', 'umbrellas', 'snowboard', 'mouth', 'wave', 'tray', 'court', 'racquet', 'wii', 'waves', 'players', 'bat', 'swing']\n"
     ]
    }
   ],
   "source": [
    "coco = COCOWrapper(mode = 'train')\n",
    "coco.setup_caption_maps()\n",
    "print(coco.common_words)"
   ]
  },
  {
   "cell_type": "code",
   "execution_count": 3,
   "metadata": {},
   "outputs": [
    {
     "name": "stdout",
     "output_type": "stream",
     "text": [
      "('airplane', 0.984017654083118)\n",
      "('car', -0.3438270646869643)\n",
      "('person', -0.285584405587939)\n",
      "('traffic light', -0.24937485988238162)\n",
      "('bus', -0.17644913683344116)\n",
      "('truck', 0.13954683703286622)\n",
      "('handbag', -0.13596361169261262)\n",
      "('motorcycle', -0.12464757660148773)\n",
      "('bicycle', -0.11915601772811545)\n",
      "('stop sign', -0.08854591882873832)\n"
     ]
    }
   ],
   "source": [
    "# For a pair of labels, find which objects are the most inidicative of the answer\n",
    "\n",
    "# Some options to consider:\n",
    "#  - cloudy, sunny, snowy\n",
    "#  - mountain, field, beach, river\n",
    "#  - runway/airport, street\n",
    "#  - kitchen, bathroom\n",
    "\n",
    "label1 = 'runway'\n",
    "label2 = 'street'\n",
    "\n",
    "comparison = coco.compare_words(label1, label2)\n",
    "\n",
    "for out in comparison[:10]:\n",
    "    print(out)"
   ]
  },
  {
   "cell_type": "code",
   "execution_count": 4,
   "metadata": {},
   "outputs": [
    {
     "name": "stdout",
     "output_type": "stream",
     "text": [
      "Train Sizes\n",
      "1s 1120\n",
      "1ns 14\n",
      "0s 33\n",
      "0ns 12510\n",
      "\n",
      "Val Sizes\n",
      "1s 34\n",
      "1ns 2\n",
      "0s 2\n",
      "0ns 537\n"
     ]
    }
   ],
   "source": [
    "# For a tuple, check the split sizes\n",
    "\n",
    "spurious = 'airplane'\n",
    "\n",
    "print('Train Sizes')\n",
    "splits = coco.get_splits_words(label1, label2, spurious)\n",
    "for key in splits:\n",
    "    print(key, len(splits[key]))\n",
    "print()\n",
    "\n",
    "\n",
    "coco_val = COCOWrapper(mode = 'val')\n",
    "coco_val.setup_caption_maps()\n",
    "\n",
    "print('Val Sizes')\n",
    "splits = coco_val.get_splits_words(label1, label2, spurious)\n",
    "for key in splits:\n",
    "    print(key, len(splits[key]))\n"
   ]
  },
  {
   "cell_type": "code",
   "execution_count": null,
   "metadata": {},
   "outputs": [],
   "source": []
  }
 ],
 "metadata": {
  "kernelspec": {
   "display_name": "Python [conda env:countervision]",
   "language": "python",
   "name": "conda-env-countervision-py"
  },
  "language_info": {
   "codemirror_mode": {
    "name": "ipython",
    "version": 3
   },
   "file_extension": ".py",
   "mimetype": "text/x-python",
   "name": "python",
   "nbconvert_exporter": "python",
   "pygments_lexer": "ipython3",
   "version": "3.7.9"
  }
 },
 "nbformat": 4,
 "nbformat_minor": 4
}
