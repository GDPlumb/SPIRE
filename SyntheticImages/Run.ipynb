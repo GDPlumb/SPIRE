{
 "cells": [
  {
   "cell_type": "code",
   "execution_count": 1,
   "metadata": {},
   "outputs": [],
   "source": [
    "mode = 3\n",
    "\n",
    "n = 10000\n",
    "p = 0.9\n",
    "\n",
    "n_neutral = 200"
   ]
  },
  {
   "cell_type": "code",
   "execution_count": 2,
   "metadata": {},
   "outputs": [],
   "source": [
    "import matplotlib.pyplot as plt\n",
    "import numpy as np\n",
    "import sys\n",
    "import tensorflow as tf\n",
    "\n",
    "if mode == 1:\n",
    "    from Heuristics import heuristic_1 as heuristic\n",
    "    from Sample import sample_1 as sample\n",
    "elif mode == 2:\n",
    "    from Heuristics import heuristic_2 as heuristic\n",
    "    from Sample import sample_2 as sample\n",
    "elif mode == 3:\n",
    "    from Heuristics import heuristic_3 as heuristic\n",
    "    from Sample import sample_3 as sample\n",
    "\n",
    "from Explore import explore\n",
    "from Heuristics import augment\n",
    "from Load import load\n",
    "from Model import get_model, loss\n",
    "\n",
    "from Core import acc\n",
    "from Train import train"
   ]
  },
  {
   "cell_type": "code",
   "execution_count": 3,
   "metadata": {},
   "outputs": [],
   "source": [
    "# Create the datasets\n",
    "\n",
    "X_train, X_val, X_test, X_neutral, Y_train, Y_val, Y_test, Y_neutral, meta_train, meta_val, meta_test = \\\n",
    "load(sample, n, p, n_neutral)"
   ]
  },
  {
   "cell_type": "code",
   "execution_count": 4,
   "metadata": {},
   "outputs": [
    {
     "name": "stdout",
     "output_type": "stream",
     "text": [
      "Epoch / Epoch Train Loss / Val Loss: 0 0.43362278 0.3728675 -> saving\n",
      "Epoch / Epoch Train Loss / Val Loss: 1 0.35454947 0.3535472 -> saving\n",
      "Epoch / Epoch Train Loss / Val Loss: 2 0.33459717 0.3621421\n",
      "Epoch / Epoch Train Loss / Val Loss: 3 0.32952872 0.34576675 -> saving\n",
      "Epoch / Epoch Train Loss / Val Loss: 4 0.31789893 0.34538674 -> saving\n",
      "Epoch / Epoch Train Loss / Val Loss: 5 0.31199384 0.37387207\n",
      "Epoch / Epoch Train Loss / Val Loss: 6 0.30578426 0.3426369 -> saving\n",
      "Epoch / Epoch Train Loss / Val Loss: 7 0.2865105 0.36058974\n",
      "Epoch / Epoch Train Loss / Val Loss: 8 0.2832491 0.33934048 -> saving\n",
      "Epoch / Epoch Train Loss / Val Loss: 9 0.2653888 0.36376378\n",
      "Epoch / Epoch Train Loss / Val Loss: 10 0.26309615 0.33927724\n",
      "Epoch / Epoch Train Loss / Val Loss: 11 0.25177592 0.36340228\n",
      "Dropping learning_rate\n",
      "Epoch / Epoch Train Loss / Val Loss: 12 0.20525816 0.3070525 -> saving\n",
      "Epoch / Epoch Train Loss / Val Loss: 13 0.19018124 0.3544944\n",
      "Epoch / Epoch Train Loss / Val Loss: 14 0.18580276 0.3236727\n",
      "Epoch / Epoch Train Loss / Val Loss: 15 0.1800365 0.4435232\n",
      "Dropping learning_rate\n",
      "Epoch / Epoch Train Loss / Val Loss: 16 0.16429643 0.31231108\n",
      "Dropping learning_rate\n",
      "Epoch / Epoch Train Loss / Val Loss: 17 0.15930215 0.3529206\n",
      "Dropping learning_rate\n",
      "Epoch / Epoch Train Loss / Val Loss: 18 0.15776682 0.34250546\n",
      "Dropping learning_rate\n",
      "Epoch / Epoch Train Loss / Val Loss: 19 0.15513375 0.34270707\n",
      "\n",
      "Training Distribution Test Acc:  0.9096\n",
      "Neutral Distribution Test Acc:  0.545\n"
     ]
    }
   ],
   "source": [
    "# Train a model on the 'bad' dataset and evaluate on both\n",
    "\n",
    "model = get_model()\n",
    "train(model, loss, X_train, Y_train, X_val, Y_val, \"Models/original\")\n",
    "print()\n",
    "print(\"Training Distribution Test Acc: \", acc(model, X_test, Y_test))\n",
    "print(\"Neutral Distribution Test Acc: \", acc(model, X_neutral, Y_neutral))"
   ]
  },
  {
   "cell_type": "code",
   "execution_count": 5,
   "metadata": {
    "scrolled": false
   },
   "outputs": [
    {
     "name": "stdout",
     "output_type": "stream",
     "text": [
      "\n",
      "4\n"
     ]
    },
    {
     "data": {
      "image/png": "[encoded data removed]",
      "text/plain": [
       "<Figure size 432x288 with 1 Axes>"
      ]
     },
     "metadata": {
      "needs_background": "light"
     },
     "output_type": "display_data"
    },
    {
     "name": "stdout",
     "output_type": "stream",
     "text": [
      "Initial Prediction:  [[ True]]\n"
     ]
    },
    {
     "data": {
      "image/png": "[encoded data removed]",
      "text/plain": [
       "<Figure size 432x288 with 1 Axes>"
      ]
     },
     "metadata": {
      "needs_background": "light"
     },
     "output_type": "display_data"
    },
    {
     "name": "stdout",
     "output_type": "stream",
     "text": [
      "New Prediction:  [[False]]\n",
      "\n",
      "\n",
      "6\n"
     ]
    },
    {
     "data": {
      "image/png": "[encoded data removed]",
      "text/plain": [
       "<Figure size 432x288 with 1 Axes>"
      ]
     },
     "metadata": {
      "needs_background": "light"
     },
     "output_type": "display_data"
    },
    {
     "name": "stdout",
     "output_type": "stream",
     "text": [
      "Initial Prediction:  [[ True]]\n"
     ]
    },
    {
     "data": {
      "image/png": "[encoded data removed]",
      "text/plain": [
       "<Figure size 432x288 with 1 Axes>"
      ]
     },
     "metadata": {
      "needs_background": "light"
     },
     "output_type": "display_data"
    },
    {
     "name": "stdout",
     "output_type": "stream",
     "text": [
      "New Prediction:  [[False]]\n",
      "\n",
      "\n",
      "10\n"
     ]
    },
    {
     "data": {
      "image/png": "[encoded data removed]",
      "text/plain": [
       "<Figure size 432x288 with 1 Axes>"
      ]
     },
     "metadata": {
      "needs_background": "light"
     },
     "output_type": "display_data"
    },
    {
     "name": "stdout",
     "output_type": "stream",
     "text": [
      "Initial Prediction:  [[ True]]\n"
     ]
    },
    {
     "data": {
      "image/png": "[encoded data removed]",
      "text/plain": [
       "<Figure size 432x288 with 1 Axes>"
      ]
     },
     "metadata": {
      "needs_background": "light"
     },
     "output_type": "display_data"
    },
    {
     "name": "stdout",
     "output_type": "stream",
     "text": [
      "New Prediction:  [[False]]\n",
      "\n",
      "Hit max_display\n"
     ]
    }
   ],
   "source": [
    "# Check the heuristic's effectiveness\n",
    "\n",
    "model.load_weights(\"Models/original\")\n",
    "explore(model, X_train, Y_train, meta_train, heuristic)"
   ]
  },
  {
   "cell_type": "code",
   "execution_count": 6,
   "metadata": {},
   "outputs": [],
   "source": [
    "# Augment the training dataset using the heuristic\n",
    "\n",
    "X_train_aug, Y_train_aug = augment(X_train, Y_train, meta_train, heuristic)\n",
    "X_val_aug, Y_val_aug = augment(X_val, Y_val, meta_val, heuristic)"
   ]
  },
  {
   "cell_type": "code",
   "execution_count": 7,
   "metadata": {},
   "outputs": [
    {
     "name": "stdout",
     "output_type": "stream",
     "text": [
      "Epoch / Epoch Train Loss / Val Loss: 0 0.4850363 0.5277232 -> saving\n",
      "Epoch / Epoch Train Loss / Val Loss: 1 0.4415842 0.495459 -> saving\n",
      "Epoch / Epoch Train Loss / Val Loss: 2 0.40040374 0.4836794 -> saving\n",
      "Epoch / Epoch Train Loss / Val Loss: 3 0.34750256 0.45388636 -> saving\n",
      "Epoch / Epoch Train Loss / Val Loss: 4 0.2915159 0.36920536 -> saving\n",
      "Epoch / Epoch Train Loss / Val Loss: 5 0.24290901 0.37327698\n",
      "Epoch / Epoch Train Loss / Val Loss: 6 0.21036395 0.3233716 -> saving\n",
      "Epoch / Epoch Train Loss / Val Loss: 7 0.1813694 0.28765294 -> saving\n",
      "Epoch / Epoch Train Loss / Val Loss: 8 0.15990785 0.28155714 -> saving\n",
      "Epoch / Epoch Train Loss / Val Loss: 9 0.12692833 0.28632554\n",
      "Epoch / Epoch Train Loss / Val Loss: 10 0.11343573 0.30774745\n",
      "Epoch / Epoch Train Loss / Val Loss: 11 0.10011043 0.23857713 -> saving\n",
      "Epoch / Epoch Train Loss / Val Loss: 12 0.10111649 0.2543281\n",
      "Epoch / Epoch Train Loss / Val Loss: 13 0.07411732 0.31677458\n",
      "Epoch / Epoch Train Loss / Val Loss: 14 0.0740876 0.35805246\n",
      "Dropping learning_rate\n",
      "Epoch / Epoch Train Loss / Val Loss: 15 0.03968875 0.21786804 -> saving\n",
      "Epoch / Epoch Train Loss / Val Loss: 16 0.033321023 0.23970269\n",
      "Epoch / Epoch Train Loss / Val Loss: 17 0.025237136 0.23793744\n",
      "Epoch / Epoch Train Loss / Val Loss: 18 0.021561906 0.24751088\n",
      "Dropping learning_rate\n",
      "Epoch / Epoch Train Loss / Val Loss: 19 0.016761683 0.24226907\n",
      "Dropping learning_rate\n",
      "Epoch / Epoch Train Loss / Val Loss: 20 0.014370864 0.22608303\n",
      "Dropping learning_rate\n",
      "Epoch / Epoch Train Loss / Val Loss: 21 0.013571338 0.22722922\n",
      "Dropping learning_rate\n",
      "Epoch / Epoch Train Loss / Val Loss: 22 0.013179716 0.2281767\n",
      "\n",
      "Training Distribution Test Acc:  0.9544\n",
      "Neutral Distribution Test Acc:  0.905\n"
     ]
    }
   ],
   "source": [
    "# Fine-tune the model on the augmented data\n",
    "\n",
    "model.load_weights(\"Models/original\")\n",
    "train(model, loss, X_train_aug, Y_train_aug, X_val_aug, Y_val_aug, \"Models/new\")\n",
    "print()\n",
    "print(\"Training Distribution Test Acc: \", acc(model, X_test, Y_test))\n",
    "print(\"Neutral Distribution Test Acc: \", acc(model, X_neutral, Y_neutral))"
   ]
  },
  {
   "cell_type": "code",
   "execution_count": 8,
   "metadata": {
    "scrolled": false
   },
   "outputs": [
    {
     "name": "stdout",
     "output_type": "stream",
     "text": [
      "Searching Training Set\n",
      "\n",
      "42\n"
     ]
    },
    {
     "data": {
      "image/png": "[encoded data removed]",
      "text/plain": [
       "<Figure size 432x288 with 1 Axes>"
      ]
     },
     "metadata": {
      "needs_background": "light"
     },
     "output_type": "display_data"
    },
    {
     "name": "stdout",
     "output_type": "stream",
     "text": [
      "Initial Prediction:  [[False]]\n"
     ]
    },
    {
     "data": {
      "image/png": "[encoded data removed]",
      "text/plain": [
       "<Figure size 432x288 with 1 Axes>"
      ]
     },
     "metadata": {
      "needs_background": "light"
     },
     "output_type": "display_data"
    },
    {
     "name": "stdout",
     "output_type": "stream",
     "text": [
      "New Prediction:  [[ True]]\n",
      "\n",
      "Searched  100  images\n",
      "Searching Testing Set\n",
      "\n",
      "34\n"
     ]
    },
    {
     "data": {
      "image/png": "[encoded data removed]",
      "text/plain": [
       "<Figure size 432x288 with 1 Axes>"
      ]
     },
     "metadata": {
      "needs_background": "light"
     },
     "output_type": "display_data"
    },
    {
     "name": "stdout",
     "output_type": "stream",
     "text": [
      "Initial Prediction:  [[False]]\n"
     ]
    },
    {
     "data": {
      "image/png": "[encoded data removed]",
      "text/plain": [
       "<Figure size 432x288 with 1 Axes>"
      ]
     },
     "metadata": {
      "needs_background": "light"
     },
     "output_type": "display_data"
    },
    {
     "name": "stdout",
     "output_type": "stream",
     "text": [
      "New Prediction:  [[ True]]\n",
      "\n",
      "\n",
      "44\n"
     ]
    },
    {
     "data": {
      "image/png": "[encoded data removed]",
      "text/plain": [
       "<Figure size 432x288 with 1 Axes>"
      ]
     },
     "metadata": {
      "needs_background": "light"
     },
     "output_type": "display_data"
    },
    {
     "name": "stdout",
     "output_type": "stream",
     "text": [
      "Initial Prediction:  [[False]]\n"
     ]
    },
    {
     "data": {
      "image/png": "[encoded data removed]",
      "text/plain": [
       "<Figure size 432x288 with 1 Axes>"
      ]
     },
     "metadata": {
      "needs_background": "light"
     },
     "output_type": "display_data"
    },
    {
     "name": "stdout",
     "output_type": "stream",
     "text": [
      "New Prediction:  [[ True]]\n",
      "\n",
      "\n",
      "57\n"
     ]
    },
    {
     "data": {
      "image/png": "[encoded data removed]",
      "text/plain": [
       "<Figure size 432x288 with 1 Axes>"
      ]
     },
     "metadata": {
      "needs_background": "light"
     },
     "output_type": "display_data"
    },
    {
     "name": "stdout",
     "output_type": "stream",
     "text": [
      "Initial Prediction:  [[ True]]\n"
     ]
    },
    {
     "data": {
      "image/png": "[encoded data removed]",
      "text/plain": [
       "<Figure size 432x288 with 1 Axes>"
      ]
     },
     "metadata": {
      "needs_background": "light"
     },
     "output_type": "display_data"
    },
    {
     "name": "stdout",
     "output_type": "stream",
     "text": [
      "New Prediction:  [[False]]\n",
      "\n",
      "Hit max_display\n"
     ]
    }
   ],
   "source": [
    "# Check the heuristic's effectiveness on the new model\n",
    "\n",
    "model.load_weights(\"Models/new\")\n",
    "print(\"Searching Training Set\")\n",
    "explore(model, X_train, Y_train, meta_train, heuristic)\n",
    "print(\"Searching Testing Set\")\n",
    "explore(model, X_test, Y_test, meta_test, heuristic)"
   ]
  },
  {
   "cell_type": "code",
   "execution_count": null,
   "metadata": {},
   "outputs": [],
   "source": []
  }
 ],
 "metadata": {
  "kernelspec": {
   "display_name": "Python [conda env:countervision]",
   "language": "python",
   "name": "conda-env-countervision-py"
  },
  "language_info": {
   "codemirror_mode": {
    "name": "ipython",
    "version": 3
   },
   "file_extension": ".py",
   "mimetype": "text/x-python",
   "name": "python",
   "nbconvert_exporter": "python",
   "pygments_lexer": "ipython3",
   "version": "3.7.7"
  }
 },
 "nbformat": 4,
 "nbformat_minor": 4
}
