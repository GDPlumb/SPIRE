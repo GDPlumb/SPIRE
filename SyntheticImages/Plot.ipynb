{
 "cells": [
  {
   "cell_type": "code",
   "execution_count": 1,
   "metadata": {},
   "outputs": [],
   "source": [
    "\n",
    "import matplotlib.pyplot as plt\n",
    "import numpy as np\n",
    "import pandas as pd"
   ]
  },
  {
   "cell_type": "code",
   "execution_count": 2,
   "metadata": {},
   "outputs": [],
   "source": [
    "# Show the plots of accuracy (original/retrained model on the training/neutral distributions)\n",
    "# vs the number of samples (n) and the strength of the spurious correlation (p)\n",
    "\n",
    "for i in range(3):\n",
    "    name = \"Run-\" + str(i + 1) + \"-n&p\"\n",
    "\n",
    "    data = pd.read_csv(name + \".csv\")\n",
    "    data.columns = [\"n\", \"p\", \"Original Model on Training Distribution\", \"Original Model on Neutral Distribution\", \"Augmented Model on Training Distribution\", \"Augmented Model on Neutral Distribution\"]\n",
    "\n",
    "    fig = plt.figure(figsize=(15, 15))\n",
    "    fig.subplots_adjust(hspace=0.4, wspace=0.2)\n",
    "    \n",
    "    fig.suptitle(\"Test Accuracy Comparison\")\n",
    "\n",
    "    c = 1\n",
    "    for var in [\"Original Model on Training Distribution\",\\\n",
    "                \"Original Model on Neutral Distribution\", \\\n",
    "                (\"Original Model on Training Distribution\", \"Original Model on Neutral Distribution\"), \\\n",
    "                \"Augmented Model on Training Distribution\", \\\n",
    "                \"Augmented Model on Neutral Distribution\", \\\n",
    "               (\"Augmented Model on Training Distribution\", \"Augmented Model on Neutral Distribution\"), \\\n",
    "               (\"Original Model on Training Distribution\", \"Augmented Model on Training Distribution\"), \\\n",
    "               (\"Original Model on Neutral Distribution\",  \"Augmented Model on Neutral Distribution\")]:\n",
    "        plt.subplot(3, 3, c)\n",
    "        for label, df in data.groupby(\"p\"):\n",
    "            if type(var) == str:\n",
    "                plt.plot(df[\"n\"], df[var], label = label)\n",
    "            elif type(var) == tuple:\n",
    "                plt.plot(df[\"n\"], df[var[1]] - df[var[0]], label = label)\n",
    "        if type(var) == str:\n",
    "            plt.title(var)\n",
    "        elif type(var) == tuple:\n",
    "            plt.title(\"Difference\")\n",
    "        plt.xlabel(\"n\")\n",
    "        plt.ylabel(\"Accuracy\")\n",
    "        if c == 1:\n",
    "            plt.legend(title = \"p\")\n",
    "        c += 1\n",
    "\n",
    "    plt.savefig(name + \".png\")\n",
    "    plt.close()\n",
    "\n"
   ]
  },
  {
   "cell_type": "code",
   "execution_count": null,
   "metadata": {},
   "outputs": [],
   "source": []
  }
 ],
 "metadata": {
  "kernelspec": {
   "display_name": "Python [conda env:countervision]",
   "language": "python",
   "name": "conda-env-countervision-py"
  },
  "language_info": {
   "codemirror_mode": {
    "name": "ipython",
    "version": 3
   },
   "file_extension": ".py",
   "mimetype": "text/x-python",
   "name": "python",
   "nbconvert_exporter": "python",
   "pygments_lexer": "ipython3",
   "version": "3.7.7"
  }
 },
 "nbformat": 4,
 "nbformat_minor": 4
}
