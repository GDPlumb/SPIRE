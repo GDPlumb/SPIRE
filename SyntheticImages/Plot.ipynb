{
 "cells": [
  {
   "cell_type": "code",
   "execution_count": 1,
   "metadata": {},
   "outputs": [],
   "source": [
    "\n",
    "import matplotlib.pyplot as plt\n",
    "import numpy as np\n",
    "import pandas as pd"
   ]
  },
  {
   "cell_type": "code",
   "execution_count": 2,
   "metadata": {},
   "outputs": [],
   "source": [
    "# Show the plots of accuracy (original/retrained model on the training/neutral distributions)\n",
    "# vs the number of samples (n) and the strength of the spurious correlation (p)\n",
    "\n",
    "for i in range(3):\n",
    "    name = \"Run-\" + str(i + 1) + \"-n&p\"\n",
    "\n",
    "    data = pd.read_csv(name + \".csv\")\n",
    "    data.columns = [\"n\", \"p\", \"Original - Test\", \"Original - Neutral\", \"New - Test\", \"New - Neutral\"]\n",
    "\n",
    "    fig = plt.figure(figsize=(15, 9))\n",
    "    fig.subplots_adjust(hspace=0.4, wspace=0.2)\n",
    "\n",
    "    c = 1\n",
    "    for var in [\"Original - Test\", \"Original - Neutral\", \"New - Test\", \"New - Neutral\"]:\n",
    "        plt.subplot(3, 2, c)\n",
    "        for label, df in data.groupby(\"p\"):\n",
    "            plt.plot(df[\"n\"], df[var], label = label)\n",
    "        plt.title(var)\n",
    "        plt.xlabel(\"n\")\n",
    "        plt.ylabel(\"Accuracy\")\n",
    "        plt.legend(title = \"p\")\n",
    "        c += 1\n",
    "\n",
    "    for var in [(\"Original - Test\", \"New - Test\"), (\"Original - Neutral\", \"New - Neutral\")]:\n",
    "        plt.subplot(3, 2, c)\n",
    "        for label, df in data.groupby(\"p\"):\n",
    "            plt.plot(df[\"n\"], df[var[1]] - df[var[0]], label = label)\n",
    "        plt.title(var[1] + \" - \" + var[0])\n",
    "        plt.xlabel(\"n\")\n",
    "        plt.ylabel(\"Accuracy\")\n",
    "        plt.legend(title = \"p\")\n",
    "        c += 1\n",
    "\n",
    "    plt.savefig(name + \".pdf\")\n",
    "    plt.close()\n",
    "\n"
   ]
  },
  {
   "cell_type": "code",
   "execution_count": null,
   "metadata": {},
   "outputs": [],
   "source": []
  }
 ],
 "metadata": {
  "kernelspec": {
   "display_name": "Python [conda env:countervision]",
   "language": "python",
   "name": "conda-env-countervision-py"
  },
  "language_info": {
   "codemirror_mode": {
    "name": "ipython",
    "version": 3
   },
   "file_extension": ".py",
   "mimetype": "text/x-python",
   "name": "python",
   "nbconvert_exporter": "python",
   "pygments_lexer": "ipython3",
   "version": "3.7.7"
  }
 },
 "nbformat": 4,
 "nbformat_minor": 4
}
