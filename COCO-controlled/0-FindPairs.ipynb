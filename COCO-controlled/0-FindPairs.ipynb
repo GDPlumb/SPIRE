{
 "cells": [
  {
   "cell_type": "code",
   "execution_count": 1,
   "metadata": {},
   "outputs": [],
   "source": [
    "\n",
    "import sys\n",
    "sys.path.insert(0, '../Common/')\n",
    "from COCOHelper import get_pair\n",
    "from COCOWrapper import COCOWrapper\n",
    "\n",
    "threshold = 100\n",
    "\n",
    "coco = COCOWrapper()\n"
   ]
  },
  {
   "cell_type": "code",
   "execution_count": 2,
   "metadata": {},
   "outputs": [
    {
     "name": "stdout",
     "output_type": "stream",
     "text": [
      "person car\n",
      "person bottle\n",
      "person cup\n",
      "person bowl\n",
      "person chair\n",
      "person dining table\n",
      "bottle cup\n",
      "bottle dining table\n",
      "cup bowl\n",
      "cup chair\n",
      "cup dining table\n",
      "bowl dining table\n",
      "chair dining table\n"
     ]
    }
   ],
   "source": [
    "# Find all of the object pairs with at least 'threshold' images per split\n",
    "# Note:  the pairs are unordered, so either object could be chosen as Main\n",
    "\n",
    "names = []\n",
    "for cat in coco.cats:\n",
    "    names.append(cat['name'])\n",
    "n = len(names)\n",
    "\n",
    "for i in range(n):\n",
    "    main = names[i]\n",
    "    for j in range(i + 1, n):\n",
    "        spurious = names[j]\n",
    "\n",
    "        both, just_main, just_spurious, neither = get_pair(coco, main, spurious)\n",
    "        if len(both) > threshold and len(just_main) > threshold and len(just_spurious) > threshold:\n",
    "            print(main, spurious)"
   ]
  }
 ],
 "metadata": {
  "kernelspec": {
   "display_name": "Python [conda env:countervision]",
   "language": "python",
   "name": "conda-env-countervision-py"
  },
  "language_info": {
   "codemirror_mode": {
    "name": "ipython",
    "version": 3
   },
   "file_extension": ".py",
   "mimetype": "text/x-python",
   "name": "python",
   "nbconvert_exporter": "python",
   "pygments_lexer": "ipython3",
   "version": "3.7.9"
  }
 },
 "nbformat": 4,
 "nbformat_minor": 4
}
